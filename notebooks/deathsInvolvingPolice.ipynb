{
 "cells": [
  {
   "cell_type": "code",
   "execution_count": 553,
   "id": "initial_id",
   "metadata": {
    "collapsed": true,
    "ExecuteTime": {
     "end_time": "2024-05-03T20:11:26.795724500Z",
     "start_time": "2024-05-03T20:11:26.701643700Z"
    }
   },
   "outputs": [],
   "source": [
    "import pandas\n",
    "import pandas as pd\n",
    "import matplotlib.pyplot as plt\n",
    "import pandas as pd\n",
    "import seaborn as sns\n",
    "import plotly.graph_objects as go"
   ]
  },
  {
   "cell_type": "code",
   "outputs": [],
   "source": [
    "data_police_shooting = pandas.read_csv('policeShootingsData.csv')"
   ],
   "metadata": {
    "collapsed": false,
    "ExecuteTime": {
     "end_time": "2024-05-03T20:11:27.627621Z",
     "start_time": "2024-05-03T20:11:27.450317800Z"
    }
   },
   "id": "eb7fe01bafd2d6d8",
   "execution_count": 554
  },
  {
   "cell_type": "code",
   "outputs": [],
   "source": [
    "df_police_shooting = pandas.DataFrame(data_police_shooting)"
   ],
   "metadata": {
    "collapsed": false,
    "ExecuteTime": {
     "end_time": "2024-05-03T20:11:28.225366500Z",
     "start_time": "2024-05-03T20:11:28.091294900Z"
    }
   },
   "id": "3747c694c4119973",
   "execution_count": 555
  },
  {
   "cell_type": "code",
   "outputs": [
    {
     "data": {
      "text/plain": "         date                name   age gender    armed      race     city  \\\n0  2015-01-02    Lewis Lee Lembke  47.0   male      gun     White    Aloha   \n1  2015-01-02          Tim Elliot  53.0   male      gun     Asian  Shelton   \n2  2015-01-03  John Paul Quintero  23.0   male  unarmed  Hispanic  Wichita   \n3  2015-01-04   Kenneth Joe Brown  18.0   male      gun     White  Guthrie   \n4  2015-01-04   Michael Rodriguez  39.0   male    other  Hispanic    Evans   \n\n  state flee  body_camera  signs_of_mental_illness  \\\n0    OR  not        False                    False   \n1    WA  not        False                     True   \n2    KS  not        False                    False   \n3    OK  not        False                    False   \n4    CO  not        False                    False   \n\n              police_departments_involved  \n0  Washington County Sheriff's Office, OR  \n1       Mason County Sheriff's Office, WA  \n2           Wichita Police Department, KS  \n3             Oklahoma Highway Patrol, OK  \n4             Evans Police Department, CO  ",
      "text/html": "<div>\n<style scoped>\n    .dataframe tbody tr th:only-of-type {\n        vertical-align: middle;\n    }\n\n    .dataframe tbody tr th {\n        vertical-align: top;\n    }\n\n    .dataframe thead th {\n        text-align: right;\n    }\n</style>\n<table border=\"1\" class=\"dataframe\">\n  <thead>\n    <tr style=\"text-align: right;\">\n      <th></th>\n      <th>date</th>\n      <th>name</th>\n      <th>age</th>\n      <th>gender</th>\n      <th>armed</th>\n      <th>race</th>\n      <th>city</th>\n      <th>state</th>\n      <th>flee</th>\n      <th>body_camera</th>\n      <th>signs_of_mental_illness</th>\n      <th>police_departments_involved</th>\n    </tr>\n  </thead>\n  <tbody>\n    <tr>\n      <th>0</th>\n      <td>2015-01-02</td>\n      <td>Lewis Lee Lembke</td>\n      <td>47.0</td>\n      <td>male</td>\n      <td>gun</td>\n      <td>White</td>\n      <td>Aloha</td>\n      <td>OR</td>\n      <td>not</td>\n      <td>False</td>\n      <td>False</td>\n      <td>Washington County Sheriff's Office, OR</td>\n    </tr>\n    <tr>\n      <th>1</th>\n      <td>2015-01-02</td>\n      <td>Tim Elliot</td>\n      <td>53.0</td>\n      <td>male</td>\n      <td>gun</td>\n      <td>Asian</td>\n      <td>Shelton</td>\n      <td>WA</td>\n      <td>not</td>\n      <td>False</td>\n      <td>True</td>\n      <td>Mason County Sheriff's Office, WA</td>\n    </tr>\n    <tr>\n      <th>2</th>\n      <td>2015-01-03</td>\n      <td>John Paul Quintero</td>\n      <td>23.0</td>\n      <td>male</td>\n      <td>unarmed</td>\n      <td>Hispanic</td>\n      <td>Wichita</td>\n      <td>KS</td>\n      <td>not</td>\n      <td>False</td>\n      <td>False</td>\n      <td>Wichita Police Department, KS</td>\n    </tr>\n    <tr>\n      <th>3</th>\n      <td>2015-01-04</td>\n      <td>Kenneth Joe Brown</td>\n      <td>18.0</td>\n      <td>male</td>\n      <td>gun</td>\n      <td>White</td>\n      <td>Guthrie</td>\n      <td>OK</td>\n      <td>not</td>\n      <td>False</td>\n      <td>False</td>\n      <td>Oklahoma Highway Patrol, OK</td>\n    </tr>\n    <tr>\n      <th>4</th>\n      <td>2015-01-04</td>\n      <td>Michael Rodriguez</td>\n      <td>39.0</td>\n      <td>male</td>\n      <td>other</td>\n      <td>Hispanic</td>\n      <td>Evans</td>\n      <td>CO</td>\n      <td>not</td>\n      <td>False</td>\n      <td>False</td>\n      <td>Evans Police Department, CO</td>\n    </tr>\n  </tbody>\n</table>\n</div>"
     },
     "execution_count": 556,
     "metadata": {},
     "output_type": "execute_result"
    }
   ],
   "source": [
    "df_police_shooting.head()"
   ],
   "metadata": {
    "collapsed": false,
    "ExecuteTime": {
     "end_time": "2024-05-03T20:11:28.626324400Z",
     "start_time": "2024-05-03T20:11:28.537867900Z"
    }
   },
   "id": "a01d792add1b18e4",
   "execution_count": 556
  },
  {
   "cell_type": "code",
   "outputs": [
    {
     "data": {
      "text/plain": "(9570, 12)"
     },
     "execution_count": 557,
     "metadata": {},
     "output_type": "execute_result"
    }
   ],
   "source": [
    "df_police_shooting.shape"
   ],
   "metadata": {
    "collapsed": false,
    "ExecuteTime": {
     "end_time": "2024-05-03T20:11:30.698109200Z",
     "start_time": "2024-05-03T20:11:30.612142Z"
    }
   },
   "id": "92c486c528ae5ab0",
   "execution_count": 557
  },
  {
   "cell_type": "markdown",
   "source": [
    "Verteilung der Morde nach Staaten"
   ],
   "metadata": {
    "collapsed": false
   },
   "id": "609c9f4858c12653"
  },
  {
   "cell_type": "code",
   "outputs": [
    {
     "data": {
      "text/plain": "pandas.core.series.Series"
     },
     "execution_count": 558,
     "metadata": {},
     "output_type": "execute_result"
    }
   ],
   "source": [
    "df_most_kills_states = df_police_shooting[\"state\"].value_counts()[:10]\n",
    "type(df_most_kills_states)"
   ],
   "metadata": {
    "collapsed": false,
    "ExecuteTime": {
     "end_time": "2024-05-03T20:11:34.999339600Z",
     "start_time": "2024-05-03T20:11:34.910774800Z"
    }
   },
   "id": "ac51ca39f7c89136",
   "execution_count": 558
  },
  {
   "cell_type": "markdown",
   "source": [],
   "metadata": {
    "collapsed": false
   },
   "id": "b7808f596a0565c4"
  },
  {
   "cell_type": "markdown",
   "source": [],
   "metadata": {
    "collapsed": false
   },
   "id": "b507bdde04c37b2c"
  },
  {
   "cell_type": "code",
   "outputs": [],
   "source": [
    "df_most_kills_states = df_police_shooting[\"state\"].value_counts()[:10]"
   ],
   "metadata": {
    "collapsed": false,
    "ExecuteTime": {
     "end_time": "2024-05-03T20:12:06.513988700Z",
     "start_time": "2024-05-03T20:12:06.350229300Z"
    }
   },
   "id": "c0a415d7cda1aee0",
   "execution_count": 559
  },
  {
   "cell_type": "code",
   "outputs": [],
   "source": [
    "df_most_kills_states = pandas.DataFrame(df_most_kills_states)"
   ],
   "metadata": {
    "collapsed": false,
    "ExecuteTime": {
     "end_time": "2024-05-03T20:12:07.577673600Z",
     "start_time": "2024-05-03T20:12:07.492275100Z"
    }
   },
   "id": "863b248f4cda0306",
   "execution_count": 560
  },
  {
   "cell_type": "code",
   "outputs": [],
   "source": [
    "df_most_kills_states.columns = [\"Number of Kills\"]"
   ],
   "metadata": {
    "collapsed": false,
    "ExecuteTime": {
     "end_time": "2024-05-03T20:12:08.510674200Z",
     "start_time": "2024-05-03T20:12:08.427201900Z"
    }
   },
   "id": "14af9bcd11e8842b",
   "execution_count": 561
  },
  {
   "cell_type": "code",
   "outputs": [],
   "source": [
    "other_states_kills_data = {\"Other\" : other_states_with_not_so_much_kills.sum()\n",
    "}\n",
    "\n",
    "other_states_kills_series = pd.Series([other_states_with_not_so_much_kills.sum()], index=[\"Other\"])"
   ],
   "metadata": {
    "collapsed": false,
    "ExecuteTime": {
     "end_time": "2024-05-03T20:14:01.213732700Z",
     "start_time": "2024-05-03T20:14:01.155618900Z"
    }
   },
   "id": "787d9f46078233ef",
   "execution_count": 564
  },
  {
   "cell_type": "code",
   "outputs": [
    {
     "data": {
      "text/plain": "       count\nOther   4521",
      "text/html": "<div>\n<style scoped>\n    .dataframe tbody tr th:only-of-type {\n        vertical-align: middle;\n    }\n\n    .dataframe tbody tr th {\n        vertical-align: top;\n    }\n\n    .dataframe thead th {\n        text-align: right;\n    }\n</style>\n<table border=\"1\" class=\"dataframe\">\n  <thead>\n    <tr style=\"text-align: right;\">\n      <th></th>\n      <th>count</th>\n    </tr>\n  </thead>\n  <tbody>\n    <tr>\n      <th>Other</th>\n      <td>4521</td>\n    </tr>\n  </tbody>\n</table>\n</div>"
     },
     "execution_count": 567,
     "metadata": {},
     "output_type": "execute_result"
    }
   ],
   "source": [
    "other_states_kill_df = pd.DataFrame.from_dict(other_states_kills_data, orient=\"index\", columns=[\"count\"])\n",
    "other_states_kill_df"
   ],
   "metadata": {
    "collapsed": false,
    "ExecuteTime": {
     "end_time": "2024-05-03T20:14:43.164838900Z",
     "start_time": "2024-05-03T20:14:42.979716200Z"
    }
   },
   "id": "e0430c7b52f171a9",
   "execution_count": 567
  },
  {
   "cell_type": "code",
   "outputs": [],
   "source": [
    "other_states_kill_df.columns = [\"Number of Kills\"]"
   ],
   "metadata": {
    "collapsed": false,
    "ExecuteTime": {
     "end_time": "2024-05-03T20:14:16.539769400Z",
     "start_time": "2024-05-03T20:14:16.511464600Z"
    }
   },
   "id": "7b20d207ccdbbfcb",
   "execution_count": 566
  },
  {
   "cell_type": "code",
   "outputs": [
    {
     "data": {
      "text/plain": "4521"
     },
     "execution_count": 118,
     "metadata": {},
     "output_type": "execute_result"
    }
   ],
   "source": [
    "other_states_kills = df_police_shooting[\"state\"].value_counts()[10:]\n",
    "other_states_kills.values.sum()"
   ],
   "metadata": {
    "collapsed": false,
    "ExecuteTime": {
     "end_time": "2024-05-02T17:18:32.837338800Z",
     "start_time": "2024-05-02T17:18:32.785053Z"
    }
   },
   "id": "10390295c787953b",
   "execution_count": 118
  },
  {
   "cell_type": "code",
   "outputs": [
    {
     "data": {
      "text/plain": "       Number of Kills\nstate                 \nCA                1327\nTX                 907\nFL                 610\nAZ                 428\nGA                 361\nCO                 343\nNC                 277\nTN                 269\nOH                 269\nWA                 258",
      "text/html": "<div>\n<style scoped>\n    .dataframe tbody tr th:only-of-type {\n        vertical-align: middle;\n    }\n\n    .dataframe tbody tr th {\n        vertical-align: top;\n    }\n\n    .dataframe thead th {\n        text-align: right;\n    }\n</style>\n<table border=\"1\" class=\"dataframe\">\n  <thead>\n    <tr style=\"text-align: right;\">\n      <th></th>\n      <th>Number of Kills</th>\n    </tr>\n    <tr>\n      <th>state</th>\n      <th></th>\n    </tr>\n  </thead>\n  <tbody>\n    <tr>\n      <th>CA</th>\n      <td>1327</td>\n    </tr>\n    <tr>\n      <th>TX</th>\n      <td>907</td>\n    </tr>\n    <tr>\n      <th>FL</th>\n      <td>610</td>\n    </tr>\n    <tr>\n      <th>AZ</th>\n      <td>428</td>\n    </tr>\n    <tr>\n      <th>GA</th>\n      <td>361</td>\n    </tr>\n    <tr>\n      <th>CO</th>\n      <td>343</td>\n    </tr>\n    <tr>\n      <th>NC</th>\n      <td>277</td>\n    </tr>\n    <tr>\n      <th>TN</th>\n      <td>269</td>\n    </tr>\n    <tr>\n      <th>OH</th>\n      <td>269</td>\n    </tr>\n    <tr>\n      <th>WA</th>\n      <td>258</td>\n    </tr>\n  </tbody>\n</table>\n</div>"
     },
     "execution_count": 110,
     "metadata": {},
     "output_type": "execute_result"
    }
   ],
   "source": [
    "df_most_kills_states"
   ],
   "metadata": {
    "collapsed": false,
    "ExecuteTime": {
     "end_time": "2024-05-02T17:14:55.463247300Z",
     "start_time": "2024-05-02T17:14:55.388482900Z"
    }
   },
   "id": "77778c8b57b02f5e",
   "execution_count": 110
  },
  {
   "cell_type": "code",
   "outputs": [
    {
     "ename": "KeyError",
     "evalue": "'state'",
     "output_type": "error",
     "traceback": [
      "\u001B[1;31m---------------------------------------------------------------------------\u001B[0m",
      "\u001B[1;31mKeyError\u001B[0m                                  Traceback (most recent call last)",
      "File \u001B[1;32m~\\Documents\\PycharmProjekte\\DeathsInvolvongPoliceDataAnalysis\\.venv\\Lib\\site-packages\\pandas\\core\\indexes\\base.py:3805\u001B[0m, in \u001B[0;36mIndex.get_loc\u001B[1;34m(self, key)\u001B[0m\n\u001B[0;32m   3804\u001B[0m \u001B[38;5;28;01mtry\u001B[39;00m:\n\u001B[1;32m-> 3805\u001B[0m     \u001B[38;5;28;01mreturn\u001B[39;00m \u001B[38;5;28;43mself\u001B[39;49m\u001B[38;5;241;43m.\u001B[39;49m\u001B[43m_engine\u001B[49m\u001B[38;5;241;43m.\u001B[39;49m\u001B[43mget_loc\u001B[49m\u001B[43m(\u001B[49m\u001B[43mcasted_key\u001B[49m\u001B[43m)\u001B[49m\n\u001B[0;32m   3806\u001B[0m \u001B[38;5;28;01mexcept\u001B[39;00m \u001B[38;5;167;01mKeyError\u001B[39;00m \u001B[38;5;28;01mas\u001B[39;00m err:\n",
      "File \u001B[1;32mindex.pyx:167\u001B[0m, in \u001B[0;36mpandas._libs.index.IndexEngine.get_loc\u001B[1;34m()\u001B[0m\n",
      "File \u001B[1;32mindex.pyx:196\u001B[0m, in \u001B[0;36mpandas._libs.index.IndexEngine.get_loc\u001B[1;34m()\u001B[0m\n",
      "File \u001B[1;32mpandas\\\\_libs\\\\hashtable_class_helper.pxi:7081\u001B[0m, in \u001B[0;36mpandas._libs.hashtable.PyObjectHashTable.get_item\u001B[1;34m()\u001B[0m\n",
      "File \u001B[1;32mpandas\\\\_libs\\\\hashtable_class_helper.pxi:7089\u001B[0m, in \u001B[0;36mpandas._libs.hashtable.PyObjectHashTable.get_item\u001B[1;34m()\u001B[0m\n",
      "\u001B[1;31mKeyError\u001B[0m: 'state'",
      "\nThe above exception was the direct cause of the following exception:\n",
      "\u001B[1;31mKeyError\u001B[0m                                  Traceback (most recent call last)",
      "Cell \u001B[1;32mIn[568], line 2\u001B[0m\n\u001B[0;32m      1\u001B[0m df_most_kills_states\u001B[38;5;241m.\u001B[39mloc[\u001B[38;5;124m\"\u001B[39m\u001B[38;5;124mOther\u001B[39m\u001B[38;5;124m\"\u001B[39m] \u001B[38;5;241m=\u001B[39m {\u001B[38;5;124m\"\u001B[39m\u001B[38;5;124mNumber of Kills\u001B[39m\u001B[38;5;124m\"\u001B[39m: other_states_kills\u001B[38;5;241m.\u001B[39mvalues\u001B[38;5;241m.\u001B[39msum() }\n\u001B[1;32m----> 2\u001B[0m \u001B[43mdf_most_kills_states\u001B[49m\u001B[43m[\u001B[49m\u001B[38;5;124;43m\"\u001B[39;49m\u001B[38;5;124;43mstate\u001B[39;49m\u001B[38;5;124;43m\"\u001B[39;49m\u001B[43m]\u001B[49m\n",
      "File \u001B[1;32m~\\Documents\\PycharmProjekte\\DeathsInvolvongPoliceDataAnalysis\\.venv\\Lib\\site-packages\\pandas\\core\\frame.py:4102\u001B[0m, in \u001B[0;36mDataFrame.__getitem__\u001B[1;34m(self, key)\u001B[0m\n\u001B[0;32m   4100\u001B[0m \u001B[38;5;28;01mif\u001B[39;00m \u001B[38;5;28mself\u001B[39m\u001B[38;5;241m.\u001B[39mcolumns\u001B[38;5;241m.\u001B[39mnlevels \u001B[38;5;241m>\u001B[39m \u001B[38;5;241m1\u001B[39m:\n\u001B[0;32m   4101\u001B[0m     \u001B[38;5;28;01mreturn\u001B[39;00m \u001B[38;5;28mself\u001B[39m\u001B[38;5;241m.\u001B[39m_getitem_multilevel(key)\n\u001B[1;32m-> 4102\u001B[0m indexer \u001B[38;5;241m=\u001B[39m \u001B[38;5;28;43mself\u001B[39;49m\u001B[38;5;241;43m.\u001B[39;49m\u001B[43mcolumns\u001B[49m\u001B[38;5;241;43m.\u001B[39;49m\u001B[43mget_loc\u001B[49m\u001B[43m(\u001B[49m\u001B[43mkey\u001B[49m\u001B[43m)\u001B[49m\n\u001B[0;32m   4103\u001B[0m \u001B[38;5;28;01mif\u001B[39;00m is_integer(indexer):\n\u001B[0;32m   4104\u001B[0m     indexer \u001B[38;5;241m=\u001B[39m [indexer]\n",
      "File \u001B[1;32m~\\Documents\\PycharmProjekte\\DeathsInvolvongPoliceDataAnalysis\\.venv\\Lib\\site-packages\\pandas\\core\\indexes\\base.py:3812\u001B[0m, in \u001B[0;36mIndex.get_loc\u001B[1;34m(self, key)\u001B[0m\n\u001B[0;32m   3807\u001B[0m     \u001B[38;5;28;01mif\u001B[39;00m \u001B[38;5;28misinstance\u001B[39m(casted_key, \u001B[38;5;28mslice\u001B[39m) \u001B[38;5;129;01mor\u001B[39;00m (\n\u001B[0;32m   3808\u001B[0m         \u001B[38;5;28misinstance\u001B[39m(casted_key, abc\u001B[38;5;241m.\u001B[39mIterable)\n\u001B[0;32m   3809\u001B[0m         \u001B[38;5;129;01mand\u001B[39;00m \u001B[38;5;28many\u001B[39m(\u001B[38;5;28misinstance\u001B[39m(x, \u001B[38;5;28mslice\u001B[39m) \u001B[38;5;28;01mfor\u001B[39;00m x \u001B[38;5;129;01min\u001B[39;00m casted_key)\n\u001B[0;32m   3810\u001B[0m     ):\n\u001B[0;32m   3811\u001B[0m         \u001B[38;5;28;01mraise\u001B[39;00m InvalidIndexError(key)\n\u001B[1;32m-> 3812\u001B[0m     \u001B[38;5;28;01mraise\u001B[39;00m \u001B[38;5;167;01mKeyError\u001B[39;00m(key) \u001B[38;5;28;01mfrom\u001B[39;00m \u001B[38;5;21;01merr\u001B[39;00m\n\u001B[0;32m   3813\u001B[0m \u001B[38;5;28;01mexcept\u001B[39;00m \u001B[38;5;167;01mTypeError\u001B[39;00m:\n\u001B[0;32m   3814\u001B[0m     \u001B[38;5;66;03m# If we have a listlike key, _check_indexing_error will raise\u001B[39;00m\n\u001B[0;32m   3815\u001B[0m     \u001B[38;5;66;03m#  InvalidIndexError. Otherwise we fall through and re-raise\u001B[39;00m\n\u001B[0;32m   3816\u001B[0m     \u001B[38;5;66;03m#  the TypeError.\u001B[39;00m\n\u001B[0;32m   3817\u001B[0m     \u001B[38;5;28mself\u001B[39m\u001B[38;5;241m.\u001B[39m_check_indexing_error(key)\n",
      "\u001B[1;31mKeyError\u001B[0m: 'state'"
     ]
    }
   ],
   "source": [
    "df_most_kills_states.loc[\"Other\"] = {\"Number of Kills\": other_states_kills.values.sum() }"
   ],
   "metadata": {
    "collapsed": false,
    "ExecuteTime": {
     "end_time": "2024-05-03T20:15:23.110941600Z",
     "start_time": "2024-05-03T20:15:22.807200100Z"
    }
   },
   "id": "67d25f6d8995a533",
   "execution_count": 568
  },
  {
   "cell_type": "code",
   "outputs": [
    {
     "data": {
      "text/plain": "       Number of Kills\nstate                 \nOther             4521",
      "text/html": "<div>\n<style scoped>\n    .dataframe tbody tr th:only-of-type {\n        vertical-align: middle;\n    }\n\n    .dataframe tbody tr th {\n        vertical-align: top;\n    }\n\n    .dataframe thead th {\n        text-align: right;\n    }\n</style>\n<table border=\"1\" class=\"dataframe\">\n  <thead>\n    <tr style=\"text-align: right;\">\n      <th></th>\n      <th>Number of Kills</th>\n    </tr>\n    <tr>\n      <th>state</th>\n      <th></th>\n    </tr>\n  </thead>\n  <tbody>\n    <tr>\n      <th>Other</th>\n      <td>4521</td>\n    </tr>\n  </tbody>\n</table>\n</div>"
     },
     "execution_count": 570,
     "metadata": {},
     "output_type": "execute_result"
    }
   ],
   "source": [
    "df_most_kills_states[10:]"
   ],
   "metadata": {
    "collapsed": false,
    "ExecuteTime": {
     "end_time": "2024-05-03T20:15:35.764954500Z",
     "start_time": "2024-05-03T20:15:35.656463600Z"
    }
   },
   "id": "b3780ff7c0ee002c",
   "execution_count": 570
  },
  {
   "cell_type": "code",
   "outputs": [
    {
     "data": {
      "text/plain": "<Figure size 640x480 with 1 Axes>",
      "image/png": "[encoded data removed]"
     },
     "metadata": {},
     "output_type": "display_data"
    }
   ],
   "source": [
    "plt.pie(df_most_kills_states[\"Number of Kills\"], labels=df_most_kills_states.index, autopct=\"%1.1f%%\", startangle=90)\n",
    "plt.axis('equal')\n",
    "plt.title(\"Morde verteilt nach Staaten\")\n",
    "plt.show()"
   ],
   "metadata": {
    "collapsed": false,
    "ExecuteTime": {
     "end_time": "2024-05-03T20:15:57.451667600Z",
     "start_time": "2024-05-03T20:15:57.232466500Z"
    }
   },
   "id": "a0a4e635c31eb137",
   "execution_count": 572
  },
  {
   "cell_type": "markdown",
   "source": [
    "\n",
    "\n",
    "\n",
    "\n",
    "\n",
    "\n",
    "\n",
    "\n",
    "\n",
    "\n",
    "\n"
   ],
   "metadata": {
    "collapsed": false
   },
   "id": "9f18bf1578d222f9"
  },
  {
   "cell_type": "code",
   "outputs": [],
   "source": [
    "df_most_kills_states = df_most_kills_states.drop(index=12)"
   ],
   "metadata": {
    "collapsed": false,
    "ExecuteTime": {
     "end_time": "2024-05-02T17:28:19.306468700Z",
     "start_time": "2024-05-02T17:28:19.268670800Z"
    }
   },
   "id": "4562a6c59e0a09f1",
   "execution_count": 139
  },
  {
   "cell_type": "code",
   "outputs": [
    {
     "ename": "KeyError",
     "evalue": "array([], dtype=object)",
     "output_type": "error",
     "traceback": [
      "\u001B[1;31m---------------------------------------------------------------------------\u001B[0m",
      "\u001B[1;31mKeyError\u001B[0m                                  Traceback (most recent call last)",
      "\u001B[1;32m~\\AppData\\Local\\Temp\\ipykernel_14796\\2600781044.py\u001B[0m in \u001B[0;36m?\u001B[1;34m()\u001B[0m\n\u001B[1;32m----> 1\u001B[1;33m \u001B[0mdf_merged\u001B[0m \u001B[1;33m=\u001B[0m \u001B[0mpd\u001B[0m\u001B[1;33m.\u001B[0m\u001B[0mmerge\u001B[0m\u001B[1;33m(\u001B[0m\u001B[0mdf_most_kills_states\u001B[0m\u001B[1;33m,\u001B[0m \u001B[0mother_states_kill_df\u001B[0m\u001B[1;33m,\u001B[0m \u001B[0mon\u001B[0m\u001B[1;33m=\u001B[0m\u001B[0mdf_most_kills_states\u001B[0m\u001B[1;33m.\u001B[0m\u001B[0mindex\u001B[0m\u001B[1;33m)\u001B[0m\u001B[1;33m\u001B[0m\u001B[1;33m\u001B[0m\u001B[0m\n\u001B[0m\u001B[0;32m      2\u001B[0m \u001B[0mdf_merged\u001B[0m\u001B[1;33m\u001B[0m\u001B[1;33m\u001B[0m\u001B[0m\n",
      "\u001B[1;32m~\\Documents\\PycharmProjekte\\DeathsInvolvongPoliceDataAnalysis\\.venv\\Lib\\site-packages\\pandas\\core\\reshape\\merge.py\u001B[0m in \u001B[0;36m?\u001B[1;34m(left, right, how, on, left_on, right_on, left_index, right_index, sort, suffixes, copy, indicator, validate)\u001B[0m\n\u001B[0;32m    166\u001B[0m             \u001B[0mvalidate\u001B[0m\u001B[1;33m=\u001B[0m\u001B[0mvalidate\u001B[0m\u001B[1;33m,\u001B[0m\u001B[1;33m\u001B[0m\u001B[1;33m\u001B[0m\u001B[0m\n\u001B[0;32m    167\u001B[0m             \u001B[0mcopy\u001B[0m\u001B[1;33m=\u001B[0m\u001B[0mcopy\u001B[0m\u001B[1;33m,\u001B[0m\u001B[1;33m\u001B[0m\u001B[1;33m\u001B[0m\u001B[0m\n\u001B[0;32m    168\u001B[0m         \u001B[1;33m)\u001B[0m\u001B[1;33m\u001B[0m\u001B[1;33m\u001B[0m\u001B[0m\n\u001B[0;32m    169\u001B[0m     \u001B[1;32melse\u001B[0m\u001B[1;33m:\u001B[0m\u001B[1;33m\u001B[0m\u001B[1;33m\u001B[0m\u001B[0m\n\u001B[1;32m--> 170\u001B[1;33m         op = _MergeOperation(\n\u001B[0m\u001B[0;32m    171\u001B[0m             \u001B[0mleft_df\u001B[0m\u001B[1;33m,\u001B[0m\u001B[1;33m\u001B[0m\u001B[1;33m\u001B[0m\u001B[0m\n\u001B[0;32m    172\u001B[0m             \u001B[0mright_df\u001B[0m\u001B[1;33m,\u001B[0m\u001B[1;33m\u001B[0m\u001B[1;33m\u001B[0m\u001B[0m\n\u001B[0;32m    173\u001B[0m             \u001B[0mhow\u001B[0m\u001B[1;33m=\u001B[0m\u001B[0mhow\u001B[0m\u001B[1;33m,\u001B[0m\u001B[1;33m\u001B[0m\u001B[1;33m\u001B[0m\u001B[0m\n",
      "\u001B[1;32m~\\Documents\\PycharmProjekte\\DeathsInvolvongPoliceDataAnalysis\\.venv\\Lib\\site-packages\\pandas\\core\\reshape\\merge.py\u001B[0m in \u001B[0;36m?\u001B[1;34m(self, left, right, how, on, left_on, right_on, left_index, right_index, sort, suffixes, indicator, validate)\u001B[0m\n\u001B[0;32m    790\u001B[0m             \u001B[0mself\u001B[0m\u001B[1;33m.\u001B[0m\u001B[0mright_join_keys\u001B[0m\u001B[1;33m,\u001B[0m\u001B[1;33m\u001B[0m\u001B[1;33m\u001B[0m\u001B[0m\n\u001B[0;32m    791\u001B[0m             \u001B[0mself\u001B[0m\u001B[1;33m.\u001B[0m\u001B[0mjoin_names\u001B[0m\u001B[1;33m,\u001B[0m\u001B[1;33m\u001B[0m\u001B[1;33m\u001B[0m\u001B[0m\n\u001B[0;32m    792\u001B[0m             \u001B[0mleft_drop\u001B[0m\u001B[1;33m,\u001B[0m\u001B[1;33m\u001B[0m\u001B[1;33m\u001B[0m\u001B[0m\n\u001B[0;32m    793\u001B[0m             \u001B[0mright_drop\u001B[0m\u001B[1;33m,\u001B[0m\u001B[1;33m\u001B[0m\u001B[1;33m\u001B[0m\u001B[0m\n\u001B[1;32m--> 794\u001B[1;33m         \u001B[1;33m)\u001B[0m \u001B[1;33m=\u001B[0m \u001B[0mself\u001B[0m\u001B[1;33m.\u001B[0m\u001B[0m_get_merge_keys\u001B[0m\u001B[1;33m(\u001B[0m\u001B[1;33m)\u001B[0m\u001B[1;33m\u001B[0m\u001B[1;33m\u001B[0m\u001B[0m\n\u001B[0m\u001B[0;32m    795\u001B[0m \u001B[1;33m\u001B[0m\u001B[0m\n\u001B[0;32m    796\u001B[0m         \u001B[1;32mif\u001B[0m \u001B[0mleft_drop\u001B[0m\u001B[1;33m:\u001B[0m\u001B[1;33m\u001B[0m\u001B[1;33m\u001B[0m\u001B[0m\n\u001B[0;32m    797\u001B[0m             \u001B[0mself\u001B[0m\u001B[1;33m.\u001B[0m\u001B[0mleft\u001B[0m \u001B[1;33m=\u001B[0m \u001B[0mself\u001B[0m\u001B[1;33m.\u001B[0m\u001B[0mleft\u001B[0m\u001B[1;33m.\u001B[0m\u001B[0m_drop_labels_or_levels\u001B[0m\u001B[1;33m(\u001B[0m\u001B[0mleft_drop\u001B[0m\u001B[1;33m)\u001B[0m\u001B[1;33m\u001B[0m\u001B[1;33m\u001B[0m\u001B[0m\n",
      "\u001B[1;32m~\\Documents\\PycharmProjekte\\DeathsInvolvongPoliceDataAnalysis\\.venv\\Lib\\site-packages\\pandas\\core\\reshape\\merge.py\u001B[0m in \u001B[0;36m?\u001B[1;34m(self)\u001B[0m\n\u001B[0;32m   1281\u001B[0m                         \u001B[1;31m# Then we're either Hashable or a wrong-length arraylike,\u001B[0m\u001B[1;33m\u001B[0m\u001B[1;33m\u001B[0m\u001B[0m\n\u001B[0;32m   1282\u001B[0m                         \u001B[1;31m#  the latter of which will raise\u001B[0m\u001B[1;33m\u001B[0m\u001B[1;33m\u001B[0m\u001B[0m\n\u001B[0;32m   1283\u001B[0m                         \u001B[0mrk\u001B[0m \u001B[1;33m=\u001B[0m \u001B[0mcast\u001B[0m\u001B[1;33m(\u001B[0m\u001B[0mHashable\u001B[0m\u001B[1;33m,\u001B[0m \u001B[0mrk\u001B[0m\u001B[1;33m)\u001B[0m\u001B[1;33m\u001B[0m\u001B[1;33m\u001B[0m\u001B[0m\n\u001B[0;32m   1284\u001B[0m                         \u001B[1;32mif\u001B[0m \u001B[0mrk\u001B[0m \u001B[1;32mis\u001B[0m \u001B[1;32mnot\u001B[0m \u001B[1;32mNone\u001B[0m\u001B[1;33m:\u001B[0m\u001B[1;33m\u001B[0m\u001B[1;33m\u001B[0m\u001B[0m\n\u001B[1;32m-> 1285\u001B[1;33m                             \u001B[0mright_keys\u001B[0m\u001B[1;33m.\u001B[0m\u001B[0mappend\u001B[0m\u001B[1;33m(\u001B[0m\u001B[0mright\u001B[0m\u001B[1;33m.\u001B[0m\u001B[0m_get_label_or_level_values\u001B[0m\u001B[1;33m(\u001B[0m\u001B[0mrk\u001B[0m\u001B[1;33m)\u001B[0m\u001B[1;33m)\u001B[0m\u001B[1;33m\u001B[0m\u001B[1;33m\u001B[0m\u001B[0m\n\u001B[0m\u001B[0;32m   1286\u001B[0m                             \u001B[0mjoin_names\u001B[0m\u001B[1;33m.\u001B[0m\u001B[0mappend\u001B[0m\u001B[1;33m(\u001B[0m\u001B[0mrk\u001B[0m\u001B[1;33m)\u001B[0m\u001B[1;33m\u001B[0m\u001B[1;33m\u001B[0m\u001B[0m\n\u001B[0;32m   1287\u001B[0m                         \u001B[1;32melse\u001B[0m\u001B[1;33m:\u001B[0m\u001B[1;33m\u001B[0m\u001B[1;33m\u001B[0m\u001B[0m\n\u001B[0;32m   1288\u001B[0m                             \u001B[1;31m# work-around for merge_asof(right_index=True)\u001B[0m\u001B[1;33m\u001B[0m\u001B[1;33m\u001B[0m\u001B[0m\n",
      "\u001B[1;32m~\\Documents\\PycharmProjekte\\DeathsInvolvongPoliceDataAnalysis\\.venv\\Lib\\site-packages\\pandas\\core\\generic.py\u001B[0m in \u001B[0;36m?\u001B[1;34m(self, key, axis)\u001B[0m\n\u001B[0;32m   1907\u001B[0m             \u001B[0mvalues\u001B[0m \u001B[1;33m=\u001B[0m \u001B[0mself\u001B[0m\u001B[1;33m.\u001B[0m\u001B[0mxs\u001B[0m\u001B[1;33m(\u001B[0m\u001B[0mkey\u001B[0m\u001B[1;33m,\u001B[0m \u001B[0maxis\u001B[0m\u001B[1;33m=\u001B[0m\u001B[0mother_axes\u001B[0m\u001B[1;33m[\u001B[0m\u001B[1;36m0\u001B[0m\u001B[1;33m]\u001B[0m\u001B[1;33m)\u001B[0m\u001B[1;33m.\u001B[0m\u001B[0m_values\u001B[0m\u001B[1;33m\u001B[0m\u001B[1;33m\u001B[0m\u001B[0m\n\u001B[0;32m   1908\u001B[0m         \u001B[1;32melif\u001B[0m \u001B[0mself\u001B[0m\u001B[1;33m.\u001B[0m\u001B[0m_is_level_reference\u001B[0m\u001B[1;33m(\u001B[0m\u001B[0mkey\u001B[0m\u001B[1;33m,\u001B[0m \u001B[0maxis\u001B[0m\u001B[1;33m=\u001B[0m\u001B[0maxis\u001B[0m\u001B[1;33m)\u001B[0m\u001B[1;33m:\u001B[0m\u001B[1;33m\u001B[0m\u001B[1;33m\u001B[0m\u001B[0m\n\u001B[0;32m   1909\u001B[0m             \u001B[0mvalues\u001B[0m \u001B[1;33m=\u001B[0m \u001B[0mself\u001B[0m\u001B[1;33m.\u001B[0m\u001B[0maxes\u001B[0m\u001B[1;33m[\u001B[0m\u001B[0maxis\u001B[0m\u001B[1;33m]\u001B[0m\u001B[1;33m.\u001B[0m\u001B[0mget_level_values\u001B[0m\u001B[1;33m(\u001B[0m\u001B[0mkey\u001B[0m\u001B[1;33m)\u001B[0m\u001B[1;33m.\u001B[0m\u001B[0m_values\u001B[0m\u001B[1;33m\u001B[0m\u001B[1;33m\u001B[0m\u001B[0m\n\u001B[0;32m   1910\u001B[0m         \u001B[1;32melse\u001B[0m\u001B[1;33m:\u001B[0m\u001B[1;33m\u001B[0m\u001B[1;33m\u001B[0m\u001B[0m\n\u001B[1;32m-> 1911\u001B[1;33m             \u001B[1;32mraise\u001B[0m \u001B[0mKeyError\u001B[0m\u001B[1;33m(\u001B[0m\u001B[0mkey\u001B[0m\u001B[1;33m)\u001B[0m\u001B[1;33m\u001B[0m\u001B[1;33m\u001B[0m\u001B[0m\n\u001B[0m\u001B[0;32m   1912\u001B[0m \u001B[1;33m\u001B[0m\u001B[0m\n\u001B[0;32m   1913\u001B[0m         \u001B[1;31m# Check for duplicates\u001B[0m\u001B[1;33m\u001B[0m\u001B[1;33m\u001B[0m\u001B[0m\n\u001B[0;32m   1914\u001B[0m         \u001B[1;32mif\u001B[0m \u001B[0mvalues\u001B[0m\u001B[1;33m.\u001B[0m\u001B[0mndim\u001B[0m \u001B[1;33m>\u001B[0m \u001B[1;36m1\u001B[0m\u001B[1;33m:\u001B[0m\u001B[1;33m\u001B[0m\u001B[1;33m\u001B[0m\u001B[0m\n",
      "\u001B[1;31mKeyError\u001B[0m: array([], dtype=object)"
     ]
    }
   ],
   "source": [
    "df_merged = pd.merge(df_most_kills_states, other_states_kill_df, on=df_most_kills_states.index)\n",
    "df_merged"
   ],
   "metadata": {
    "collapsed": false,
    "ExecuteTime": {
     "end_time": "2024-05-02T17:12:14.193487400Z",
     "start_time": "2024-05-02T17:12:14.137873900Z"
    }
   },
   "id": "5c36e2e684eeb802",
   "execution_count": 102
  },
  {
   "cell_type": "code",
   "outputs": [
    {
     "data": {
      "text/plain": "Empty DataFrame\nColumns: [Number of Kills_x, Number of Kills_y]\nIndex: []",
      "text/html": "<div>\n<style scoped>\n    .dataframe tbody tr th:only-of-type {\n        vertical-align: middle;\n    }\n\n    .dataframe tbody tr th {\n        vertical-align: top;\n    }\n\n    .dataframe thead th {\n        text-align: right;\n    }\n</style>\n<table border=\"1\" class=\"dataframe\">\n  <thead>\n    <tr style=\"text-align: right;\">\n      <th></th>\n      <th>Number of Kills_x</th>\n      <th>Number of Kills_y</th>\n    </tr>\n  </thead>\n  <tbody>\n  </tbody>\n</table>\n</div>"
     },
     "execution_count": 101,
     "metadata": {},
     "output_type": "execute_result"
    }
   ],
   "source": [
    "df_most_kills_states"
   ],
   "metadata": {
    "collapsed": false,
    "ExecuteTime": {
     "end_time": "2024-05-02T17:11:40.566720900Z",
     "start_time": "2024-05-02T17:11:40.499736100Z"
    }
   },
   "id": "d1693edf5223b32f",
   "execution_count": 101
  },
  {
   "cell_type": "code",
   "outputs": [],
   "source": [
    "other_states_kill_df.index.name = \"state\""
   ],
   "metadata": {
    "collapsed": false,
    "ExecuteTime": {
     "end_time": "2024-05-02T16:14:02.379006400Z",
     "start_time": "2024-05-02T16:14:02.334917300Z"
    }
   },
   "id": "5cde8752af45c955",
   "execution_count": 64
  },
  {
   "cell_type": "code",
   "outputs": [
    {
     "data": {
      "text/plain": "Empty DataFrame\nColumns: [count, Number of kills]\nIndex: []",
      "text/html": "<div>\n<style scoped>\n    .dataframe tbody tr th:only-of-type {\n        vertical-align: middle;\n    }\n\n    .dataframe tbody tr th {\n        vertical-align: top;\n    }\n\n    .dataframe thead th {\n        text-align: right;\n    }\n</style>\n<table border=\"1\" class=\"dataframe\">\n  <thead>\n    <tr style=\"text-align: right;\">\n      <th></th>\n      <th>count</th>\n      <th>Number of kills</th>\n    </tr>\n    <tr>\n      <th>state</th>\n      <th></th>\n      <th></th>\n    </tr>\n  </thead>\n  <tbody>\n  </tbody>\n</table>\n</div>"
     },
     "execution_count": 67,
     "metadata": {},
     "output_type": "execute_result"
    }
   ],
   "source": [],
   "metadata": {
    "collapsed": false,
    "ExecuteTime": {
     "end_time": "2024-05-02T16:16:11.232890500Z",
     "start_time": "2024-05-02T16:16:11.192842500Z"
    }
   },
   "id": "d35ea5cd0b4456a4",
   "execution_count": 67
  },
  {
   "cell_type": "code",
   "outputs": [],
   "source": [
    "df_most_kills_states = pd.DataFrame(df_most_kills_states)"
   ],
   "metadata": {
    "collapsed": false,
    "ExecuteTime": {
     "end_time": "2024-04-28T13:49:05.207424800Z",
     "start_time": "2024-04-28T13:49:05.184910900Z"
    }
   },
   "id": "70746228a2b1bc9e",
   "execution_count": 144
  },
  {
   "cell_type": "code",
   "outputs": [
    {
     "data": {
      "text/plain": "Empty DataFrame\nColumns: [Number of Kills, Number of kills]\nIndex: []",
      "text/html": "<div>\n<style scoped>\n    .dataframe tbody tr th:only-of-type {\n        vertical-align: middle;\n    }\n\n    .dataframe tbody tr th {\n        vertical-align: top;\n    }\n\n    .dataframe thead th {\n        text-align: right;\n    }\n</style>\n<table border=\"1\" class=\"dataframe\">\n  <thead>\n    <tr style=\"text-align: right;\">\n      <th></th>\n      <th>Number of Kills</th>\n      <th>Number of kills</th>\n    </tr>\n    <tr>\n      <th>state</th>\n      <th></th>\n      <th></th>\n    </tr>\n  </thead>\n  <tbody>\n  </tbody>\n</table>\n</div>"
     },
     "execution_count": 72,
     "metadata": {},
     "output_type": "execute_result"
    }
   ],
   "source": [
    "df_most_kills_states = pandas.merge(df_most_kills_states, other_states_kill_df, on=\"state\")\n",
    "df_most_kills_states"
   ],
   "metadata": {
    "collapsed": false,
    "ExecuteTime": {
     "end_time": "2024-05-02T16:22:50.730127400Z",
     "start_time": "2024-05-02T16:22:50.692089200Z"
    }
   },
   "id": "676bc3148c7aea3c",
   "execution_count": 72
  },
  {
   "cell_type": "code",
   "outputs": [
    {
     "ename": "NameError",
     "evalue": "name 'df_most_kills_states' is not defined",
     "output_type": "error",
     "traceback": [
      "\u001B[1;31m---------------------------------------------------------------------------\u001B[0m",
      "\u001B[1;31mNameError\u001B[0m                                 Traceback (most recent call last)",
      "Cell \u001B[1;32mIn[337], line 1\u001B[0m\n\u001B[1;32m----> 1\u001B[0m df_state_distribution \u001B[38;5;241m=\u001B[39m \u001B[43mdf_most_kills_states\u001B[49m\u001B[38;5;241m.\u001B[39m_append(other_states_kills_series, ignore_index\u001B[38;5;241m=\u001B[39m\u001B[38;5;28;01mTrue\u001B[39;00m)\n\u001B[0;32m      2\u001B[0m df_state_distribution\n",
      "\u001B[1;31mNameError\u001B[0m: name 'df_most_kills_states' is not defined"
     ]
    }
   ],
   "source": [
    "df_state_distribution = df_most_kills_states.append(other_states_kills_series, ignore_index=True)\n",
    "df_state_distribution"
   ],
   "metadata": {
    "collapsed": false,
    "ExecuteTime": {
     "end_time": "2024-04-29T21:19:33.990062200Z",
     "start_time": "2024-04-29T21:19:33.949808400Z"
    }
   },
   "id": "a66c2e4a59e8bae7",
   "execution_count": 337
  },
  {
   "cell_type": "code",
   "outputs": [
    {
     "ename": "ValueError",
     "evalue": "Length of values (1) does not match length of index (10)",
     "output_type": "error",
     "traceback": [
      "\u001B[1;31m---------------------------------------------------------------------------\u001B[0m",
      "\u001B[1;31mValueError\u001B[0m                                Traceback (most recent call last)",
      "Cell \u001B[1;32mIn[50], line 1\u001B[0m\n\u001B[1;32m----> 1\u001B[0m \u001B[43mdf_most_kills_states\u001B[49m\u001B[43m[\u001B[49m\u001B[38;5;124;43m\"\u001B[39;49m\u001B[38;5;124;43mOther\u001B[39;49m\u001B[38;5;124;43m\"\u001B[39;49m\u001B[43m]\u001B[49m \u001B[38;5;241m=\u001B[39m other_states_kill_df\u001B[38;5;241m.\u001B[39mvalues\n",
      "File \u001B[1;32m~\\Documents\\PycharmProjekte\\DeathsInvolvongPoliceDataAnalysis\\.venv\\Lib\\site-packages\\pandas\\core\\frame.py:4311\u001B[0m, in \u001B[0;36mDataFrame.__setitem__\u001B[1;34m(self, key, value)\u001B[0m\n\u001B[0;32m   4308\u001B[0m     \u001B[38;5;28mself\u001B[39m\u001B[38;5;241m.\u001B[39m_setitem_array([key], value)\n\u001B[0;32m   4309\u001B[0m \u001B[38;5;28;01melse\u001B[39;00m:\n\u001B[0;32m   4310\u001B[0m     \u001B[38;5;66;03m# set column\u001B[39;00m\n\u001B[1;32m-> 4311\u001B[0m     \u001B[38;5;28;43mself\u001B[39;49m\u001B[38;5;241;43m.\u001B[39;49m\u001B[43m_set_item\u001B[49m\u001B[43m(\u001B[49m\u001B[43mkey\u001B[49m\u001B[43m,\u001B[49m\u001B[43m \u001B[49m\u001B[43mvalue\u001B[49m\u001B[43m)\u001B[49m\n",
      "File \u001B[1;32m~\\Documents\\PycharmProjekte\\DeathsInvolvongPoliceDataAnalysis\\.venv\\Lib\\site-packages\\pandas\\core\\frame.py:4524\u001B[0m, in \u001B[0;36mDataFrame._set_item\u001B[1;34m(self, key, value)\u001B[0m\n\u001B[0;32m   4514\u001B[0m \u001B[38;5;28;01mdef\u001B[39;00m \u001B[38;5;21m_set_item\u001B[39m(\u001B[38;5;28mself\u001B[39m, key, value) \u001B[38;5;241m-\u001B[39m\u001B[38;5;241m>\u001B[39m \u001B[38;5;28;01mNone\u001B[39;00m:\n\u001B[0;32m   4515\u001B[0m \u001B[38;5;250m    \u001B[39m\u001B[38;5;124;03m\"\"\"\u001B[39;00m\n\u001B[0;32m   4516\u001B[0m \u001B[38;5;124;03m    Add series to DataFrame in specified column.\u001B[39;00m\n\u001B[0;32m   4517\u001B[0m \n\u001B[1;32m   (...)\u001B[0m\n\u001B[0;32m   4522\u001B[0m \u001B[38;5;124;03m    ensure homogeneity.\u001B[39;00m\n\u001B[0;32m   4523\u001B[0m \u001B[38;5;124;03m    \"\"\"\u001B[39;00m\n\u001B[1;32m-> 4524\u001B[0m     value, refs \u001B[38;5;241m=\u001B[39m \u001B[38;5;28;43mself\u001B[39;49m\u001B[38;5;241;43m.\u001B[39;49m\u001B[43m_sanitize_column\u001B[49m\u001B[43m(\u001B[49m\u001B[43mvalue\u001B[49m\u001B[43m)\u001B[49m\n\u001B[0;32m   4526\u001B[0m     \u001B[38;5;28;01mif\u001B[39;00m (\n\u001B[0;32m   4527\u001B[0m         key \u001B[38;5;129;01min\u001B[39;00m \u001B[38;5;28mself\u001B[39m\u001B[38;5;241m.\u001B[39mcolumns\n\u001B[0;32m   4528\u001B[0m         \u001B[38;5;129;01mand\u001B[39;00m value\u001B[38;5;241m.\u001B[39mndim \u001B[38;5;241m==\u001B[39m \u001B[38;5;241m1\u001B[39m\n\u001B[0;32m   4529\u001B[0m         \u001B[38;5;129;01mand\u001B[39;00m \u001B[38;5;129;01mnot\u001B[39;00m \u001B[38;5;28misinstance\u001B[39m(value\u001B[38;5;241m.\u001B[39mdtype, ExtensionDtype)\n\u001B[0;32m   4530\u001B[0m     ):\n\u001B[0;32m   4531\u001B[0m         \u001B[38;5;66;03m# broadcast across multiple columns if necessary\u001B[39;00m\n\u001B[0;32m   4532\u001B[0m         \u001B[38;5;28;01mif\u001B[39;00m \u001B[38;5;129;01mnot\u001B[39;00m \u001B[38;5;28mself\u001B[39m\u001B[38;5;241m.\u001B[39mcolumns\u001B[38;5;241m.\u001B[39mis_unique \u001B[38;5;129;01mor\u001B[39;00m \u001B[38;5;28misinstance\u001B[39m(\u001B[38;5;28mself\u001B[39m\u001B[38;5;241m.\u001B[39mcolumns, MultiIndex):\n",
      "File \u001B[1;32m~\\Documents\\PycharmProjekte\\DeathsInvolvongPoliceDataAnalysis\\.venv\\Lib\\site-packages\\pandas\\core\\frame.py:5266\u001B[0m, in \u001B[0;36mDataFrame._sanitize_column\u001B[1;34m(self, value)\u001B[0m\n\u001B[0;32m   5263\u001B[0m     \u001B[38;5;28;01mreturn\u001B[39;00m _reindex_for_setitem(value, \u001B[38;5;28mself\u001B[39m\u001B[38;5;241m.\u001B[39mindex)\n\u001B[0;32m   5265\u001B[0m \u001B[38;5;28;01mif\u001B[39;00m is_list_like(value):\n\u001B[1;32m-> 5266\u001B[0m     \u001B[43mcom\u001B[49m\u001B[38;5;241;43m.\u001B[39;49m\u001B[43mrequire_length_match\u001B[49m\u001B[43m(\u001B[49m\u001B[43mvalue\u001B[49m\u001B[43m,\u001B[49m\u001B[43m \u001B[49m\u001B[38;5;28;43mself\u001B[39;49m\u001B[38;5;241;43m.\u001B[39;49m\u001B[43mindex\u001B[49m\u001B[43m)\u001B[49m\n\u001B[0;32m   5267\u001B[0m arr \u001B[38;5;241m=\u001B[39m sanitize_array(value, \u001B[38;5;28mself\u001B[39m\u001B[38;5;241m.\u001B[39mindex, copy\u001B[38;5;241m=\u001B[39m\u001B[38;5;28;01mTrue\u001B[39;00m, allow_2d\u001B[38;5;241m=\u001B[39m\u001B[38;5;28;01mTrue\u001B[39;00m)\n\u001B[0;32m   5268\u001B[0m \u001B[38;5;28;01mif\u001B[39;00m (\n\u001B[0;32m   5269\u001B[0m     \u001B[38;5;28misinstance\u001B[39m(value, Index)\n\u001B[0;32m   5270\u001B[0m     \u001B[38;5;129;01mand\u001B[39;00m value\u001B[38;5;241m.\u001B[39mdtype \u001B[38;5;241m==\u001B[39m \u001B[38;5;124m\"\u001B[39m\u001B[38;5;124mobject\u001B[39m\u001B[38;5;124m\"\u001B[39m\n\u001B[1;32m   (...)\u001B[0m\n\u001B[0;32m   5273\u001B[0m     \u001B[38;5;66;03m# TODO: Remove kludge in sanitize_array for string mode when enforcing\u001B[39;00m\n\u001B[0;32m   5274\u001B[0m     \u001B[38;5;66;03m# this deprecation\u001B[39;00m\n",
      "File \u001B[1;32m~\\Documents\\PycharmProjekte\\DeathsInvolvongPoliceDataAnalysis\\.venv\\Lib\\site-packages\\pandas\\core\\common.py:573\u001B[0m, in \u001B[0;36mrequire_length_match\u001B[1;34m(data, index)\u001B[0m\n\u001B[0;32m    569\u001B[0m \u001B[38;5;250m\u001B[39m\u001B[38;5;124;03m\"\"\"\u001B[39;00m\n\u001B[0;32m    570\u001B[0m \u001B[38;5;124;03mCheck the length of data matches the length of the index.\u001B[39;00m\n\u001B[0;32m    571\u001B[0m \u001B[38;5;124;03m\"\"\"\u001B[39;00m\n\u001B[0;32m    572\u001B[0m \u001B[38;5;28;01mif\u001B[39;00m \u001B[38;5;28mlen\u001B[39m(data) \u001B[38;5;241m!=\u001B[39m \u001B[38;5;28mlen\u001B[39m(index):\n\u001B[1;32m--> 573\u001B[0m     \u001B[38;5;28;01mraise\u001B[39;00m \u001B[38;5;167;01mValueError\u001B[39;00m(\n\u001B[0;32m    574\u001B[0m         \u001B[38;5;124m\"\u001B[39m\u001B[38;5;124mLength of values \u001B[39m\u001B[38;5;124m\"\u001B[39m\n\u001B[0;32m    575\u001B[0m         \u001B[38;5;124mf\u001B[39m\u001B[38;5;124m\"\u001B[39m\u001B[38;5;124m(\u001B[39m\u001B[38;5;132;01m{\u001B[39;00m\u001B[38;5;28mlen\u001B[39m(data)\u001B[38;5;132;01m}\u001B[39;00m\u001B[38;5;124m) \u001B[39m\u001B[38;5;124m\"\u001B[39m\n\u001B[0;32m    576\u001B[0m         \u001B[38;5;124m\"\u001B[39m\u001B[38;5;124mdoes not match length of index \u001B[39m\u001B[38;5;124m\"\u001B[39m\n\u001B[0;32m    577\u001B[0m         \u001B[38;5;124mf\u001B[39m\u001B[38;5;124m\"\u001B[39m\u001B[38;5;124m(\u001B[39m\u001B[38;5;132;01m{\u001B[39;00m\u001B[38;5;28mlen\u001B[39m(index)\u001B[38;5;132;01m}\u001B[39;00m\u001B[38;5;124m)\u001B[39m\u001B[38;5;124m\"\u001B[39m\n\u001B[0;32m    578\u001B[0m     )\n",
      "\u001B[1;31mValueError\u001B[0m: Length of values (1) does not match length of index (10)"
     ]
    }
   ],
   "source": [
    "df_most_kills_states = df_most_kills_states.append"
   ],
   "metadata": {
    "collapsed": false,
    "ExecuteTime": {
     "end_time": "2024-05-02T16:02:01.925076400Z",
     "start_time": "2024-05-02T16:02:01.856563600Z"
    }
   },
   "id": "97e18a1e5fe8e74b",
   "execution_count": 50
  },
  {
   "cell_type": "code",
   "outputs": [],
   "source": [
    "df_state_distribution = pd.concat([df_most_kills_states, other_states_kill_df], axis=1)"
   ],
   "metadata": {
    "collapsed": false,
    "ExecuteTime": {
     "end_time": "2024-04-28T13:37:04.994307800Z",
     "start_time": "2024-04-28T13:37:04.984650200Z"
    }
   },
   "id": "a74450e90dbd3422",
   "execution_count": 132
  },
  {
   "cell_type": "code",
   "outputs": [
    {
     "data": {
      "text/plain": "       Anzahl Morde  Anzahl Morde\nCA           1327.0           NaN\nTX            907.0           NaN\nFL            610.0           NaN\nAZ            428.0           NaN\nGA            361.0           NaN\nCO            343.0           NaN\nNC            277.0           NaN\nTN            269.0           NaN\nOH            269.0           NaN\nWA            258.0           NaN\nOther           NaN        4521.0",
      "text/html": "<div>\n<style scoped>\n    .dataframe tbody tr th:only-of-type {\n        vertical-align: middle;\n    }\n\n    .dataframe tbody tr th {\n        vertical-align: top;\n    }\n\n    .dataframe thead th {\n        text-align: right;\n    }\n</style>\n<table border=\"1\" class=\"dataframe\">\n  <thead>\n    <tr style=\"text-align: right;\">\n      <th></th>\n      <th>Anzahl Morde</th>\n      <th>Anzahl Morde</th>\n    </tr>\n  </thead>\n  <tbody>\n    <tr>\n      <th>CA</th>\n      <td>1327.0</td>\n      <td>NaN</td>\n    </tr>\n    <tr>\n      <th>TX</th>\n      <td>907.0</td>\n      <td>NaN</td>\n    </tr>\n    <tr>\n      <th>FL</th>\n      <td>610.0</td>\n      <td>NaN</td>\n    </tr>\n    <tr>\n      <th>AZ</th>\n      <td>428.0</td>\n      <td>NaN</td>\n    </tr>\n    <tr>\n      <th>GA</th>\n      <td>361.0</td>\n      <td>NaN</td>\n    </tr>\n    <tr>\n      <th>CO</th>\n      <td>343.0</td>\n      <td>NaN</td>\n    </tr>\n    <tr>\n      <th>NC</th>\n      <td>277.0</td>\n      <td>NaN</td>\n    </tr>\n    <tr>\n      <th>TN</th>\n      <td>269.0</td>\n      <td>NaN</td>\n    </tr>\n    <tr>\n      <th>OH</th>\n      <td>269.0</td>\n      <td>NaN</td>\n    </tr>\n    <tr>\n      <th>WA</th>\n      <td>258.0</td>\n      <td>NaN</td>\n    </tr>\n    <tr>\n      <th>Other</th>\n      <td>NaN</td>\n      <td>4521.0</td>\n    </tr>\n  </tbody>\n</table>\n</div>"
     },
     "execution_count": 118,
     "metadata": {},
     "output_type": "execute_result"
    }
   ],
   "source": [
    "df_state_distribution.rename(columns={\"count\": \"Anzahl Morde\"})"
   ],
   "metadata": {
    "collapsed": false,
    "ExecuteTime": {
     "end_time": "2024-04-28T11:52:06.243173900Z",
     "start_time": "2024-04-28T11:52:06.206020100Z"
    }
   },
   "id": "81389337606a275",
   "execution_count": 118
  },
  {
   "cell_type": "markdown",
   "source": [
    "Welches Alter hatten die Opfer"
   ],
   "metadata": {
    "collapsed": false
   },
   "id": "1a5f078f927bbd41"
  },
  {
   "cell_type": "code",
   "outputs": [],
   "source": [],
   "metadata": {
    "collapsed": false
   },
   "id": "da7c5cb92571cd2a"
  },
  {
   "cell_type": "markdown",
   "source": [
    "Wieviele opfer waren unter 21"
   ],
   "metadata": {
    "collapsed": false
   },
   "id": "6c6f64b783d5cdda"
  },
  {
   "cell_type": "code",
   "outputs": [
    {
     "data": {
      "text/plain": "              age\ncount  603.000000\nmean    18.149254\nstd      1.959120\nmin      2.000000\n25%     17.000000\n50%     18.000000\n75%     20.000000\nmax     20.000000",
      "text/html": "<div>\n<style scoped>\n    .dataframe tbody tr th:only-of-type {\n        vertical-align: middle;\n    }\n\n    .dataframe tbody tr th {\n        vertical-align: top;\n    }\n\n    .dataframe thead th {\n        text-align: right;\n    }\n</style>\n<table border=\"1\" class=\"dataframe\">\n  <thead>\n    <tr style=\"text-align: right;\">\n      <th></th>\n      <th>age</th>\n    </tr>\n  </thead>\n  <tbody>\n    <tr>\n      <th>count</th>\n      <td>603.000000</td>\n    </tr>\n    <tr>\n      <th>mean</th>\n      <td>18.149254</td>\n    </tr>\n    <tr>\n      <th>std</th>\n      <td>1.959120</td>\n    </tr>\n    <tr>\n      <th>min</th>\n      <td>2.000000</td>\n    </tr>\n    <tr>\n      <th>25%</th>\n      <td>17.000000</td>\n    </tr>\n    <tr>\n      <th>50%</th>\n      <td>18.000000</td>\n    </tr>\n    <tr>\n      <th>75%</th>\n      <td>20.000000</td>\n    </tr>\n    <tr>\n      <th>max</th>\n      <td>20.000000</td>\n    </tr>\n  </tbody>\n</table>\n</div>"
     },
     "execution_count": 213,
     "metadata": {},
     "output_type": "execute_result"
    }
   ],
   "source": [
    "victims_unter_21 = df_police_shooting[df_police_shooting[\"age\"] < 21]\n",
    "victims_unter_21.describe()"
   ],
   "metadata": {
    "collapsed": false,
    "ExecuteTime": {
     "end_time": "2024-04-29T08:24:36.435777400Z",
     "start_time": "2024-04-29T08:24:36.411333300Z"
    }
   },
   "id": "7f3f88efe3a1e5c6",
   "execution_count": 213
  },
  {
   "cell_type": "markdown",
   "source": [
    "Es waren 603 Opfer unter 21"
   ],
   "metadata": {
    "collapsed": false
   },
   "id": "ef36c8ff6cf317aa"
  },
  {
   "cell_type": "markdown",
   "source": [
    "Anzahl der weiblichen Opfer\n"
   ],
   "metadata": {
    "collapsed": false
   },
   "id": "c4962270db9e945d"
  },
  {
   "cell_type": "markdown",
   "source": [
    "Wie alt waren die 5 ältesten Opfer"
   ],
   "metadata": {
    "collapsed": false
   },
   "id": "fa241290c066bec6"
  },
  {
   "cell_type": "code",
   "outputs": [
    {
     "data": {
      "text/plain": "6870    92.0\n5971    91.0\n2161    91.0\n3301    89.0\n6923    88.0\nName: age, dtype: float64"
     },
     "execution_count": 217,
     "metadata": {},
     "output_type": "execute_result"
    }
   ],
   "source": [
    "oldest_victims = df_police_shooting.sort_values(by=\"age\", ascending=False)\n",
    "oldest_victims[\"age\"][:5]"
   ],
   "metadata": {
    "collapsed": false,
    "ExecuteTime": {
     "end_time": "2024-04-29T08:27:50.313019800Z",
     "start_time": "2024-04-29T08:27:50.299528Z"
    }
   },
   "id": "f5c103e2154c8ad1",
   "execution_count": 217
  },
  {
   "cell_type": "markdown",
   "source": [
    "Die ältesten Opfer waren zwischen 88 und 92 Jahren alt"
   ],
   "metadata": {
    "collapsed": false
   },
   "id": "65a53ee154c66a70"
  },
  {
   "cell_type": "code",
   "outputs": [
    {
     "data": {
      "text/plain": "            date              name   age  gender         armed     race  \\\n6870  2021-11-16  Kernie Armstrong  92.0    male           gun    White   \n5971  2021-01-09    Betty Francois  91.0  female           gun    White   \n2161  2017-03-08   Frank W. Wratny  91.0    male           gun    White   \n3301  2018-04-25   James D. Warren  89.0    male           gun  Unknown   \n6923  2021-12-07     Ronald Ehrich  88.0    male           gun    White   \n...          ...               ...   ...     ...           ...      ...   \n9562  2024-04-17               NaN   NaN    male           gun  Unknown   \n9564  2024-04-17               NaN   NaN     NaN           gun  Unknown   \n9565  2024-04-17               NaN   NaN    male           gun  Unknown   \n9566  2024-04-17               NaN   NaN    male           gun  Unknown   \n9567  2024-04-18     Jared Billard   NaN    male  undetermined  Unknown   \n\n                      city state flee  body_camera  signs_of_mental_illness  \\\n6870              Caldwell    ID  not        False                     True   \n5971           Victorville    CA  not        False                    False   \n2161        Union Township    PA  not        False                    False   \n3301  Grand Canyon Caverns    AZ  not        False                     True   \n6923             Riverview    FL  NaN         True                    False   \n...                    ...   ...  ...          ...                      ...   \n9562            Long Beach    CA  NaN         True                    False   \n9564               Tukwila    WA  not        False                    False   \n9565                Pueblo    CO  not        False                    False   \n9566           Cabin Creek    WV  not        False                    False   \n9567            Colchester    CT  NaN        False                    False   \n\n                         police_departments_involved  \n6870                  Caldwell Police Department, ID  \n5971  San Bernardino County Sheriff's Department, CA  \n2161        Union Township Police (Lawrence Co.), PA  \n3301           Hualapai Nation Police Department, AZ  \n6923        Hillsborough County Sheriff's Office, FL  \n...                                              ...  \n9562                Long Beach Police Department, CA  \n9564                   Seattle Police Department, WA  \n9565                    Pueblo Police Department, CO  \n9566             Kanawha County Sheriff's Office, WV  \n9567                Colchester Police Department, CT  \n\n[9570 rows x 12 columns]",
      "text/html": "<div>\n<style scoped>\n    .dataframe tbody tr th:only-of-type {\n        vertical-align: middle;\n    }\n\n    .dataframe tbody tr th {\n        vertical-align: top;\n    }\n\n    .dataframe thead th {\n        text-align: right;\n    }\n</style>\n<table border=\"1\" class=\"dataframe\">\n  <thead>\n    <tr style=\"text-align: right;\">\n      <th></th>\n      <th>date</th>\n      <th>name</th>\n      <th>age</th>\n      <th>gender</th>\n      <th>armed</th>\n      <th>race</th>\n      <th>city</th>\n      <th>state</th>\n      <th>flee</th>\n      <th>body_camera</th>\n      <th>signs_of_mental_illness</th>\n      <th>police_departments_involved</th>\n    </tr>\n  </thead>\n  <tbody>\n    <tr>\n      <th>6870</th>\n      <td>2021-11-16</td>\n      <td>Kernie Armstrong</td>\n      <td>92.0</td>\n      <td>male</td>\n      <td>gun</td>\n      <td>White</td>\n      <td>Caldwell</td>\n      <td>ID</td>\n      <td>not</td>\n      <td>False</td>\n      <td>True</td>\n      <td>Caldwell Police Department, ID</td>\n    </tr>\n    <tr>\n      <th>5971</th>\n      <td>2021-01-09</td>\n      <td>Betty Francois</td>\n      <td>91.0</td>\n      <td>female</td>\n      <td>gun</td>\n      <td>White</td>\n      <td>Victorville</td>\n      <td>CA</td>\n      <td>not</td>\n      <td>False</td>\n      <td>False</td>\n      <td>San Bernardino County Sheriff's Department, CA</td>\n    </tr>\n    <tr>\n      <th>2161</th>\n      <td>2017-03-08</td>\n      <td>Frank W. Wratny</td>\n      <td>91.0</td>\n      <td>male</td>\n      <td>gun</td>\n      <td>White</td>\n      <td>Union Township</td>\n      <td>PA</td>\n      <td>not</td>\n      <td>False</td>\n      <td>False</td>\n      <td>Union Township Police (Lawrence Co.), PA</td>\n    </tr>\n    <tr>\n      <th>3301</th>\n      <td>2018-04-25</td>\n      <td>James D. Warren</td>\n      <td>89.0</td>\n      <td>male</td>\n      <td>gun</td>\n      <td>Unknown</td>\n      <td>Grand Canyon Caverns</td>\n      <td>AZ</td>\n      <td>not</td>\n      <td>False</td>\n      <td>True</td>\n      <td>Hualapai Nation Police Department, AZ</td>\n    </tr>\n    <tr>\n      <th>6923</th>\n      <td>2021-12-07</td>\n      <td>Ronald Ehrich</td>\n      <td>88.0</td>\n      <td>male</td>\n      <td>gun</td>\n      <td>White</td>\n      <td>Riverview</td>\n      <td>FL</td>\n      <td>NaN</td>\n      <td>True</td>\n      <td>False</td>\n      <td>Hillsborough County Sheriff's Office, FL</td>\n    </tr>\n    <tr>\n      <th>...</th>\n      <td>...</td>\n      <td>...</td>\n      <td>...</td>\n      <td>...</td>\n      <td>...</td>\n      <td>...</td>\n      <td>...</td>\n      <td>...</td>\n      <td>...</td>\n      <td>...</td>\n      <td>...</td>\n      <td>...</td>\n    </tr>\n    <tr>\n      <th>9562</th>\n      <td>2024-04-17</td>\n      <td>NaN</td>\n      <td>NaN</td>\n      <td>male</td>\n      <td>gun</td>\n      <td>Unknown</td>\n      <td>Long Beach</td>\n      <td>CA</td>\n      <td>NaN</td>\n      <td>True</td>\n      <td>False</td>\n      <td>Long Beach Police Department, CA</td>\n    </tr>\n    <tr>\n      <th>9564</th>\n      <td>2024-04-17</td>\n      <td>NaN</td>\n      <td>NaN</td>\n      <td>NaN</td>\n      <td>gun</td>\n      <td>Unknown</td>\n      <td>Tukwila</td>\n      <td>WA</td>\n      <td>not</td>\n      <td>False</td>\n      <td>False</td>\n      <td>Seattle Police Department, WA</td>\n    </tr>\n    <tr>\n      <th>9565</th>\n      <td>2024-04-17</td>\n      <td>NaN</td>\n      <td>NaN</td>\n      <td>male</td>\n      <td>gun</td>\n      <td>Unknown</td>\n      <td>Pueblo</td>\n      <td>CO</td>\n      <td>not</td>\n      <td>False</td>\n      <td>False</td>\n      <td>Pueblo Police Department, CO</td>\n    </tr>\n    <tr>\n      <th>9566</th>\n      <td>2024-04-17</td>\n      <td>NaN</td>\n      <td>NaN</td>\n      <td>male</td>\n      <td>gun</td>\n      <td>Unknown</td>\n      <td>Cabin Creek</td>\n      <td>WV</td>\n      <td>not</td>\n      <td>False</td>\n      <td>False</td>\n      <td>Kanawha County Sheriff's Office, WV</td>\n    </tr>\n    <tr>\n      <th>9567</th>\n      <td>2024-04-18</td>\n      <td>Jared Billard</td>\n      <td>NaN</td>\n      <td>male</td>\n      <td>undetermined</td>\n      <td>Unknown</td>\n      <td>Colchester</td>\n      <td>CT</td>\n      <td>NaN</td>\n      <td>False</td>\n      <td>False</td>\n      <td>Colchester Police Department, CT</td>\n    </tr>\n  </tbody>\n</table>\n<p>9570 rows × 12 columns</p>\n</div>"
     },
     "execution_count": 218,
     "metadata": {},
     "output_type": "execute_result"
    }
   ],
   "source": [
    "oldest_victims"
   ],
   "metadata": {
    "collapsed": false,
    "ExecuteTime": {
     "end_time": "2024-04-29T08:29:05.486586200Z",
     "start_time": "2024-04-29T08:29:05.472076200Z"
    }
   },
   "id": "d467501d4a8aa093",
   "execution_count": 218
  },
  {
   "cell_type": "code",
   "outputs": [
    {
     "data": {
      "text/plain": "         date                name   age gender    armed      race     city  \\\n0  2015-01-02    Lewis Lee Lembke  47.0   male      gun     White    Aloha   \n1  2015-01-02          Tim Elliot  53.0   male      gun     Asian  Shelton   \n2  2015-01-03  John Paul Quintero  23.0   male  unarmed  Hispanic  Wichita   \n3  2015-01-04   Kenneth Joe Brown  18.0   male      gun     White  Guthrie   \n4  2015-01-04   Michael Rodriguez  39.0   male    other  Hispanic    Evans   \n\n  state flee  body_camera  signs_of_mental_illness  \\\n0    OR  not        False                    False   \n1    WA  not        False                     True   \n2    KS  not        False                    False   \n3    OK  not        False                    False   \n4    CO  not        False                    False   \n\n              police_departments_involved  \n0  Washington County Sheriff's Office, OR  \n1       Mason County Sheriff's Office, WA  \n2           Wichita Police Department, KS  \n3             Oklahoma Highway Patrol, OK  \n4             Evans Police Department, CO  ",
      "text/html": "<div>\n<style scoped>\n    .dataframe tbody tr th:only-of-type {\n        vertical-align: middle;\n    }\n\n    .dataframe tbody tr th {\n        vertical-align: top;\n    }\n\n    .dataframe thead th {\n        text-align: right;\n    }\n</style>\n<table border=\"1\" class=\"dataframe\">\n  <thead>\n    <tr style=\"text-align: right;\">\n      <th></th>\n      <th>date</th>\n      <th>name</th>\n      <th>age</th>\n      <th>gender</th>\n      <th>armed</th>\n      <th>race</th>\n      <th>city</th>\n      <th>state</th>\n      <th>flee</th>\n      <th>body_camera</th>\n      <th>signs_of_mental_illness</th>\n      <th>police_departments_involved</th>\n    </tr>\n  </thead>\n  <tbody>\n    <tr>\n      <th>0</th>\n      <td>2015-01-02</td>\n      <td>Lewis Lee Lembke</td>\n      <td>47.0</td>\n      <td>male</td>\n      <td>gun</td>\n      <td>White</td>\n      <td>Aloha</td>\n      <td>OR</td>\n      <td>not</td>\n      <td>False</td>\n      <td>False</td>\n      <td>Washington County Sheriff's Office, OR</td>\n    </tr>\n    <tr>\n      <th>1</th>\n      <td>2015-01-02</td>\n      <td>Tim Elliot</td>\n      <td>53.0</td>\n      <td>male</td>\n      <td>gun</td>\n      <td>Asian</td>\n      <td>Shelton</td>\n      <td>WA</td>\n      <td>not</td>\n      <td>False</td>\n      <td>True</td>\n      <td>Mason County Sheriff's Office, WA</td>\n    </tr>\n    <tr>\n      <th>2</th>\n      <td>2015-01-03</td>\n      <td>John Paul Quintero</td>\n      <td>23.0</td>\n      <td>male</td>\n      <td>unarmed</td>\n      <td>Hispanic</td>\n      <td>Wichita</td>\n      <td>KS</td>\n      <td>not</td>\n      <td>False</td>\n      <td>False</td>\n      <td>Wichita Police Department, KS</td>\n    </tr>\n    <tr>\n      <th>3</th>\n      <td>2015-01-04</td>\n      <td>Kenneth Joe Brown</td>\n      <td>18.0</td>\n      <td>male</td>\n      <td>gun</td>\n      <td>White</td>\n      <td>Guthrie</td>\n      <td>OK</td>\n      <td>not</td>\n      <td>False</td>\n      <td>False</td>\n      <td>Oklahoma Highway Patrol, OK</td>\n    </tr>\n    <tr>\n      <th>4</th>\n      <td>2015-01-04</td>\n      <td>Michael Rodriguez</td>\n      <td>39.0</td>\n      <td>male</td>\n      <td>other</td>\n      <td>Hispanic</td>\n      <td>Evans</td>\n      <td>CO</td>\n      <td>not</td>\n      <td>False</td>\n      <td>False</td>\n      <td>Evans Police Department, CO</td>\n    </tr>\n  </tbody>\n</table>\n</div>"
     },
     "execution_count": 162,
     "metadata": {},
     "output_type": "execute_result"
    }
   ],
   "source": [
    "df_police_shooting.head()"
   ],
   "metadata": {
    "collapsed": false,
    "ExecuteTime": {
     "end_time": "2024-04-28T14:26:48.646414100Z",
     "start_time": "2024-04-28T14:26:48.622376Z"
    }
   },
   "id": "2a72b98e9a54460",
   "execution_count": 162
  },
  {
   "cell_type": "markdown",
   "source": [
    "Wie alt war das jüngste Opfer "
   ],
   "metadata": {
    "collapsed": false
   },
   "id": "98cff8e42ca2b941"
  },
  {
   "cell_type": "code",
   "outputs": [
    {
     "data": {
      "text/plain": "            date                          name  age  gender    armed   race  \\\n7237  2022-03-26       Clesslynn Jane Crawford  2.0  female  unarmed  White   \n9464  2024-03-16       Terrell Marshawn Miller  4.0    male  unarmed  Black   \n834   2015-11-03                 Jeremy Mardis  6.0    male  unarmed  White   \n2905  2017-12-21  Kameron Christopher Prescott  6.0    male  unarmed  White   \n6640  2021-08-27                  Fanta Bility  8.0  female  unarmed  Black   \n\n                city state flee  body_camera  signs_of_mental_illness  \\\n7237  Baxter Springs    KS  NaN        False                    False   \n9464          Macomb    IL  not        False                    False   \n834       Marksville    LA  car         True                    False   \n2905         Schertz    TX  not        False                    False   \n6640     Sharon Hill    PA  not        False                    False   \n\n            police_departments_involved  \n7237       Joplin Police Department, MO  \n9464       Macomb Police Department, IL  \n834    Marksville Police Department, LA  \n2905  Bexar County Sheriff's Office, TX  \n6640  Sharon Hill Police Department, PA  ",
      "text/html": "<div>\n<style scoped>\n    .dataframe tbody tr th:only-of-type {\n        vertical-align: middle;\n    }\n\n    .dataframe tbody tr th {\n        vertical-align: top;\n    }\n\n    .dataframe thead th {\n        text-align: right;\n    }\n</style>\n<table border=\"1\" class=\"dataframe\">\n  <thead>\n    <tr style=\"text-align: right;\">\n      <th></th>\n      <th>date</th>\n      <th>name</th>\n      <th>age</th>\n      <th>gender</th>\n      <th>armed</th>\n      <th>race</th>\n      <th>city</th>\n      <th>state</th>\n      <th>flee</th>\n      <th>body_camera</th>\n      <th>signs_of_mental_illness</th>\n      <th>police_departments_involved</th>\n    </tr>\n  </thead>\n  <tbody>\n    <tr>\n      <th>7237</th>\n      <td>2022-03-26</td>\n      <td>Clesslynn Jane Crawford</td>\n      <td>2.0</td>\n      <td>female</td>\n      <td>unarmed</td>\n      <td>White</td>\n      <td>Baxter Springs</td>\n      <td>KS</td>\n      <td>NaN</td>\n      <td>False</td>\n      <td>False</td>\n      <td>Joplin Police Department, MO</td>\n    </tr>\n    <tr>\n      <th>9464</th>\n      <td>2024-03-16</td>\n      <td>Terrell Marshawn Miller</td>\n      <td>4.0</td>\n      <td>male</td>\n      <td>unarmed</td>\n      <td>Black</td>\n      <td>Macomb</td>\n      <td>IL</td>\n      <td>not</td>\n      <td>False</td>\n      <td>False</td>\n      <td>Macomb Police Department, IL</td>\n    </tr>\n    <tr>\n      <th>834</th>\n      <td>2015-11-03</td>\n      <td>Jeremy Mardis</td>\n      <td>6.0</td>\n      <td>male</td>\n      <td>unarmed</td>\n      <td>White</td>\n      <td>Marksville</td>\n      <td>LA</td>\n      <td>car</td>\n      <td>True</td>\n      <td>False</td>\n      <td>Marksville Police Department, LA</td>\n    </tr>\n    <tr>\n      <th>2905</th>\n      <td>2017-12-21</td>\n      <td>Kameron Christopher Prescott</td>\n      <td>6.0</td>\n      <td>male</td>\n      <td>unarmed</td>\n      <td>White</td>\n      <td>Schertz</td>\n      <td>TX</td>\n      <td>not</td>\n      <td>False</td>\n      <td>False</td>\n      <td>Bexar County Sheriff's Office, TX</td>\n    </tr>\n    <tr>\n      <th>6640</th>\n      <td>2021-08-27</td>\n      <td>Fanta Bility</td>\n      <td>8.0</td>\n      <td>female</td>\n      <td>unarmed</td>\n      <td>Black</td>\n      <td>Sharon Hill</td>\n      <td>PA</td>\n      <td>not</td>\n      <td>False</td>\n      <td>False</td>\n      <td>Sharon Hill Police Department, PA</td>\n    </tr>\n  </tbody>\n</table>\n</div>"
     },
     "execution_count": 219,
     "metadata": {},
     "output_type": "execute_result"
    }
   ],
   "source": [
    "youngest_victims = df_police_shooting.sort_values(by=\"age\", ascending=True)\n",
    "youngest_victims.head()"
   ],
   "metadata": {
    "collapsed": false,
    "ExecuteTime": {
     "end_time": "2024-04-29T08:30:35.005721200Z",
     "start_time": "2024-04-29T08:30:34.964698600Z"
    }
   },
   "id": "aa798ce3a224fbfe",
   "execution_count": 219
  },
  {
   "cell_type": "markdown",
   "source": [
    "Das jüngste Opfer war 2 Jahre alt"
   ],
   "metadata": {
    "collapsed": false
   },
   "id": "954cef6ec12e12d5"
  },
  {
   "cell_type": "code",
   "outputs": [
    {
     "ename": "TypeError",
     "evalue": "unsupported operand type(s) for /: 'str' and 'int'",
     "output_type": "error",
     "traceback": [
      "\u001B[1;31m---------------------------------------------------------------------------\u001B[0m",
      "\u001B[1;31mTypeError\u001B[0m                                 Traceback (most recent call last)",
      "File \u001B[1;32m~\\Documents\\PycharmProjekte\\DeathsInvolvongPoliceDataAnalysis\\.venv\\Lib\\site-packages\\pandas\\core\\ops\\array_ops.py:218\u001B[0m, in \u001B[0;36m_na_arithmetic_op\u001B[1;34m(left, right, op, is_cmp)\u001B[0m\n\u001B[0;32m    217\u001B[0m \u001B[38;5;28;01mtry\u001B[39;00m:\n\u001B[1;32m--> 218\u001B[0m     result \u001B[38;5;241m=\u001B[39m \u001B[43mfunc\u001B[49m\u001B[43m(\u001B[49m\u001B[43mleft\u001B[49m\u001B[43m,\u001B[49m\u001B[43m \u001B[49m\u001B[43mright\u001B[49m\u001B[43m)\u001B[49m\n\u001B[0;32m    219\u001B[0m \u001B[38;5;28;01mexcept\u001B[39;00m \u001B[38;5;167;01mTypeError\u001B[39;00m:\n",
      "File \u001B[1;32m~\\Documents\\PycharmProjekte\\DeathsInvolvongPoliceDataAnalysis\\.venv\\Lib\\site-packages\\pandas\\core\\computation\\expressions.py:242\u001B[0m, in \u001B[0;36mevaluate\u001B[1;34m(op, a, b, use_numexpr)\u001B[0m\n\u001B[0;32m    240\u001B[0m     \u001B[38;5;28;01mif\u001B[39;00m use_numexpr:\n\u001B[0;32m    241\u001B[0m         \u001B[38;5;66;03m# error: \"None\" not callable\u001B[39;00m\n\u001B[1;32m--> 242\u001B[0m         \u001B[38;5;28;01mreturn\u001B[39;00m \u001B[43m_evaluate\u001B[49m\u001B[43m(\u001B[49m\u001B[43mop\u001B[49m\u001B[43m,\u001B[49m\u001B[43m \u001B[49m\u001B[43mop_str\u001B[49m\u001B[43m,\u001B[49m\u001B[43m \u001B[49m\u001B[43ma\u001B[49m\u001B[43m,\u001B[49m\u001B[43m \u001B[49m\u001B[43mb\u001B[49m\u001B[43m)\u001B[49m  \u001B[38;5;66;03m# type: ignore[misc]\u001B[39;00m\n\u001B[0;32m    243\u001B[0m \u001B[38;5;28;01mreturn\u001B[39;00m _evaluate_standard(op, op_str, a, b)\n",
      "File \u001B[1;32m~\\Documents\\PycharmProjekte\\DeathsInvolvongPoliceDataAnalysis\\.venv\\Lib\\site-packages\\pandas\\core\\computation\\expressions.py:73\u001B[0m, in \u001B[0;36m_evaluate_standard\u001B[1;34m(op, op_str, a, b)\u001B[0m\n\u001B[0;32m     72\u001B[0m     _store_test_result(\u001B[38;5;28;01mFalse\u001B[39;00m)\n\u001B[1;32m---> 73\u001B[0m \u001B[38;5;28;01mreturn\u001B[39;00m \u001B[43mop\u001B[49m\u001B[43m(\u001B[49m\u001B[43ma\u001B[49m\u001B[43m,\u001B[49m\u001B[43m \u001B[49m\u001B[43mb\u001B[49m\u001B[43m)\u001B[49m\n",
      "\u001B[1;31mTypeError\u001B[0m: unsupported operand type(s) for /: 'str' and 'int'",
      "\nDuring handling of the above exception, another exception occurred:\n",
      "\u001B[1;31mTypeError\u001B[0m                                 Traceback (most recent call last)",
      "Cell \u001B[1;32mIn[172], line 1\u001B[0m\n\u001B[1;32m----> 1\u001B[0m \u001B[43mdf_police_shooting\u001B[49m\u001B[43m[\u001B[49m\u001B[43mdf_police_shooting\u001B[49m\u001B[43m[\u001B[49m\u001B[38;5;124;43m\"\u001B[39;49m\u001B[38;5;124;43mgender\u001B[39;49m\u001B[38;5;124;43m\"\u001B[39;49m\u001B[43m]\u001B[49m\u001B[43m \u001B[49m\u001B[38;5;241;43m==\u001B[39;49m\u001B[43m \u001B[49m\u001B[38;5;124;43m\"\u001B[39;49m\u001B[38;5;124;43mfemale\u001B[39;49m\u001B[38;5;124;43m\"\u001B[39;49m\u001B[43m]\u001B[49m\u001B[43m \u001B[49m\u001B[38;5;241;43m*\u001B[39;49m\u001B[43m \u001B[49m\u001B[38;5;241;43m100\u001B[39;49m\u001B[43m \u001B[49m\u001B[38;5;241;43m/\u001B[39;49m\u001B[43m \u001B[49m\u001B[43mdf_police_shooting\u001B[49m\u001B[38;5;241;43m.\u001B[39;49m\u001B[43mshape\u001B[49m\u001B[43m[\u001B[49m\u001B[38;5;241;43m0\u001B[39;49m\u001B[43m]\u001B[49m \n",
      "File \u001B[1;32m~\\Documents\\PycharmProjekte\\DeathsInvolvongPoliceDataAnalysis\\.venv\\Lib\\site-packages\\pandas\\core\\ops\\common.py:76\u001B[0m, in \u001B[0;36m_unpack_zerodim_and_defer.<locals>.new_method\u001B[1;34m(self, other)\u001B[0m\n\u001B[0;32m     72\u001B[0m             \u001B[38;5;28;01mreturn\u001B[39;00m \u001B[38;5;28mNotImplemented\u001B[39m\n\u001B[0;32m     74\u001B[0m other \u001B[38;5;241m=\u001B[39m item_from_zerodim(other)\n\u001B[1;32m---> 76\u001B[0m \u001B[38;5;28;01mreturn\u001B[39;00m \u001B[43mmethod\u001B[49m\u001B[43m(\u001B[49m\u001B[38;5;28;43mself\u001B[39;49m\u001B[43m,\u001B[49m\u001B[43m \u001B[49m\u001B[43mother\u001B[49m\u001B[43m)\u001B[49m\n",
      "File \u001B[1;32m~\\Documents\\PycharmProjekte\\DeathsInvolvongPoliceDataAnalysis\\.venv\\Lib\\site-packages\\pandas\\core\\arraylike.py:210\u001B[0m, in \u001B[0;36mOpsMixin.__truediv__\u001B[1;34m(self, other)\u001B[0m\n\u001B[0;32m    208\u001B[0m \u001B[38;5;129m@unpack_zerodim_and_defer\u001B[39m(\u001B[38;5;124m\"\u001B[39m\u001B[38;5;124m__truediv__\u001B[39m\u001B[38;5;124m\"\u001B[39m)\n\u001B[0;32m    209\u001B[0m \u001B[38;5;28;01mdef\u001B[39;00m \u001B[38;5;21m__truediv__\u001B[39m(\u001B[38;5;28mself\u001B[39m, other):\n\u001B[1;32m--> 210\u001B[0m     \u001B[38;5;28;01mreturn\u001B[39;00m \u001B[38;5;28;43mself\u001B[39;49m\u001B[38;5;241;43m.\u001B[39;49m\u001B[43m_arith_method\u001B[49m\u001B[43m(\u001B[49m\u001B[43mother\u001B[49m\u001B[43m,\u001B[49m\u001B[43m \u001B[49m\u001B[43moperator\u001B[49m\u001B[38;5;241;43m.\u001B[39;49m\u001B[43mtruediv\u001B[49m\u001B[43m)\u001B[49m\n",
      "File \u001B[1;32m~\\Documents\\PycharmProjekte\\DeathsInvolvongPoliceDataAnalysis\\.venv\\Lib\\site-packages\\pandas\\core\\frame.py:7913\u001B[0m, in \u001B[0;36mDataFrame._arith_method\u001B[1;34m(self, other, op)\u001B[0m\n\u001B[0;32m   7910\u001B[0m \u001B[38;5;28mself\u001B[39m, other \u001B[38;5;241m=\u001B[39m \u001B[38;5;28mself\u001B[39m\u001B[38;5;241m.\u001B[39m_align_for_op(other, axis, flex\u001B[38;5;241m=\u001B[39m\u001B[38;5;28;01mTrue\u001B[39;00m, level\u001B[38;5;241m=\u001B[39m\u001B[38;5;28;01mNone\u001B[39;00m)\n\u001B[0;32m   7912\u001B[0m \u001B[38;5;28;01mwith\u001B[39;00m np\u001B[38;5;241m.\u001B[39merrstate(\u001B[38;5;28mall\u001B[39m\u001B[38;5;241m=\u001B[39m\u001B[38;5;124m\"\u001B[39m\u001B[38;5;124mignore\u001B[39m\u001B[38;5;124m\"\u001B[39m):\n\u001B[1;32m-> 7913\u001B[0m     new_data \u001B[38;5;241m=\u001B[39m \u001B[38;5;28;43mself\u001B[39;49m\u001B[38;5;241;43m.\u001B[39;49m\u001B[43m_dispatch_frame_op\u001B[49m\u001B[43m(\u001B[49m\u001B[43mother\u001B[49m\u001B[43m,\u001B[49m\u001B[43m \u001B[49m\u001B[43mop\u001B[49m\u001B[43m,\u001B[49m\u001B[43m \u001B[49m\u001B[43maxis\u001B[49m\u001B[38;5;241;43m=\u001B[39;49m\u001B[43maxis\u001B[49m\u001B[43m)\u001B[49m\n\u001B[0;32m   7914\u001B[0m \u001B[38;5;28;01mreturn\u001B[39;00m \u001B[38;5;28mself\u001B[39m\u001B[38;5;241m.\u001B[39m_construct_result(new_data)\n",
      "File \u001B[1;32m~\\Documents\\PycharmProjekte\\DeathsInvolvongPoliceDataAnalysis\\.venv\\Lib\\site-packages\\pandas\\core\\frame.py:7945\u001B[0m, in \u001B[0;36mDataFrame._dispatch_frame_op\u001B[1;34m(self, right, func, axis)\u001B[0m\n\u001B[0;32m   7942\u001B[0m right \u001B[38;5;241m=\u001B[39m lib\u001B[38;5;241m.\u001B[39mitem_from_zerodim(right)\n\u001B[0;32m   7943\u001B[0m \u001B[38;5;28;01mif\u001B[39;00m \u001B[38;5;129;01mnot\u001B[39;00m is_list_like(right):\n\u001B[0;32m   7944\u001B[0m     \u001B[38;5;66;03m# i.e. scalar, faster than checking np.ndim(right) == 0\u001B[39;00m\n\u001B[1;32m-> 7945\u001B[0m     bm \u001B[38;5;241m=\u001B[39m \u001B[38;5;28;43mself\u001B[39;49m\u001B[38;5;241;43m.\u001B[39;49m\u001B[43m_mgr\u001B[49m\u001B[38;5;241;43m.\u001B[39;49m\u001B[43mapply\u001B[49m\u001B[43m(\u001B[49m\u001B[43marray_op\u001B[49m\u001B[43m,\u001B[49m\u001B[43m \u001B[49m\u001B[43mright\u001B[49m\u001B[38;5;241;43m=\u001B[39;49m\u001B[43mright\u001B[49m\u001B[43m)\u001B[49m\n\u001B[0;32m   7946\u001B[0m     \u001B[38;5;28;01mreturn\u001B[39;00m \u001B[38;5;28mself\u001B[39m\u001B[38;5;241m.\u001B[39m_constructor_from_mgr(bm, axes\u001B[38;5;241m=\u001B[39mbm\u001B[38;5;241m.\u001B[39maxes)\n\u001B[0;32m   7948\u001B[0m \u001B[38;5;28;01melif\u001B[39;00m \u001B[38;5;28misinstance\u001B[39m(right, DataFrame):\n",
      "File \u001B[1;32m~\\Documents\\PycharmProjekte\\DeathsInvolvongPoliceDataAnalysis\\.venv\\Lib\\site-packages\\pandas\\core\\internals\\managers.py:361\u001B[0m, in \u001B[0;36mBaseBlockManager.apply\u001B[1;34m(self, f, align_keys, **kwargs)\u001B[0m\n\u001B[0;32m    358\u001B[0m             kwargs[k] \u001B[38;5;241m=\u001B[39m obj[b\u001B[38;5;241m.\u001B[39mmgr_locs\u001B[38;5;241m.\u001B[39mindexer]\n\u001B[0;32m    360\u001B[0m \u001B[38;5;28;01mif\u001B[39;00m \u001B[38;5;28mcallable\u001B[39m(f):\n\u001B[1;32m--> 361\u001B[0m     applied \u001B[38;5;241m=\u001B[39m \u001B[43mb\u001B[49m\u001B[38;5;241;43m.\u001B[39;49m\u001B[43mapply\u001B[49m\u001B[43m(\u001B[49m\u001B[43mf\u001B[49m\u001B[43m,\u001B[49m\u001B[43m \u001B[49m\u001B[38;5;241;43m*\u001B[39;49m\u001B[38;5;241;43m*\u001B[39;49m\u001B[43mkwargs\u001B[49m\u001B[43m)\u001B[49m\n\u001B[0;32m    362\u001B[0m \u001B[38;5;28;01melse\u001B[39;00m:\n\u001B[0;32m    363\u001B[0m     applied \u001B[38;5;241m=\u001B[39m \u001B[38;5;28mgetattr\u001B[39m(b, f)(\u001B[38;5;241m*\u001B[39m\u001B[38;5;241m*\u001B[39mkwargs)\n",
      "File \u001B[1;32m~\\Documents\\PycharmProjekte\\DeathsInvolvongPoliceDataAnalysis\\.venv\\Lib\\site-packages\\pandas\\core\\internals\\blocks.py:393\u001B[0m, in \u001B[0;36mBlock.apply\u001B[1;34m(self, func, **kwargs)\u001B[0m\n\u001B[0;32m    387\u001B[0m \u001B[38;5;129m@final\u001B[39m\n\u001B[0;32m    388\u001B[0m \u001B[38;5;28;01mdef\u001B[39;00m \u001B[38;5;21mapply\u001B[39m(\u001B[38;5;28mself\u001B[39m, func, \u001B[38;5;241m*\u001B[39m\u001B[38;5;241m*\u001B[39mkwargs) \u001B[38;5;241m-\u001B[39m\u001B[38;5;241m>\u001B[39m \u001B[38;5;28mlist\u001B[39m[Block]:\n\u001B[0;32m    389\u001B[0m \u001B[38;5;250m    \u001B[39m\u001B[38;5;124;03m\"\"\"\u001B[39;00m\n\u001B[0;32m    390\u001B[0m \u001B[38;5;124;03m    apply the function to my values; return a block if we are not\u001B[39;00m\n\u001B[0;32m    391\u001B[0m \u001B[38;5;124;03m    one\u001B[39;00m\n\u001B[0;32m    392\u001B[0m \u001B[38;5;124;03m    \"\"\"\u001B[39;00m\n\u001B[1;32m--> 393\u001B[0m     result \u001B[38;5;241m=\u001B[39m \u001B[43mfunc\u001B[49m\u001B[43m(\u001B[49m\u001B[38;5;28;43mself\u001B[39;49m\u001B[38;5;241;43m.\u001B[39;49m\u001B[43mvalues\u001B[49m\u001B[43m,\u001B[49m\u001B[43m \u001B[49m\u001B[38;5;241;43m*\u001B[39;49m\u001B[38;5;241;43m*\u001B[39;49m\u001B[43mkwargs\u001B[49m\u001B[43m)\u001B[49m\n\u001B[0;32m    395\u001B[0m     result \u001B[38;5;241m=\u001B[39m maybe_coerce_values(result)\n\u001B[0;32m    396\u001B[0m     \u001B[38;5;28;01mreturn\u001B[39;00m \u001B[38;5;28mself\u001B[39m\u001B[38;5;241m.\u001B[39m_split_op_result(result)\n",
      "File \u001B[1;32m~\\Documents\\PycharmProjekte\\DeathsInvolvongPoliceDataAnalysis\\.venv\\Lib\\site-packages\\pandas\\core\\ops\\array_ops.py:283\u001B[0m, in \u001B[0;36marithmetic_op\u001B[1;34m(left, right, op)\u001B[0m\n\u001B[0;32m    279\u001B[0m     _bool_arith_check(op, left, right)  \u001B[38;5;66;03m# type: ignore[arg-type]\u001B[39;00m\n\u001B[0;32m    281\u001B[0m     \u001B[38;5;66;03m# error: Argument 1 to \"_na_arithmetic_op\" has incompatible type\u001B[39;00m\n\u001B[0;32m    282\u001B[0m     \u001B[38;5;66;03m# \"Union[ExtensionArray, ndarray[Any, Any]]\"; expected \"ndarray[Any, Any]\"\u001B[39;00m\n\u001B[1;32m--> 283\u001B[0m     res_values \u001B[38;5;241m=\u001B[39m \u001B[43m_na_arithmetic_op\u001B[49m\u001B[43m(\u001B[49m\u001B[43mleft\u001B[49m\u001B[43m,\u001B[49m\u001B[43m \u001B[49m\u001B[43mright\u001B[49m\u001B[43m,\u001B[49m\u001B[43m \u001B[49m\u001B[43mop\u001B[49m\u001B[43m)\u001B[49m  \u001B[38;5;66;03m# type: ignore[arg-type]\u001B[39;00m\n\u001B[0;32m    285\u001B[0m \u001B[38;5;28;01mreturn\u001B[39;00m res_values\n",
      "File \u001B[1;32m~\\Documents\\PycharmProjekte\\DeathsInvolvongPoliceDataAnalysis\\.venv\\Lib\\site-packages\\pandas\\core\\ops\\array_ops.py:227\u001B[0m, in \u001B[0;36m_na_arithmetic_op\u001B[1;34m(left, right, op, is_cmp)\u001B[0m\n\u001B[0;32m    219\u001B[0m \u001B[38;5;28;01mexcept\u001B[39;00m \u001B[38;5;167;01mTypeError\u001B[39;00m:\n\u001B[0;32m    220\u001B[0m     \u001B[38;5;28;01mif\u001B[39;00m \u001B[38;5;129;01mnot\u001B[39;00m is_cmp \u001B[38;5;129;01mand\u001B[39;00m (\n\u001B[0;32m    221\u001B[0m         left\u001B[38;5;241m.\u001B[39mdtype \u001B[38;5;241m==\u001B[39m \u001B[38;5;28mobject\u001B[39m \u001B[38;5;129;01mor\u001B[39;00m \u001B[38;5;28mgetattr\u001B[39m(right, \u001B[38;5;124m\"\u001B[39m\u001B[38;5;124mdtype\u001B[39m\u001B[38;5;124m\"\u001B[39m, \u001B[38;5;28;01mNone\u001B[39;00m) \u001B[38;5;241m==\u001B[39m \u001B[38;5;28mobject\u001B[39m\n\u001B[0;32m    222\u001B[0m     ):\n\u001B[1;32m   (...)\u001B[0m\n\u001B[0;32m    225\u001B[0m         \u001B[38;5;66;03m# Don't do this for comparisons, as that will handle complex numbers\u001B[39;00m\n\u001B[0;32m    226\u001B[0m         \u001B[38;5;66;03m#  incorrectly, see GH#32047\u001B[39;00m\n\u001B[1;32m--> 227\u001B[0m         result \u001B[38;5;241m=\u001B[39m \u001B[43m_masked_arith_op\u001B[49m\u001B[43m(\u001B[49m\u001B[43mleft\u001B[49m\u001B[43m,\u001B[49m\u001B[43m \u001B[49m\u001B[43mright\u001B[49m\u001B[43m,\u001B[49m\u001B[43m \u001B[49m\u001B[43mop\u001B[49m\u001B[43m)\u001B[49m\n\u001B[0;32m    228\u001B[0m     \u001B[38;5;28;01melse\u001B[39;00m:\n\u001B[0;32m    229\u001B[0m         \u001B[38;5;28;01mraise\u001B[39;00m\n",
      "File \u001B[1;32m~\\Documents\\PycharmProjekte\\DeathsInvolvongPoliceDataAnalysis\\.venv\\Lib\\site-packages\\pandas\\core\\ops\\array_ops.py:182\u001B[0m, in \u001B[0;36m_masked_arith_op\u001B[1;34m(x, y, op)\u001B[0m\n\u001B[0;32m    179\u001B[0m         mask \u001B[38;5;241m=\u001B[39m np\u001B[38;5;241m.\u001B[39mwhere(y \u001B[38;5;241m==\u001B[39m \u001B[38;5;241m1\u001B[39m, \u001B[38;5;28;01mFalse\u001B[39;00m, mask)\n\u001B[0;32m    181\u001B[0m     \u001B[38;5;28;01mif\u001B[39;00m mask\u001B[38;5;241m.\u001B[39many():\n\u001B[1;32m--> 182\u001B[0m         result[mask] \u001B[38;5;241m=\u001B[39m \u001B[43mop\u001B[49m\u001B[43m(\u001B[49m\u001B[43mxrav\u001B[49m\u001B[43m[\u001B[49m\u001B[43mmask\u001B[49m\u001B[43m]\u001B[49m\u001B[43m,\u001B[49m\u001B[43m \u001B[49m\u001B[43my\u001B[49m\u001B[43m)\u001B[49m\n\u001B[0;32m    184\u001B[0m np\u001B[38;5;241m.\u001B[39mputmask(result, \u001B[38;5;241m~\u001B[39mmask, np\u001B[38;5;241m.\u001B[39mnan)\n\u001B[0;32m    185\u001B[0m result \u001B[38;5;241m=\u001B[39m result\u001B[38;5;241m.\u001B[39mreshape(x\u001B[38;5;241m.\u001B[39mshape)  \u001B[38;5;66;03m# 2D compat\u001B[39;00m\n",
      "\u001B[1;31mTypeError\u001B[0m: unsupported operand type(s) for /: 'str' and 'int'"
     ]
    }
   ],
   "source": [
    "df_police_shooting[df_police_shooting[\"gender\"] == \"female\"] * 100 / df_police_shooting.shape[0] "
   ],
   "metadata": {
    "collapsed": false,
    "ExecuteTime": {
     "end_time": "2024-04-28T14:34:16.778869300Z",
     "start_time": "2024-04-28T14:34:16.704482900Z"
    }
   },
   "id": "93bc2ec2f6fd99c2",
   "execution_count": 172
  },
  {
   "cell_type": "markdown",
   "source": [
    "Das durschnittsalter"
   ],
   "metadata": {
    "collapsed": false
   },
   "id": "25799178be9707cd"
  },
  {
   "cell_type": "code",
   "outputs": [
    {
     "data": {
      "text/plain": "37.41077844311377"
     },
     "execution_count": 24,
     "metadata": {},
     "output_type": "execute_result"
    }
   ],
   "source": [
    "df_police_shooting[\"age\"].mean()"
   ],
   "metadata": {
    "collapsed": false,
    "ExecuteTime": {
     "end_time": "2024-04-28T10:08:24.213764600Z",
     "start_time": "2024-04-28T10:08:24.208928800Z"
    }
   },
   "id": "101f8132a182457d",
   "execution_count": 24
  },
  {
   "cell_type": "markdown",
   "source": [
    "Im Schnitt war das durchschnittliche Opfer 34 Jahre alt"
   ],
   "metadata": {
    "collapsed": false
   },
   "id": "fe5dd033efb84f5e"
  },
  {
   "cell_type": "code",
   "outputs": [],
   "source": [],
   "metadata": {
    "collapsed": false
   },
   "id": "85138a9255953090"
  },
  {
   "cell_type": "code",
   "outputs": [],
   "source": [],
   "metadata": {
    "collapsed": false
   },
   "id": "873db32b1c5c15e"
  },
  {
   "cell_type": "code",
   "outputs": [],
   "source": [],
   "metadata": {
    "collapsed": false
   },
   "id": "12ffbadfecabe154"
  },
  {
   "cell_type": "markdown",
   "source": [
    "Anteil der schwarzen Bevölerung"
   ],
   "metadata": {
    "collapsed": false
   },
   "id": "25c66e1321f85347"
  },
  {
   "cell_type": "markdown",
   "source": [],
   "metadata": {
    "collapsed": false
   },
   "id": "da97d3484cf20127"
  },
  {
   "cell_type": "code",
   "outputs": [],
   "source": [],
   "metadata": {
    "collapsed": false
   },
   "id": "2f09594eff52b9c"
  },
  {
   "cell_type": "code",
   "outputs": [
    {
     "data": {
      "text/plain": "46.28806762761461"
     },
     "execution_count": 45,
     "metadata": {},
     "output_type": "execute_result"
    }
   ],
   "source": [
    "df_white_victims = df_police_shooting[df_police_shooting[\"race\"] == \"White\"]\n",
    "white_victims_percentage = df_white_victims[\"name\"].count() * 100 / df_police_shooting[\"name\"].count()\n",
    "white_victims_percentage"
   ],
   "metadata": {
    "collapsed": false,
    "ExecuteTime": {
     "end_time": "2024-04-29T12:29:03.238502800Z",
     "start_time": "2024-04-29T12:29:03.227869600Z"
    }
   },
   "id": "7589bd17dcc6c7ab",
   "execution_count": 45
  },
  {
   "cell_type": "code",
   "outputs": [
    {
     "data": {
      "text/plain": "24.21155305082909"
     },
     "execution_count": 46,
     "metadata": {},
     "output_type": "execute_result"
    }
   ],
   "source": [
    "df_black_victims = df_police_shooting[df_police_shooting[\"race\"] == \"Black\"]\n",
    "black_victims_percentage = df_black_victims[\"name\"].count() * 100 / df_police_shooting[\"name\"].count()\n",
    "black_victims_percentage"
   ],
   "metadata": {
    "collapsed": false,
    "ExecuteTime": {
     "end_time": "2024-04-29T12:29:04.580945200Z",
     "start_time": "2024-04-29T12:29:04.557526500Z"
    }
   },
   "id": "8138c5914c3a9b88",
   "execution_count": 46
  },
  {
   "cell_type": "markdown",
   "source": [
    "Das durchschnittsalter der schwarzen und weißen Opfer"
   ],
   "metadata": {
    "collapsed": false
   },
   "id": "dccd912d54793a5c"
  },
  {
   "cell_type": "code",
   "outputs": [
    {
     "data": {
      "text/plain": "33.08224130140081"
     },
     "execution_count": 49,
     "metadata": {},
     "output_type": "execute_result"
    }
   ],
   "source": [
    "df_black_victims[\"age\"].mean()"
   ],
   "metadata": {
    "collapsed": false,
    "ExecuteTime": {
     "end_time": "2024-04-29T12:34:50.684226600Z",
     "start_time": "2024-04-29T12:34:50.652962Z"
    }
   },
   "id": "17ee18a22c3a54ba",
   "execution_count": 49
  },
  {
   "cell_type": "markdown",
   "source": [],
   "metadata": {
    "collapsed": false
   },
   "id": "9add61f7a28ed2ae"
  },
  {
   "cell_type": "code",
   "outputs": [
    {
     "ename": "AttributeError",
     "evalue": "'DataFrame' object has no attribute 'append'",
     "output_type": "error",
     "traceback": [
      "\u001B[1;31m---------------------------------------------------------------------------\u001B[0m",
      "\u001B[1;31mAttributeError\u001B[0m                            Traceback (most recent call last)",
      "\u001B[1;32m~\\AppData\\Local\\Temp\\ipykernel_17048\\80017074.py\u001B[0m in \u001B[0;36m?\u001B[1;34m()\u001B[0m\n\u001B[0;32m      1\u001B[0m \u001B[0mdf_black_and_white_victims_percentage\u001B[0m \u001B[1;33m=\u001B[0m \u001B[0mpandas\u001B[0m\u001B[1;33m.\u001B[0m\u001B[0mDataFrame\u001B[0m\u001B[1;33m(\u001B[0m\u001B[0mcolumns\u001B[0m\u001B[1;33m=\u001B[0m\u001B[1;33m[\u001B[0m\u001B[1;34m\"Black\"\u001B[0m\u001B[1;33m,\u001B[0m \u001B[1;34m\"White\"\u001B[0m\u001B[1;33m]\u001B[0m\u001B[1;33m)\u001B[0m\u001B[1;33m\u001B[0m\u001B[1;33m\u001B[0m\u001B[0m\n\u001B[0;32m      2\u001B[0m \u001B[0mnew_row\u001B[0m \u001B[1;33m=\u001B[0m \u001B[1;33m{\u001B[0m\u001B[1;34m\"Black\"\u001B[0m\u001B[1;33m:\u001B[0m \u001B[0mblack_victims_percentage\u001B[0m\u001B[1;33m,\u001B[0m \u001B[1;34m\"White\"\u001B[0m\u001B[1;33m:\u001B[0m \u001B[0mwhite_victims_percentage\u001B[0m\u001B[1;33m}\u001B[0m\u001B[1;33m\u001B[0m\u001B[1;33m\u001B[0m\u001B[0m\n\u001B[1;32m----> 3\u001B[1;33m \u001B[0mdf_black_and_white_victims_percentage\u001B[0m \u001B[1;33m=\u001B[0m \u001B[0mdf_black_and_white_victims_percentage\u001B[0m\u001B[1;33m.\u001B[0m\u001B[0mappend\u001B[0m\u001B[1;33m(\u001B[0m\u001B[0mnew_row\u001B[0m\u001B[1;33m,\u001B[0m \u001B[0mignore_index\u001B[0m\u001B[1;33m=\u001B[0m\u001B[1;32mTrue\u001B[0m\u001B[1;33m)\u001B[0m\u001B[1;33m\u001B[0m\u001B[1;33m\u001B[0m\u001B[0m\n\u001B[0m\u001B[0;32m      4\u001B[0m \u001B[0mdf_black_and_white_victims_percentage\u001B[0m\u001B[1;33m\u001B[0m\u001B[1;33m\u001B[0m\u001B[0m\n",
      "\u001B[1;32m~\\Documents\\PycharmProjekte\\DeathsInvolvongPoliceDataAnalysis\\.venv\\Lib\\site-packages\\pandas\\core\\generic.py\u001B[0m in \u001B[0;36m?\u001B[1;34m(self, name)\u001B[0m\n\u001B[0;32m   6295\u001B[0m             \u001B[1;32mand\u001B[0m \u001B[0mname\u001B[0m \u001B[1;32mnot\u001B[0m \u001B[1;32min\u001B[0m \u001B[0mself\u001B[0m\u001B[1;33m.\u001B[0m\u001B[0m_accessors\u001B[0m\u001B[1;33m\u001B[0m\u001B[1;33m\u001B[0m\u001B[0m\n\u001B[0;32m   6296\u001B[0m             \u001B[1;32mand\u001B[0m \u001B[0mself\u001B[0m\u001B[1;33m.\u001B[0m\u001B[0m_info_axis\u001B[0m\u001B[1;33m.\u001B[0m\u001B[0m_can_hold_identifiers_and_holds_name\u001B[0m\u001B[1;33m(\u001B[0m\u001B[0mname\u001B[0m\u001B[1;33m)\u001B[0m\u001B[1;33m\u001B[0m\u001B[1;33m\u001B[0m\u001B[0m\n\u001B[0;32m   6297\u001B[0m         \u001B[1;33m)\u001B[0m\u001B[1;33m:\u001B[0m\u001B[1;33m\u001B[0m\u001B[1;33m\u001B[0m\u001B[0m\n\u001B[0;32m   6298\u001B[0m             \u001B[1;32mreturn\u001B[0m \u001B[0mself\u001B[0m\u001B[1;33m[\u001B[0m\u001B[0mname\u001B[0m\u001B[1;33m]\u001B[0m\u001B[1;33m\u001B[0m\u001B[1;33m\u001B[0m\u001B[0m\n\u001B[1;32m-> 6299\u001B[1;33m         \u001B[1;32mreturn\u001B[0m \u001B[0mobject\u001B[0m\u001B[1;33m.\u001B[0m\u001B[0m__getattribute__\u001B[0m\u001B[1;33m(\u001B[0m\u001B[0mself\u001B[0m\u001B[1;33m,\u001B[0m \u001B[0mname\u001B[0m\u001B[1;33m)\u001B[0m\u001B[1;33m\u001B[0m\u001B[1;33m\u001B[0m\u001B[0m\n\u001B[0m",
      "\u001B[1;31mAttributeError\u001B[0m: 'DataFrame' object has no attribute 'append'"
     ]
    }
   ],
   "source": [
    "df_black_and_white_victims_percentage = pandas.DataFrame(columns=[\"Black\", \"White\"])\n",
    "new_row = {\"Black\": black_victims_percentage, \"White\": white_victims_percentage}\n",
    "df_black_and_white_victims_percentage = df_black_and_white_victims_percentage.append(new_row, ignore_index=True)\n"
   ],
   "metadata": {
    "collapsed": false,
    "ExecuteTime": {
     "end_time": "2024-04-29T13:08:30.998316300Z",
     "start_time": "2024-04-29T13:08:30.974186700Z"
    }
   },
   "id": "ec178038e80674dc",
   "execution_count": 56
  },
  {
   "cell_type": "code",
   "outputs": [
    {
     "ename": "TypeError",
     "evalue": "Data source must be a DataFrame or Mapping, not <class 'list'>.",
     "output_type": "error",
     "traceback": [
      "\u001B[1;31m---------------------------------------------------------------------------\u001B[0m",
      "\u001B[1;31mTypeError\u001B[0m                                 Traceback (most recent call last)",
      "Cell \u001B[1;32mIn[50], line 1\u001B[0m\n\u001B[1;32m----> 1\u001B[0m \u001B[43msns\u001B[49m\u001B[38;5;241;43m.\u001B[39;49m\u001B[43mbarplot\u001B[49m\u001B[43m(\u001B[49m\u001B[43mdata\u001B[49m\u001B[38;5;241;43m=\u001B[39;49m\u001B[43m[\u001B[49m\u001B[43mwhite_victims_percentage\u001B[49m\u001B[43m,\u001B[49m\u001B[43m \u001B[49m\u001B[43mblack_victims_percentage\u001B[49m\u001B[43m]\u001B[49m\u001B[43m,\u001B[49m\u001B[43m \u001B[49m\u001B[43mx\u001B[49m\u001B[38;5;241;43m=\u001B[39;49m\u001B[43m[\u001B[49m\u001B[38;5;124;43m\"\u001B[39;49m\u001B[38;5;124;43mWhite\u001B[39;49m\u001B[38;5;124;43m\"\u001B[39;49m\u001B[43m,\u001B[49m\u001B[43m \u001B[49m\u001B[38;5;124;43m\"\u001B[39;49m\u001B[38;5;124;43mBlack\u001B[39;49m\u001B[38;5;124;43m\"\u001B[39;49m\u001B[43m]\u001B[49m\u001B[43m,\u001B[49m\u001B[43m \u001B[49m\u001B[43my\u001B[49m\u001B[38;5;241;43m=\u001B[39;49m\u001B[43m[\u001B[49m\u001B[43mwhite_victims_percentage\u001B[49m\u001B[43m,\u001B[49m\u001B[43m \u001B[49m\u001B[43mblack_victims_percentage\u001B[49m\u001B[43m]\u001B[49m\u001B[43m)\u001B[49m\n",
      "File \u001B[1;32m~\\Documents\\PycharmProjekte\\DeathsInvolvongPoliceDataAnalysis\\.venv\\Lib\\site-packages\\seaborn\\categorical.py:2341\u001B[0m, in \u001B[0;36mbarplot\u001B[1;34m(data, x, y, hue, order, hue_order, estimator, errorbar, n_boot, seed, units, weights, orient, color, palette, saturation, fill, hue_norm, width, dodge, gap, log_scale, native_scale, formatter, legend, capsize, err_kws, ci, errcolor, errwidth, ax, **kwargs)\u001B[0m\n\u001B[0;32m   2338\u001B[0m \u001B[38;5;28;01mif\u001B[39;00m estimator \u001B[38;5;129;01mis\u001B[39;00m \u001B[38;5;28mlen\u001B[39m:\n\u001B[0;32m   2339\u001B[0m     estimator \u001B[38;5;241m=\u001B[39m \u001B[38;5;124m\"\u001B[39m\u001B[38;5;124msize\u001B[39m\u001B[38;5;124m\"\u001B[39m\n\u001B[1;32m-> 2341\u001B[0m p \u001B[38;5;241m=\u001B[39m \u001B[43m_CategoricalAggPlotter\u001B[49m\u001B[43m(\u001B[49m\n\u001B[0;32m   2342\u001B[0m \u001B[43m    \u001B[49m\u001B[43mdata\u001B[49m\u001B[38;5;241;43m=\u001B[39;49m\u001B[43mdata\u001B[49m\u001B[43m,\u001B[49m\n\u001B[0;32m   2343\u001B[0m \u001B[43m    \u001B[49m\u001B[43mvariables\u001B[49m\u001B[38;5;241;43m=\u001B[39;49m\u001B[38;5;28;43mdict\u001B[39;49m\u001B[43m(\u001B[49m\u001B[43mx\u001B[49m\u001B[38;5;241;43m=\u001B[39;49m\u001B[43mx\u001B[49m\u001B[43m,\u001B[49m\u001B[43m \u001B[49m\u001B[43my\u001B[49m\u001B[38;5;241;43m=\u001B[39;49m\u001B[43my\u001B[49m\u001B[43m,\u001B[49m\u001B[43m \u001B[49m\u001B[43mhue\u001B[49m\u001B[38;5;241;43m=\u001B[39;49m\u001B[43mhue\u001B[49m\u001B[43m,\u001B[49m\u001B[43m \u001B[49m\u001B[43munits\u001B[49m\u001B[38;5;241;43m=\u001B[39;49m\u001B[43munits\u001B[49m\u001B[43m,\u001B[49m\u001B[43m \u001B[49m\u001B[43mweight\u001B[49m\u001B[38;5;241;43m=\u001B[39;49m\u001B[43mweights\u001B[49m\u001B[43m)\u001B[49m\u001B[43m,\u001B[49m\n\u001B[0;32m   2344\u001B[0m \u001B[43m    \u001B[49m\u001B[43morder\u001B[49m\u001B[38;5;241;43m=\u001B[39;49m\u001B[43morder\u001B[49m\u001B[43m,\u001B[49m\n\u001B[0;32m   2345\u001B[0m \u001B[43m    \u001B[49m\u001B[43morient\u001B[49m\u001B[38;5;241;43m=\u001B[39;49m\u001B[43morient\u001B[49m\u001B[43m,\u001B[49m\n\u001B[0;32m   2346\u001B[0m \u001B[43m    \u001B[49m\u001B[43mcolor\u001B[49m\u001B[38;5;241;43m=\u001B[39;49m\u001B[43mcolor\u001B[49m\u001B[43m,\u001B[49m\n\u001B[0;32m   2347\u001B[0m \u001B[43m    \u001B[49m\u001B[43mlegend\u001B[49m\u001B[38;5;241;43m=\u001B[39;49m\u001B[43mlegend\u001B[49m\u001B[43m,\u001B[49m\n\u001B[0;32m   2348\u001B[0m \u001B[43m\u001B[49m\u001B[43m)\u001B[49m\n\u001B[0;32m   2350\u001B[0m \u001B[38;5;28;01mif\u001B[39;00m ax \u001B[38;5;129;01mis\u001B[39;00m \u001B[38;5;28;01mNone\u001B[39;00m:\n\u001B[0;32m   2351\u001B[0m     ax \u001B[38;5;241m=\u001B[39m plt\u001B[38;5;241m.\u001B[39mgca()\n",
      "File \u001B[1;32m~\\Documents\\PycharmProjekte\\DeathsInvolvongPoliceDataAnalysis\\.venv\\Lib\\site-packages\\seaborn\\categorical.py:67\u001B[0m, in \u001B[0;36m_CategoricalPlotter.__init__\u001B[1;34m(self, data, variables, order, orient, require_numeric, color, legend)\u001B[0m\n\u001B[0;32m     56\u001B[0m \u001B[38;5;28;01mdef\u001B[39;00m \u001B[38;5;21m__init__\u001B[39m(\n\u001B[0;32m     57\u001B[0m     \u001B[38;5;28mself\u001B[39m,\n\u001B[0;32m     58\u001B[0m     data\u001B[38;5;241m=\u001B[39m\u001B[38;5;28;01mNone\u001B[39;00m,\n\u001B[1;32m   (...)\u001B[0m\n\u001B[0;32m     64\u001B[0m     legend\u001B[38;5;241m=\u001B[39m\u001B[38;5;124m\"\u001B[39m\u001B[38;5;124mauto\u001B[39m\u001B[38;5;124m\"\u001B[39m,\n\u001B[0;32m     65\u001B[0m ):\n\u001B[1;32m---> 67\u001B[0m     \u001B[38;5;28;43msuper\u001B[39;49m\u001B[43m(\u001B[49m\u001B[43m)\u001B[49m\u001B[38;5;241;43m.\u001B[39;49m\u001B[38;5;21;43m__init__\u001B[39;49m\u001B[43m(\u001B[49m\u001B[43mdata\u001B[49m\u001B[38;5;241;43m=\u001B[39;49m\u001B[43mdata\u001B[49m\u001B[43m,\u001B[49m\u001B[43m \u001B[49m\u001B[43mvariables\u001B[49m\u001B[38;5;241;43m=\u001B[39;49m\u001B[43mvariables\u001B[49m\u001B[43m)\u001B[49m\n\u001B[0;32m     69\u001B[0m     \u001B[38;5;66;03m# This method takes care of some bookkeeping that is necessary because the\u001B[39;00m\n\u001B[0;32m     70\u001B[0m     \u001B[38;5;66;03m# original categorical plots (prior to the 2021 refactor) had some rules that\u001B[39;00m\n\u001B[0;32m     71\u001B[0m     \u001B[38;5;66;03m# don't fit exactly into VectorPlotter logic. It may be wise to have a second\u001B[39;00m\n\u001B[1;32m   (...)\u001B[0m\n\u001B[0;32m     76\u001B[0m     \u001B[38;5;66;03m# default VectorPlotter rules. If we do decide to make orient part of the\u001B[39;00m\n\u001B[0;32m     77\u001B[0m     \u001B[38;5;66;03m# _base variable assignment, we'll want to figure out how to express that.\u001B[39;00m\n\u001B[0;32m     78\u001B[0m     \u001B[38;5;28;01mif\u001B[39;00m \u001B[38;5;28mself\u001B[39m\u001B[38;5;241m.\u001B[39minput_format \u001B[38;5;241m==\u001B[39m \u001B[38;5;124m\"\u001B[39m\u001B[38;5;124mwide\u001B[39m\u001B[38;5;124m\"\u001B[39m \u001B[38;5;129;01mand\u001B[39;00m orient \u001B[38;5;129;01min\u001B[39;00m [\u001B[38;5;124m\"\u001B[39m\u001B[38;5;124mh\u001B[39m\u001B[38;5;124m\"\u001B[39m, \u001B[38;5;124m\"\u001B[39m\u001B[38;5;124my\u001B[39m\u001B[38;5;124m\"\u001B[39m]:\n",
      "File \u001B[1;32m~\\Documents\\PycharmProjekte\\DeathsInvolvongPoliceDataAnalysis\\.venv\\Lib\\site-packages\\seaborn\\_base.py:634\u001B[0m, in \u001B[0;36mVectorPlotter.__init__\u001B[1;34m(self, data, variables)\u001B[0m\n\u001B[0;32m    629\u001B[0m \u001B[38;5;66;03m# var_ordered is relevant only for categorical axis variables, and may\u001B[39;00m\n\u001B[0;32m    630\u001B[0m \u001B[38;5;66;03m# be better handled by an internal axis information object that tracks\u001B[39;00m\n\u001B[0;32m    631\u001B[0m \u001B[38;5;66;03m# such information and is set up by the scale_* methods. The analogous\u001B[39;00m\n\u001B[0;32m    632\u001B[0m \u001B[38;5;66;03m# information for numeric axes would be information about log scales.\u001B[39;00m\n\u001B[0;32m    633\u001B[0m \u001B[38;5;28mself\u001B[39m\u001B[38;5;241m.\u001B[39m_var_ordered \u001B[38;5;241m=\u001B[39m {\u001B[38;5;124m\"\u001B[39m\u001B[38;5;124mx\u001B[39m\u001B[38;5;124m\"\u001B[39m: \u001B[38;5;28;01mFalse\u001B[39;00m, \u001B[38;5;124m\"\u001B[39m\u001B[38;5;124my\u001B[39m\u001B[38;5;124m\"\u001B[39m: \u001B[38;5;28;01mFalse\u001B[39;00m}  \u001B[38;5;66;03m# alt., used DefaultDict\u001B[39;00m\n\u001B[1;32m--> 634\u001B[0m \u001B[38;5;28;43mself\u001B[39;49m\u001B[38;5;241;43m.\u001B[39;49m\u001B[43massign_variables\u001B[49m\u001B[43m(\u001B[49m\u001B[43mdata\u001B[49m\u001B[43m,\u001B[49m\u001B[43m \u001B[49m\u001B[43mvariables\u001B[49m\u001B[43m)\u001B[49m\n\u001B[0;32m    636\u001B[0m \u001B[38;5;66;03m# TODO Lots of tests assume that these are called to initialize the\u001B[39;00m\n\u001B[0;32m    637\u001B[0m \u001B[38;5;66;03m# mappings to default values on class initialization. I'd prefer to\u001B[39;00m\n\u001B[0;32m    638\u001B[0m \u001B[38;5;66;03m# move away from that and only have a mapping when explicitly called.\u001B[39;00m\n\u001B[0;32m    639\u001B[0m \u001B[38;5;28;01mfor\u001B[39;00m var \u001B[38;5;129;01min\u001B[39;00m [\u001B[38;5;124m\"\u001B[39m\u001B[38;5;124mhue\u001B[39m\u001B[38;5;124m\"\u001B[39m, \u001B[38;5;124m\"\u001B[39m\u001B[38;5;124msize\u001B[39m\u001B[38;5;124m\"\u001B[39m, \u001B[38;5;124m\"\u001B[39m\u001B[38;5;124mstyle\u001B[39m\u001B[38;5;124m\"\u001B[39m]:\n",
      "File \u001B[1;32m~\\Documents\\PycharmProjekte\\DeathsInvolvongPoliceDataAnalysis\\.venv\\Lib\\site-packages\\seaborn\\_base.py:679\u001B[0m, in \u001B[0;36mVectorPlotter.assign_variables\u001B[1;34m(self, data, variables)\u001B[0m\n\u001B[0;32m    674\u001B[0m \u001B[38;5;28;01melse\u001B[39;00m:\n\u001B[0;32m    675\u001B[0m     \u001B[38;5;66;03m# When dealing with long-form input, use the newer PlotData\u001B[39;00m\n\u001B[0;32m    676\u001B[0m     \u001B[38;5;66;03m# object (internal but introduced for the objects interface)\u001B[39;00m\n\u001B[0;32m    677\u001B[0m     \u001B[38;5;66;03m# to centralize / standardize data consumption logic.\u001B[39;00m\n\u001B[0;32m    678\u001B[0m     \u001B[38;5;28mself\u001B[39m\u001B[38;5;241m.\u001B[39minput_format \u001B[38;5;241m=\u001B[39m \u001B[38;5;124m\"\u001B[39m\u001B[38;5;124mlong\u001B[39m\u001B[38;5;124m\"\u001B[39m\n\u001B[1;32m--> 679\u001B[0m     plot_data \u001B[38;5;241m=\u001B[39m \u001B[43mPlotData\u001B[49m\u001B[43m(\u001B[49m\u001B[43mdata\u001B[49m\u001B[43m,\u001B[49m\u001B[43m \u001B[49m\u001B[43mvariables\u001B[49m\u001B[43m)\u001B[49m\n\u001B[0;32m    680\u001B[0m     frame \u001B[38;5;241m=\u001B[39m plot_data\u001B[38;5;241m.\u001B[39mframe\n\u001B[0;32m    681\u001B[0m     names \u001B[38;5;241m=\u001B[39m plot_data\u001B[38;5;241m.\u001B[39mnames\n",
      "File \u001B[1;32m~\\Documents\\PycharmProjekte\\DeathsInvolvongPoliceDataAnalysis\\.venv\\Lib\\site-packages\\seaborn\\_core\\data.py:57\u001B[0m, in \u001B[0;36mPlotData.__init__\u001B[1;34m(self, data, variables)\u001B[0m\n\u001B[0;32m     51\u001B[0m \u001B[38;5;28;01mdef\u001B[39;00m \u001B[38;5;21m__init__\u001B[39m(\n\u001B[0;32m     52\u001B[0m     \u001B[38;5;28mself\u001B[39m,\n\u001B[0;32m     53\u001B[0m     data: DataSource,\n\u001B[0;32m     54\u001B[0m     variables: \u001B[38;5;28mdict\u001B[39m[\u001B[38;5;28mstr\u001B[39m, VariableSpec],\n\u001B[0;32m     55\u001B[0m ):\n\u001B[1;32m---> 57\u001B[0m     data \u001B[38;5;241m=\u001B[39m \u001B[43mhandle_data_source\u001B[49m\u001B[43m(\u001B[49m\u001B[43mdata\u001B[49m\u001B[43m)\u001B[49m\n\u001B[0;32m     58\u001B[0m     frame, names, ids \u001B[38;5;241m=\u001B[39m \u001B[38;5;28mself\u001B[39m\u001B[38;5;241m.\u001B[39m_assign_variables(data, variables)\n\u001B[0;32m     60\u001B[0m     \u001B[38;5;28mself\u001B[39m\u001B[38;5;241m.\u001B[39mframe \u001B[38;5;241m=\u001B[39m frame\n",
      "File \u001B[1;32m~\\Documents\\PycharmProjekte\\DeathsInvolvongPoliceDataAnalysis\\.venv\\Lib\\site-packages\\seaborn\\_core\\data.py:278\u001B[0m, in \u001B[0;36mhandle_data_source\u001B[1;34m(data)\u001B[0m\n\u001B[0;32m    276\u001B[0m \u001B[38;5;28;01melif\u001B[39;00m data \u001B[38;5;129;01mis\u001B[39;00m \u001B[38;5;129;01mnot\u001B[39;00m \u001B[38;5;28;01mNone\u001B[39;00m \u001B[38;5;129;01mand\u001B[39;00m \u001B[38;5;129;01mnot\u001B[39;00m \u001B[38;5;28misinstance\u001B[39m(data, Mapping):\n\u001B[0;32m    277\u001B[0m     err \u001B[38;5;241m=\u001B[39m \u001B[38;5;124mf\u001B[39m\u001B[38;5;124m\"\u001B[39m\u001B[38;5;124mData source must be a DataFrame or Mapping, not \u001B[39m\u001B[38;5;132;01m{\u001B[39;00m\u001B[38;5;28mtype\u001B[39m(data)\u001B[38;5;132;01m!r}\u001B[39;00m\u001B[38;5;124m.\u001B[39m\u001B[38;5;124m\"\u001B[39m\n\u001B[1;32m--> 278\u001B[0m     \u001B[38;5;28;01mraise\u001B[39;00m \u001B[38;5;167;01mTypeError\u001B[39;00m(err)\n\u001B[0;32m    280\u001B[0m \u001B[38;5;28;01mreturn\u001B[39;00m data\n",
      "\u001B[1;31mTypeError\u001B[0m: Data source must be a DataFrame or Mapping, not <class 'list'>."
     ]
    }
   ],
   "source": [
    "sns.barplot(data=[white_victims_percentage, black_victims_percentage], x=[\"White\", \"Black\"], y=[white_victims_percentage, black_victims_percentage])"
   ],
   "metadata": {
    "collapsed": false,
    "ExecuteTime": {
     "end_time": "2024-04-29T12:48:58.603136100Z",
     "start_time": "2024-04-29T12:48:58.355296Z"
    }
   },
   "id": "fd30af7381de4d27",
   "execution_count": 50
  },
  {
   "cell_type": "markdown",
   "source": [
    "Das durchschnittliche Alter der Schwarzen Ermordeten beträgt 33 Jahre\n"
   ],
   "metadata": {
    "collapsed": false
   },
   "id": "f8f872f69ea7fda2"
  },
  {
   "cell_type": "code",
   "outputs": [
    {
     "data": {
      "text/plain": "40.41206977840641"
     },
     "execution_count": 48,
     "metadata": {},
     "output_type": "execute_result"
    }
   ],
   "source": [
    "df_white_victims[\"age\"].mean()"
   ],
   "metadata": {
    "collapsed": false,
    "ExecuteTime": {
     "end_time": "2024-04-29T12:31:58.949320900Z",
     "start_time": "2024-04-29T12:31:58.937890900Z"
    }
   },
   "id": "cc69e12aaf11869",
   "execution_count": 48
  },
  {
   "cell_type": "markdown",
   "source": [
    "Das durchschnittliche Alter der Weißen Ermordeten beträgt 40 Jahre"
   ],
   "metadata": {
    "collapsed": false
   },
   "id": "4fbf2d80fa11d5d5"
  },
  {
   "cell_type": "markdown",
   "source": [
    "Anzahl der weiblichen Opfer"
   ],
   "metadata": {
    "collapsed": false
   },
   "id": "149742d9ac843322"
  },
  {
   "cell_type": "code",
   "outputs": [
    {
     "data": {
      "text/plain": "gender\nmale      9122\nfemale     422\nName: count, dtype: int64"
     },
     "execution_count": 158,
     "metadata": {},
     "output_type": "execute_result"
    }
   ],
   "source": [
    "gender_distribution = df_police_shooting[\"gender\"].value_counts()\n",
    "gender_distribution = gender_distribution.drop(index=\"non-binary\")\n",
    "gender_distribution"
   ],
   "metadata": {
    "collapsed": false,
    "ExecuteTime": {
     "end_time": "2024-05-02T17:50:33.761306800Z",
     "start_time": "2024-05-02T17:50:33.451916100Z"
    }
   },
   "id": "dc120255435f65cc",
   "execution_count": 158
  },
  {
   "cell_type": "code",
   "outputs": [
    {
     "data": {
      "application/vnd.plotly.v1+json": {
       "data": [
        {
         "marker": {
          "color": "skyblue"
         },
         "x": [
          "male",
          "female"
         ],
         "y": [
          9122,
          422
         ],
         "type": "bar"
        }
       ],
       "layout": {
        "template": {
         "data": {
          "histogram2dcontour": [
           {
            "type": "histogram2dcontour",
            "colorbar": {
             "outlinewidth": 0,
             "ticks": ""
            },
            "colorscale": [
             [
              0.0,
              "#0d0887"
             ],
             [
              0.1111111111111111,
              "#46039f"
             ],
             [
              0.2222222222222222,
              "#7201a8"
             ],
             [
              0.3333333333333333,
              "#9c179e"
             ],
             [
              0.4444444444444444,
              "#bd3786"
             ],
             [
              0.5555555555555556,
              "#d8576b"
             ],
             [
              0.6666666666666666,
              "#ed7953"
             ],
             [
              0.7777777777777778,
              "#fb9f3a"
             ],
             [
              0.8888888888888888,
              "#fdca26"
             ],
             [
              1.0,
              "#f0f921"
             ]
            ]
           }
          ],
          "choropleth": [
           {
            "type": "choropleth",
            "colorbar": {
             "outlinewidth": 0,
             "ticks": ""
            }
           }
          ],
          "histogram2d": [
           {
            "type": "histogram2d",
            "colorbar": {
             "outlinewidth": 0,
             "ticks": ""
            },
            "colorscale": [
             [
              0.0,
              "#0d0887"
             ],
             [
              0.1111111111111111,
              "#46039f"
             ],
             [
              0.2222222222222222,
              "#7201a8"
             ],
             [
              0.3333333333333333,
              "#9c179e"
             ],
             [
              0.4444444444444444,
              "#bd3786"
             ],
             [
              0.5555555555555556,
              "#d8576b"
             ],
             [
              0.6666666666666666,
              "#ed7953"
             ],
             [
              0.7777777777777778,
              "#fb9f3a"
             ],
             [
              0.8888888888888888,
              "#fdca26"
             ],
             [
              1.0,
              "#f0f921"
             ]
            ]
           }
          ],
          "heatmap": [
           {
            "type": "heatmap",
            "colorbar": {
             "outlinewidth": 0,
             "ticks": ""
            },
            "colorscale": [
             [
              0.0,
              "#0d0887"
             ],
             [
              0.1111111111111111,
              "#46039f"
             ],
             [
              0.2222222222222222,
              "#7201a8"
             ],
             [
              0.3333333333333333,
              "#9c179e"
             ],
             [
              0.4444444444444444,
              "#bd3786"
             ],
             [
              0.5555555555555556,
              "#d8576b"
             ],
             [
              0.6666666666666666,
              "#ed7953"
             ],
             [
              0.7777777777777778,
              "#fb9f3a"
             ],
             [
              0.8888888888888888,
              "#fdca26"
             ],
             [
              1.0,
              "#f0f921"
             ]
            ]
           }
          ],
          "heatmapgl": [
           {
            "type": "heatmapgl",
            "colorbar": {
             "outlinewidth": 0,
             "ticks": ""
            },
            "colorscale": [
             [
              0.0,
              "#0d0887"
             ],
             [
              0.1111111111111111,
              "#46039f"
             ],
             [
              0.2222222222222222,
              "#7201a8"
             ],
             [
              0.3333333333333333,
              "#9c179e"
             ],
             [
              0.4444444444444444,
              "#bd3786"
             ],
             [
              0.5555555555555556,
              "#d8576b"
             ],
             [
              0.6666666666666666,
              "#ed7953"
             ],
             [
              0.7777777777777778,
              "#fb9f3a"
             ],
             [
              0.8888888888888888,
              "#fdca26"
             ],
             [
              1.0,
              "#f0f921"
             ]
            ]
           }
          ],
          "contourcarpet": [
           {
            "type": "contourcarpet",
            "colorbar": {
             "outlinewidth": 0,
             "ticks": ""
            }
           }
          ],
          "contour": [
           {
            "type": "contour",
            "colorbar": {
             "outlinewidth": 0,
             "ticks": ""
            },
            "colorscale": [
             [
              0.0,
              "#0d0887"
             ],
             [
              0.1111111111111111,
              "#46039f"
             ],
             [
              0.2222222222222222,
              "#7201a8"
             ],
             [
              0.3333333333333333,
              "#9c179e"
             ],
             [
              0.4444444444444444,
              "#bd3786"
             ],
             [
              0.5555555555555556,
              "#d8576b"
             ],
             [
              0.6666666666666666,
              "#ed7953"
             ],
             [
              0.7777777777777778,
              "#fb9f3a"
             ],
             [
              0.8888888888888888,
              "#fdca26"
             ],
             [
              1.0,
              "#f0f921"
             ]
            ]
           }
          ],
          "surface": [
           {
            "type": "surface",
            "colorbar": {
             "outlinewidth": 0,
             "ticks": ""
            },
            "colorscale": [
             [
              0.0,
              "#0d0887"
             ],
             [
              0.1111111111111111,
              "#46039f"
             ],
             [
              0.2222222222222222,
              "#7201a8"
             ],
             [
              0.3333333333333333,
              "#9c179e"
             ],
             [
              0.4444444444444444,
              "#bd3786"
             ],
             [
              0.5555555555555556,
              "#d8576b"
             ],
             [
              0.6666666666666666,
              "#ed7953"
             ],
             [
              0.7777777777777778,
              "#fb9f3a"
             ],
             [
              0.8888888888888888,
              "#fdca26"
             ],
             [
              1.0,
              "#f0f921"
             ]
            ]
           }
          ],
          "mesh3d": [
           {
            "type": "mesh3d",
            "colorbar": {
             "outlinewidth": 0,
             "ticks": ""
            }
           }
          ],
          "scatter": [
           {
            "fillpattern": {
             "fillmode": "overlay",
             "size": 10,
             "solidity": 0.2
            },
            "type": "scatter"
           }
          ],
          "parcoords": [
           {
            "type": "parcoords",
            "line": {
             "colorbar": {
              "outlinewidth": 0,
              "ticks": ""
             }
            }
           }
          ],
          "scatterpolargl": [
           {
            "type": "scatterpolargl",
            "marker": {
             "colorbar": {
              "outlinewidth": 0,
              "ticks": ""
             }
            }
           }
          ],
          "bar": [
           {
            "error_x": {
             "color": "#2a3f5f"
            },
            "error_y": {
             "color": "#2a3f5f"
            },
            "marker": {
             "line": {
              "color": "#E5ECF6",
              "width": 0.5
             },
             "pattern": {
              "fillmode": "overlay",
              "size": 10,
              "solidity": 0.2
             }
            },
            "type": "bar"
           }
          ],
          "scattergeo": [
           {
            "type": "scattergeo",
            "marker": {
             "colorbar": {
              "outlinewidth": 0,
              "ticks": ""
             }
            }
           }
          ],
          "scatterpolar": [
           {
            "type": "scatterpolar",
            "marker": {
             "colorbar": {
              "outlinewidth": 0,
              "ticks": ""
             }
            }
           }
          ],
          "histogram": [
           {
            "marker": {
             "pattern": {
              "fillmode": "overlay",
              "size": 10,
              "solidity": 0.2
             }
            },
            "type": "histogram"
           }
          ],
          "scattergl": [
           {
            "type": "scattergl",
            "marker": {
             "colorbar": {
              "outlinewidth": 0,
              "ticks": ""
             }
            }
           }
          ],
          "scatter3d": [
           {
            "type": "scatter3d",
            "line": {
             "colorbar": {
              "outlinewidth": 0,
              "ticks": ""
             }
            },
            "marker": {
             "colorbar": {
              "outlinewidth": 0,
              "ticks": ""
             }
            }
           }
          ],
          "scattermapbox": [
           {
            "type": "scattermapbox",
            "marker": {
             "colorbar": {
              "outlinewidth": 0,
              "ticks": ""
             }
            }
           }
          ],
          "scatterternary": [
           {
            "type": "scatterternary",
            "marker": {
             "colorbar": {
              "outlinewidth": 0,
              "ticks": ""
             }
            }
           }
          ],
          "scattercarpet": [
           {
            "type": "scattercarpet",
            "marker": {
             "colorbar": {
              "outlinewidth": 0,
              "ticks": ""
             }
            }
           }
          ],
          "carpet": [
           {
            "aaxis": {
             "endlinecolor": "#2a3f5f",
             "gridcolor": "white",
             "linecolor": "white",
             "minorgridcolor": "white",
             "startlinecolor": "#2a3f5f"
            },
            "baxis": {
             "endlinecolor": "#2a3f5f",
             "gridcolor": "white",
             "linecolor": "white",
             "minorgridcolor": "white",
             "startlinecolor": "#2a3f5f"
            },
            "type": "carpet"
           }
          ],
          "table": [
           {
            "cells": {
             "fill": {
              "color": "#EBF0F8"
             },
             "line": {
              "color": "white"
             }
            },
            "header": {
             "fill": {
              "color": "#C8D4E3"
             },
             "line": {
              "color": "white"
             }
            },
            "type": "table"
           }
          ],
          "barpolar": [
           {
            "marker": {
             "line": {
              "color": "#E5ECF6",
              "width": 0.5
             },
             "pattern": {
              "fillmode": "overlay",
              "size": 10,
              "solidity": 0.2
             }
            },
            "type": "barpolar"
           }
          ],
          "pie": [
           {
            "automargin": true,
            "type": "pie"
           }
          ]
         },
         "layout": {
          "autotypenumbers": "strict",
          "colorway": [
           "#636efa",
           "#EF553B",
           "#00cc96",
           "#ab63fa",
           "#FFA15A",
           "#19d3f3",
           "#FF6692",
           "#B6E880",
           "#FF97FF",
           "#FECB52"
          ],
          "font": {
           "color": "#2a3f5f"
          },
          "hovermode": "closest",
          "hoverlabel": {
           "align": "left"
          },
          "paper_bgcolor": "white",
          "plot_bgcolor": "#E5ECF6",
          "polar": {
           "bgcolor": "#E5ECF6",
           "angularaxis": {
            "gridcolor": "white",
            "linecolor": "white",
            "ticks": ""
           },
           "radialaxis": {
            "gridcolor": "white",
            "linecolor": "white",
            "ticks": ""
           }
          },
          "ternary": {
           "bgcolor": "#E5ECF6",
           "aaxis": {
            "gridcolor": "white",
            "linecolor": "white",
            "ticks": ""
           },
           "baxis": {
            "gridcolor": "white",
            "linecolor": "white",
            "ticks": ""
           },
           "caxis": {
            "gridcolor": "white",
            "linecolor": "white",
            "ticks": ""
           }
          },
          "coloraxis": {
           "colorbar": {
            "outlinewidth": 0,
            "ticks": ""
           }
          },
          "colorscale": {
           "sequential": [
            [
             0.0,
             "#0d0887"
            ],
            [
             0.1111111111111111,
             "#46039f"
            ],
            [
             0.2222222222222222,
             "#7201a8"
            ],
            [
             0.3333333333333333,
             "#9c179e"
            ],
            [
             0.4444444444444444,
             "#bd3786"
            ],
            [
             0.5555555555555556,
             "#d8576b"
            ],
            [
             0.6666666666666666,
             "#ed7953"
            ],
            [
             0.7777777777777778,
             "#fb9f3a"
            ],
            [
             0.8888888888888888,
             "#fdca26"
            ],
            [
             1.0,
             "#f0f921"
            ]
           ],
           "sequentialminus": [
            [
             0.0,
             "#0d0887"
            ],
            [
             0.1111111111111111,
             "#46039f"
            ],
            [
             0.2222222222222222,
             "#7201a8"
            ],
            [
             0.3333333333333333,
             "#9c179e"
            ],
            [
             0.4444444444444444,
             "#bd3786"
            ],
            [
             0.5555555555555556,
             "#d8576b"
            ],
            [
             0.6666666666666666,
             "#ed7953"
            ],
            [
             0.7777777777777778,
             "#fb9f3a"
            ],
            [
             0.8888888888888888,
             "#fdca26"
            ],
            [
             1.0,
             "#f0f921"
            ]
           ],
           "diverging": [
            [
             0,
             "#8e0152"
            ],
            [
             0.1,
             "#c51b7d"
            ],
            [
             0.2,
             "#de77ae"
            ],
            [
             0.3,
             "#f1b6da"
            ],
            [
             0.4,
             "#fde0ef"
            ],
            [
             0.5,
             "#f7f7f7"
            ],
            [
             0.6,
             "#e6f5d0"
            ],
            [
             0.7,
             "#b8e186"
            ],
            [
             0.8,
             "#7fbc41"
            ],
            [
             0.9,
             "#4d9221"
            ],
            [
             1,
             "#276419"
            ]
           ]
          },
          "xaxis": {
           "gridcolor": "white",
           "linecolor": "white",
           "ticks": "",
           "title": {
            "standoff": 15
           },
           "zerolinecolor": "white",
           "automargin": true,
           "zerolinewidth": 2
          },
          "yaxis": {
           "gridcolor": "white",
           "linecolor": "white",
           "ticks": "",
           "title": {
            "standoff": 15
           },
           "zerolinecolor": "white",
           "automargin": true,
           "zerolinewidth": 2
          },
          "scene": {
           "xaxis": {
            "backgroundcolor": "#E5ECF6",
            "gridcolor": "white",
            "linecolor": "white",
            "showbackground": true,
            "ticks": "",
            "zerolinecolor": "white",
            "gridwidth": 2
           },
           "yaxis": {
            "backgroundcolor": "#E5ECF6",
            "gridcolor": "white",
            "linecolor": "white",
            "showbackground": true,
            "ticks": "",
            "zerolinecolor": "white",
            "gridwidth": 2
           },
           "zaxis": {
            "backgroundcolor": "#E5ECF6",
            "gridcolor": "white",
            "linecolor": "white",
            "showbackground": true,
            "ticks": "",
            "zerolinecolor": "white",
            "gridwidth": 2
           }
          },
          "shapedefaults": {
           "line": {
            "color": "#2a3f5f"
           }
          },
          "annotationdefaults": {
           "arrowcolor": "#2a3f5f",
           "arrowhead": 0,
           "arrowwidth": 1
          },
          "geo": {
           "bgcolor": "white",
           "landcolor": "#E5ECF6",
           "subunitcolor": "white",
           "showland": true,
           "showlakes": true,
           "lakecolor": "white"
          },
          "title": {
           "x": 0.05
          },
          "mapbox": {
           "style": "light"
          }
         }
        }
       },
       "config": {
        "plotlyServerURL": "https://plot.ly"
       }
      },
      "text/html": "<div>                            <div id=\"edd750b7-d084-4d5c-bd6c-6303e80da9e3\" class=\"plotly-graph-div\" style=\"height:525px; width:100%;\"></div>            <script type=\"text/javascript\">                require([\"plotly\"], function(Plotly) {                    window.PLOTLYENV=window.PLOTLYENV || {};                                    if (document.getElementById(\"edd750b7-d084-4d5c-bd6c-6303e80da9e3\")) {                    Plotly.newPlot(                        \"edd750b7-d084-4d5c-bd6c-6303e80da9e3\",                        [{\"marker\":{\"color\":\"skyblue\"},\"x\":[\"male\",\"female\"],\"y\":[9122,422],\"type\":\"bar\"}],                        {\"template\":{\"data\":{\"histogram2dcontour\":[{\"type\":\"histogram2dcontour\",\"colorbar\":{\"outlinewidth\":0,\"ticks\":\"\"},\"colorscale\":[[0.0,\"#0d0887\"],[0.1111111111111111,\"#46039f\"],[0.2222222222222222,\"#7201a8\"],[0.3333333333333333,\"#9c179e\"],[0.4444444444444444,\"#bd3786\"],[0.5555555555555556,\"#d8576b\"],[0.6666666666666666,\"#ed7953\"],[0.7777777777777778,\"#fb9f3a\"],[0.8888888888888888,\"#fdca26\"],[1.0,\"#f0f921\"]]}],\"choropleth\":[{\"type\":\"choropleth\",\"colorbar\":{\"outlinewidth\":0,\"ticks\":\"\"}}],\"histogram2d\":[{\"type\":\"histogram2d\",\"colorbar\":{\"outlinewidth\":0,\"ticks\":\"\"},\"colorscale\":[[0.0,\"#0d0887\"],[0.1111111111111111,\"#46039f\"],[0.2222222222222222,\"#7201a8\"],[0.3333333333333333,\"#9c179e\"],[0.4444444444444444,\"#bd3786\"],[0.5555555555555556,\"#d8576b\"],[0.6666666666666666,\"#ed7953\"],[0.7777777777777778,\"#fb9f3a\"],[0.8888888888888888,\"#fdca26\"],[1.0,\"#f0f921\"]]}],\"heatmap\":[{\"type\":\"heatmap\",\"colorbar\":{\"outlinewidth\":0,\"ticks\":\"\"},\"colorscale\":[[0.0,\"#0d0887\"],[0.1111111111111111,\"#46039f\"],[0.2222222222222222,\"#7201a8\"],[0.3333333333333333,\"#9c179e\"],[0.4444444444444444,\"#bd3786\"],[0.5555555555555556,\"#d8576b\"],[0.6666666666666666,\"#ed7953\"],[0.7777777777777778,\"#fb9f3a\"],[0.8888888888888888,\"#fdca26\"],[1.0,\"#f0f921\"]]}],\"heatmapgl\":[{\"type\":\"heatmapgl\",\"colorbar\":{\"outlinewidth\":0,\"ticks\":\"\"},\"colorscale\":[[0.0,\"#0d0887\"],[0.1111111111111111,\"#46039f\"],[0.2222222222222222,\"#7201a8\"],[0.3333333333333333,\"#9c179e\"],[0.4444444444444444,\"#bd3786\"],[0.5555555555555556,\"#d8576b\"],[0.6666666666666666,\"#ed7953\"],[0.7777777777777778,\"#fb9f3a\"],[0.8888888888888888,\"#fdca26\"],[1.0,\"#f0f921\"]]}],\"contourcarpet\":[{\"type\":\"contourcarpet\",\"colorbar\":{\"outlinewidth\":0,\"ticks\":\"\"}}],\"contour\":[{\"type\":\"contour\",\"colorbar\":{\"outlinewidth\":0,\"ticks\":\"\"},\"colorscale\":[[0.0,\"#0d0887\"],[0.1111111111111111,\"#46039f\"],[0.2222222222222222,\"#7201a8\"],[0.3333333333333333,\"#9c179e\"],[0.4444444444444444,\"#bd3786\"],[0.5555555555555556,\"#d8576b\"],[0.6666666666666666,\"#ed7953\"],[0.7777777777777778,\"#fb9f3a\"],[0.8888888888888888,\"#fdca26\"],[1.0,\"#f0f921\"]]}],\"surface\":[{\"type\":\"surface\",\"colorbar\":{\"outlinewidth\":0,\"ticks\":\"\"},\"colorscale\":[[0.0,\"#0d0887\"],[0.1111111111111111,\"#46039f\"],[0.2222222222222222,\"#7201a8\"],[0.3333333333333333,\"#9c179e\"],[0.4444444444444444,\"#bd3786\"],[0.5555555555555556,\"#d8576b\"],[0.6666666666666666,\"#ed7953\"],[0.7777777777777778,\"#fb9f3a\"],[0.8888888888888888,\"#fdca26\"],[1.0,\"#f0f921\"]]}],\"mesh3d\":[{\"type\":\"mesh3d\",\"colorbar\":{\"outlinewidth\":0,\"ticks\":\"\"}}],\"scatter\":[{\"fillpattern\":{\"fillmode\":\"overlay\",\"size\":10,\"solidity\":0.2},\"type\":\"scatter\"}],\"parcoords\":[{\"type\":\"parcoords\",\"line\":{\"colorbar\":{\"outlinewidth\":0,\"ticks\":\"\"}}}],\"scatterpolargl\":[{\"type\":\"scatterpolargl\",\"marker\":{\"colorbar\":{\"outlinewidth\":0,\"ticks\":\"\"}}}],\"bar\":[{\"error_x\":{\"color\":\"#2a3f5f\"},\"error_y\":{\"color\":\"#2a3f5f\"},\"marker\":{\"line\":{\"color\":\"#E5ECF6\",\"width\":0.5},\"pattern\":{\"fillmode\":\"overlay\",\"size\":10,\"solidity\":0.2}},\"type\":\"bar\"}],\"scattergeo\":[{\"type\":\"scattergeo\",\"marker\":{\"colorbar\":{\"outlinewidth\":0,\"ticks\":\"\"}}}],\"scatterpolar\":[{\"type\":\"scatterpolar\",\"marker\":{\"colorbar\":{\"outlinewidth\":0,\"ticks\":\"\"}}}],\"histogram\":[{\"marker\":{\"pattern\":{\"fillmode\":\"overlay\",\"size\":10,\"solidity\":0.2}},\"type\":\"histogram\"}],\"scattergl\":[{\"type\":\"scattergl\",\"marker\":{\"colorbar\":{\"outlinewidth\":0,\"ticks\":\"\"}}}],\"scatter3d\":[{\"type\":\"scatter3d\",\"line\":{\"colorbar\":{\"outlinewidth\":0,\"ticks\":\"\"}},\"marker\":{\"colorbar\":{\"outlinewidth\":0,\"ticks\":\"\"}}}],\"scattermapbox\":[{\"type\":\"scattermapbox\",\"marker\":{\"colorbar\":{\"outlinewidth\":0,\"ticks\":\"\"}}}],\"scatterternary\":[{\"type\":\"scatterternary\",\"marker\":{\"colorbar\":{\"outlinewidth\":0,\"ticks\":\"\"}}}],\"scattercarpet\":[{\"type\":\"scattercarpet\",\"marker\":{\"colorbar\":{\"outlinewidth\":0,\"ticks\":\"\"}}}],\"carpet\":[{\"aaxis\":{\"endlinecolor\":\"#2a3f5f\",\"gridcolor\":\"white\",\"linecolor\":\"white\",\"minorgridcolor\":\"white\",\"startlinecolor\":\"#2a3f5f\"},\"baxis\":{\"endlinecolor\":\"#2a3f5f\",\"gridcolor\":\"white\",\"linecolor\":\"white\",\"minorgridcolor\":\"white\",\"startlinecolor\":\"#2a3f5f\"},\"type\":\"carpet\"}],\"table\":[{\"cells\":{\"fill\":{\"color\":\"#EBF0F8\"},\"line\":{\"color\":\"white\"}},\"header\":{\"fill\":{\"color\":\"#C8D4E3\"},\"line\":{\"color\":\"white\"}},\"type\":\"table\"}],\"barpolar\":[{\"marker\":{\"line\":{\"color\":\"#E5ECF6\",\"width\":0.5},\"pattern\":{\"fillmode\":\"overlay\",\"size\":10,\"solidity\":0.2}},\"type\":\"barpolar\"}],\"pie\":[{\"automargin\":true,\"type\":\"pie\"}]},\"layout\":{\"autotypenumbers\":\"strict\",\"colorway\":[\"#636efa\",\"#EF553B\",\"#00cc96\",\"#ab63fa\",\"#FFA15A\",\"#19d3f3\",\"#FF6692\",\"#B6E880\",\"#FF97FF\",\"#FECB52\"],\"font\":{\"color\":\"#2a3f5f\"},\"hovermode\":\"closest\",\"hoverlabel\":{\"align\":\"left\"},\"paper_bgcolor\":\"white\",\"plot_bgcolor\":\"#E5ECF6\",\"polar\":{\"bgcolor\":\"#E5ECF6\",\"angularaxis\":{\"gridcolor\":\"white\",\"linecolor\":\"white\",\"ticks\":\"\"},\"radialaxis\":{\"gridcolor\":\"white\",\"linecolor\":\"white\",\"ticks\":\"\"}},\"ternary\":{\"bgcolor\":\"#E5ECF6\",\"aaxis\":{\"gridcolor\":\"white\",\"linecolor\":\"white\",\"ticks\":\"\"},\"baxis\":{\"gridcolor\":\"white\",\"linecolor\":\"white\",\"ticks\":\"\"},\"caxis\":{\"gridcolor\":\"white\",\"linecolor\":\"white\",\"ticks\":\"\"}},\"coloraxis\":{\"colorbar\":{\"outlinewidth\":0,\"ticks\":\"\"}},\"colorscale\":{\"sequential\":[[0.0,\"#0d0887\"],[0.1111111111111111,\"#46039f\"],[0.2222222222222222,\"#7201a8\"],[0.3333333333333333,\"#9c179e\"],[0.4444444444444444,\"#bd3786\"],[0.5555555555555556,\"#d8576b\"],[0.6666666666666666,\"#ed7953\"],[0.7777777777777778,\"#fb9f3a\"],[0.8888888888888888,\"#fdca26\"],[1.0,\"#f0f921\"]],\"sequentialminus\":[[0.0,\"#0d0887\"],[0.1111111111111111,\"#46039f\"],[0.2222222222222222,\"#7201a8\"],[0.3333333333333333,\"#9c179e\"],[0.4444444444444444,\"#bd3786\"],[0.5555555555555556,\"#d8576b\"],[0.6666666666666666,\"#ed7953\"],[0.7777777777777778,\"#fb9f3a\"],[0.8888888888888888,\"#fdca26\"],[1.0,\"#f0f921\"]],\"diverging\":[[0,\"#8e0152\"],[0.1,\"#c51b7d\"],[0.2,\"#de77ae\"],[0.3,\"#f1b6da\"],[0.4,\"#fde0ef\"],[0.5,\"#f7f7f7\"],[0.6,\"#e6f5d0\"],[0.7,\"#b8e186\"],[0.8,\"#7fbc41\"],[0.9,\"#4d9221\"],[1,\"#276419\"]]},\"xaxis\":{\"gridcolor\":\"white\",\"linecolor\":\"white\",\"ticks\":\"\",\"title\":{\"standoff\":15},\"zerolinecolor\":\"white\",\"automargin\":true,\"zerolinewidth\":2},\"yaxis\":{\"gridcolor\":\"white\",\"linecolor\":\"white\",\"ticks\":\"\",\"title\":{\"standoff\":15},\"zerolinecolor\":\"white\",\"automargin\":true,\"zerolinewidth\":2},\"scene\":{\"xaxis\":{\"backgroundcolor\":\"#E5ECF6\",\"gridcolor\":\"white\",\"linecolor\":\"white\",\"showbackground\":true,\"ticks\":\"\",\"zerolinecolor\":\"white\",\"gridwidth\":2},\"yaxis\":{\"backgroundcolor\":\"#E5ECF6\",\"gridcolor\":\"white\",\"linecolor\":\"white\",\"showbackground\":true,\"ticks\":\"\",\"zerolinecolor\":\"white\",\"gridwidth\":2},\"zaxis\":{\"backgroundcolor\":\"#E5ECF6\",\"gridcolor\":\"white\",\"linecolor\":\"white\",\"showbackground\":true,\"ticks\":\"\",\"zerolinecolor\":\"white\",\"gridwidth\":2}},\"shapedefaults\":{\"line\":{\"color\":\"#2a3f5f\"}},\"annotationdefaults\":{\"arrowcolor\":\"#2a3f5f\",\"arrowhead\":0,\"arrowwidth\":1},\"geo\":{\"bgcolor\":\"white\",\"landcolor\":\"#E5ECF6\",\"subunitcolor\":\"white\",\"showland\":true,\"showlakes\":true,\"lakecolor\":\"white\"},\"title\":{\"x\":0.05},\"mapbox\":{\"style\":\"light\"}}}},                        {\"responsive\": true}                    ).then(function(){\n                            \nvar gd = document.getElementById('edd750b7-d084-4d5c-bd6c-6303e80da9e3');\nvar x = new MutationObserver(function (mutations, observer) {{\n        var display = window.getComputedStyle(gd).display;\n        if (!display || display === 'none') {{\n            console.log([gd, 'removed!']);\n            Plotly.purge(gd);\n            observer.disconnect();\n        }}\n}});\n\n// Listen for the removal of the full notebook cells\nvar notebookContainer = gd.closest('#notebook-container');\nif (notebookContainer) {{\n    x.observe(notebookContainer, {childList: true});\n}}\n\n// Listen for the clearing of the current output cell\nvar outputEl = gd.closest('.output');\nif (outputEl) {{\n    x.observe(outputEl, {childList: true});\n}}\n\n                        })                };                });            </script>        </div>"
     },
     "metadata": {},
     "output_type": "display_data"
    }
   ],
   "source": [
    "fig = go.Figure(data=[go.Bar(x=gender_distribution.index, y=gender_distribution.values, marker_color=\"skyblue\")])\n",
    "fig.show()"
   ],
   "metadata": {
    "collapsed": false,
    "ExecuteTime": {
     "end_time": "2024-05-02T17:50:36.524199500Z",
     "start_time": "2024-05-02T17:50:36.476574600Z"
    }
   },
   "id": "ba64e7507897ae52",
   "execution_count": 159
  },
  {
   "cell_type": "markdown",
   "source": [
    "Rassenverteilung der Opfer"
   ],
   "metadata": {
    "collapsed": false
   },
   "id": "c256b7021195d74e"
  },
  {
   "cell_type": "markdown",
   "source": [
    "Anteil der nicht bewaffnet niedergeschoßenen"
   ],
   "metadata": {
    "collapsed": false
   },
   "id": "4251366d633c3544"
  },
  {
   "cell_type": "code",
   "outputs": [],
   "source": [
    "armed_persons = df_police_shooting[df_police_shooting[\"armed\"] != \"unarmed\"]\n",
    "armed_count = armed_persons[\"name\"].count()"
   ],
   "metadata": {
    "collapsed": false,
    "ExecuteTime": {
     "end_time": "2024-05-02T18:51:29.368517300Z",
     "start_time": "2024-05-02T18:51:29.294283700Z"
    }
   },
   "id": "1fa94f13c6ad60f3",
   "execution_count": 224
  },
  {
   "cell_type": "code",
   "outputs": [],
   "source": [
    "unarmed_persons = df_police_shooting[df_police_shooting[\"armed\"] == \"unarmed\"]\n",
    "unarmed_count = unarmed_persons[\"name\"].count()"
   ],
   "metadata": {
    "collapsed": false,
    "ExecuteTime": {
     "end_time": "2024-05-02T18:51:30.802814Z",
     "start_time": "2024-05-02T18:51:30.785692700Z"
    }
   },
   "id": "9970deb9fbc324c5",
   "execution_count": 225
  },
  {
   "cell_type": "code",
   "outputs": [],
   "source": [
    "labels = [\"Unarmed\", \"Armed\"]"
   ],
   "metadata": {
    "collapsed": false,
    "ExecuteTime": {
     "end_time": "2024-05-02T18:47:08.451963Z",
     "start_time": "2024-05-02T18:47:08.380291800Z"
    }
   },
   "id": "5dc0229d36ef7987",
   "execution_count": 216
  },
  {
   "cell_type": "code",
   "outputs": [],
   "source": [
    "data_armed_unarmed = [unarmed_count, armed_count]"
   ],
   "metadata": {
    "collapsed": false,
    "ExecuteTime": {
     "end_time": "2024-05-02T18:51:53.329235900Z",
     "start_time": "2024-05-02T18:51:53.216706600Z"
    }
   },
   "id": "b1fb9c97c1b1428e",
   "execution_count": 226
  },
  {
   "cell_type": "code",
   "outputs": [
    {
     "data": {
      "text/plain": "[540, 8687]"
     },
     "execution_count": 227,
     "metadata": {},
     "output_type": "execute_result"
    }
   ],
   "source": [],
   "metadata": {
    "collapsed": false,
    "ExecuteTime": {
     "end_time": "2024-05-02T18:52:03.171436Z",
     "start_time": "2024-05-02T18:52:03.089462200Z"
    }
   },
   "id": "fa577ce92203d843",
   "execution_count": 227
  },
  {
   "cell_type": "code",
   "outputs": [],
   "source": [
    "distribution_armed_unarmed_data = {\"\" : {\"Armed\" : armed_persons[\"name\"].count(), \"Unarmed\": unarmed_persons[\"name\"].count()}}\n",
    "distribution_armed_unarmed_df = pandas.DataFrame(distribution_armed_unarmed_data)"
   ],
   "metadata": {
    "collapsed": false,
    "ExecuteTime": {
     "end_time": "2024-05-02T18:41:10.102587600Z",
     "start_time": "2024-05-02T18:41:10.017189500Z"
    }
   },
   "id": "8f35f9b75574721e",
   "execution_count": 210
  },
  {
   "cell_type": "code",
   "outputs": [
    {
     "data": {
      "text/plain": "array([[8687],\n       [ 540]], dtype=int64)"
     },
     "execution_count": 215,
     "metadata": {},
     "output_type": "execute_result"
    }
   ],
   "source": [
    "distribution_armed_unarmed_df.values"
   ],
   "metadata": {
    "collapsed": false,
    "ExecuteTime": {
     "end_time": "2024-05-02T18:42:16.398371600Z",
     "start_time": "2024-05-02T18:42:16.343219700Z"
    }
   },
   "id": "5b4669ce3639a46c",
   "execution_count": 215
  },
  {
   "cell_type": "code",
   "outputs": [
    {
     "data": {
      "text/plain": "<Figure size 640x480 with 1 Axes>",
      "image/png": "[encoded data removed]"
     },
     "metadata": {},
     "output_type": "display_data"
    }
   ],
   "source": [
    "plt.pie(data_armed_unarmed, labels=labels, autopct='%1.1f%%', startangle=140)\n",
    "plt.axis(\"equal\")\n",
    "plt.title(\"Verteilung der nicht bewaffneten Personen im Vergleich zu den bewaffneten\")\n",
    "plt.show()"
   ],
   "metadata": {
    "collapsed": false,
    "ExecuteTime": {
     "end_time": "2024-05-02T18:52:59.948118600Z",
     "start_time": "2024-05-02T18:52:59.825561600Z"
    }
   },
   "id": "ca17e087915ed170",
   "execution_count": 229
  },
  {
   "cell_type": "code",
   "outputs": [],
   "source": [],
   "metadata": {
    "collapsed": false
   },
   "id": "4a5d0bfee5c122ae"
  },
  {
   "cell_type": "markdown",
   "source": [
    "Anteil der schwarzen Bewaffneten im vergleich zu weißen bewaffneten"
   ],
   "metadata": {
    "collapsed": false
   },
   "id": "3ab362e9283e92c6"
  },
  {
   "cell_type": "code",
   "outputs": [],
   "source": [],
   "metadata": {
    "collapsed": false
   },
   "id": "4c064392a5eac57"
  },
  {
   "cell_type": "code",
   "outputs": [
    {
     "data": {
      "text/plain": "                                                 armed\nrace                        armed                     \nAsian                       gun                     72\n                            knife                   54\n                            unarmed                  8\n                            vehicle                  6\n                            blunt_object             5\n...                                                ...\nWhite                       vehicle,knife,other      1\nWhite,Black                 gun                      1\n                            knife                    1\nWhite,Black,Native American knife                    1\nWhite,Hispanic              gun                      1\n\n[100 rows x 1 columns]",
      "text/html": "<div>\n<style scoped>\n    .dataframe tbody tr th:only-of-type {\n        vertical-align: middle;\n    }\n\n    .dataframe tbody tr th {\n        vertical-align: top;\n    }\n\n    .dataframe thead th {\n        text-align: right;\n    }\n</style>\n<table border=\"1\" class=\"dataframe\">\n  <thead>\n    <tr style=\"text-align: right;\">\n      <th></th>\n      <th></th>\n      <th>armed</th>\n    </tr>\n    <tr>\n      <th>race</th>\n      <th>armed</th>\n      <th></th>\n    </tr>\n  </thead>\n  <tbody>\n    <tr>\n      <th rowspan=\"5\" valign=\"top\">Asian</th>\n      <th>gun</th>\n      <td>72</td>\n    </tr>\n    <tr>\n      <th>knife</th>\n      <td>54</td>\n    </tr>\n    <tr>\n      <th>unarmed</th>\n      <td>8</td>\n    </tr>\n    <tr>\n      <th>vehicle</th>\n      <td>6</td>\n    </tr>\n    <tr>\n      <th>blunt_object</th>\n      <td>5</td>\n    </tr>\n    <tr>\n      <th>...</th>\n      <th>...</th>\n      <td>...</td>\n    </tr>\n    <tr>\n      <th>White</th>\n      <th>vehicle,knife,other</th>\n      <td>1</td>\n    </tr>\n    <tr>\n      <th rowspan=\"2\" valign=\"top\">White,Black</th>\n      <th>gun</th>\n      <td>1</td>\n    </tr>\n    <tr>\n      <th>knife</th>\n      <td>1</td>\n    </tr>\n    <tr>\n      <th>White,Black,Native American</th>\n      <th>knife</th>\n      <td>1</td>\n    </tr>\n    <tr>\n      <th>White,Hispanic</th>\n      <th>gun</th>\n      <td>1</td>\n    </tr>\n  </tbody>\n</table>\n<p>100 rows × 1 columns</p>\n</div>"
     },
     "execution_count": 241,
     "metadata": {},
     "output_type": "execute_result"
    }
   ],
   "source": [
    "df_police_shooting.groupby([\"race\"]).agg({\"armed\": \"value_counts\"})"
   ],
   "metadata": {
    "collapsed": false,
    "ExecuteTime": {
     "end_time": "2024-05-02T21:40:45.969587400Z",
     "start_time": "2024-05-02T21:40:45.888228400Z"
    }
   },
   "id": "6f245e888f061add",
   "execution_count": 241
  },
  {
   "cell_type": "code",
   "outputs": [],
   "source": [
    "def is_armed(wert):\n",
    "    \n",
    "    if wert != \"unarmed\":\n",
    "        return 1\n",
    "    else:\n",
    "        return 0\n",
    "    "
   ],
   "metadata": {
    "collapsed": false,
    "ExecuteTime": {
     "end_time": "2024-05-02T21:48:30.552995200Z",
     "start_time": "2024-05-02T21:48:30.512866200Z"
    }
   },
   "id": "d3bbf4234a95af65",
   "execution_count": 246
  },
  {
   "cell_type": "code",
   "outputs": [],
   "source": [
    "df_police_shooting[\"is_armed\"] = df_police_shooting[\"armed\"].apply(is_armed)"
   ],
   "metadata": {
    "collapsed": false,
    "ExecuteTime": {
     "end_time": "2024-05-02T21:55:27.175692700Z",
     "start_time": "2024-05-02T21:55:27.034384400Z"
    }
   },
   "id": "62418d8f871f6ec3",
   "execution_count": 249
  },
  {
   "cell_type": "code",
   "outputs": [],
   "source": [
    "is_armed_grouped_by_race = df_police_shooting.groupby([\"race\"]).agg({\"is_armed\": \"value_counts\"})"
   ],
   "metadata": {
    "collapsed": false,
    "ExecuteTime": {
     "end_time": "2024-05-03T08:59:06.217570400Z",
     "start_time": "2024-05-03T08:59:06.165688200Z"
    }
   },
   "id": "baedb3e12aed35e",
   "execution_count": 257
  },
  {
   "cell_type": "code",
   "outputs": [
    {
     "data": {
      "text/plain": "race\nWhite                          4084\nBlack                          2080\nHispanic                       1454\nUnknown                        1097\nAsian                           160\nNative American                 120\nOther                            25\nBlack,Hispanic                    2\nWhite,Black                       2\nWhite,Black,Native American       1\nNative American,Hispanic          1\nWhite,Hispanic                    1\nName: count, dtype: int64"
     },
     "execution_count": 267,
     "metadata": {},
     "output_type": "execute_result"
    }
   ],
   "source": [
    "is_armed = df_police_shooting[df_police_shooting[\"is_armed\"] == 1]"
   ],
   "metadata": {
    "collapsed": false,
    "ExecuteTime": {
     "end_time": "2024-05-03T09:06:08.199593300Z",
     "start_time": "2024-05-03T09:06:08.116849100Z"
    }
   },
   "id": "8107b206ed1cc621",
   "execution_count": 267
  },
  {
   "cell_type": "code",
   "outputs": [
    {
     "ename": "KeyError",
     "evalue": "'race'",
     "output_type": "error",
     "traceback": [
      "\u001B[1;31m---------------------------------------------------------------------------\u001B[0m",
      "\u001B[1;31mKeyError\u001B[0m                                  Traceback (most recent call last)",
      "File \u001B[1;32m~\\Documents\\PycharmProjekte\\DeathsInvolvongPoliceDataAnalysis\\.venv\\Lib\\site-packages\\pandas\\core\\indexes\\base.py:3805\u001B[0m, in \u001B[0;36mIndex.get_loc\u001B[1;34m(self, key)\u001B[0m\n\u001B[0;32m   3804\u001B[0m \u001B[38;5;28;01mtry\u001B[39;00m:\n\u001B[1;32m-> 3805\u001B[0m     \u001B[38;5;28;01mreturn\u001B[39;00m \u001B[38;5;28;43mself\u001B[39;49m\u001B[38;5;241;43m.\u001B[39;49m\u001B[43m_engine\u001B[49m\u001B[38;5;241;43m.\u001B[39;49m\u001B[43mget_loc\u001B[49m\u001B[43m(\u001B[49m\u001B[43mcasted_key\u001B[49m\u001B[43m)\u001B[49m\n\u001B[0;32m   3806\u001B[0m \u001B[38;5;28;01mexcept\u001B[39;00m \u001B[38;5;167;01mKeyError\u001B[39;00m \u001B[38;5;28;01mas\u001B[39;00m err:\n",
      "File \u001B[1;32mindex.pyx:167\u001B[0m, in \u001B[0;36mpandas._libs.index.IndexEngine.get_loc\u001B[1;34m()\u001B[0m\n",
      "File \u001B[1;32mindex.pyx:196\u001B[0m, in \u001B[0;36mpandas._libs.index.IndexEngine.get_loc\u001B[1;34m()\u001B[0m\n",
      "File \u001B[1;32mpandas\\\\_libs\\\\hashtable_class_helper.pxi:7081\u001B[0m, in \u001B[0;36mpandas._libs.hashtable.PyObjectHashTable.get_item\u001B[1;34m()\u001B[0m\n",
      "File \u001B[1;32mpandas\\\\_libs\\\\hashtable_class_helper.pxi:7089\u001B[0m, in \u001B[0;36mpandas._libs.hashtable.PyObjectHashTable.get_item\u001B[1;34m()\u001B[0m\n",
      "\u001B[1;31mKeyError\u001B[0m: 'race'",
      "\nThe above exception was the direct cause of the following exception:\n",
      "\u001B[1;31mKeyError\u001B[0m                                  Traceback (most recent call last)",
      "Cell \u001B[1;32mIn[274], line 1\u001B[0m\n\u001B[1;32m----> 1\u001B[0m is_armed \u001B[38;5;241m=\u001B[39m \u001B[43mis_armed\u001B[49m\u001B[43m[\u001B[49m\u001B[38;5;124;43m\"\u001B[39;49m\u001B[38;5;124;43mrace\u001B[39;49m\u001B[38;5;124;43m\"\u001B[39;49m\u001B[43m]\u001B[49m\u001B[38;5;241m.\u001B[39mvalue_counts()\n\u001B[0;32m      2\u001B[0m \u001B[38;5;28mtype\u001B[39m(is_armed)\n",
      "File \u001B[1;32m~\\Documents\\PycharmProjekte\\DeathsInvolvongPoliceDataAnalysis\\.venv\\Lib\\site-packages\\pandas\\core\\series.py:1121\u001B[0m, in \u001B[0;36mSeries.__getitem__\u001B[1;34m(self, key)\u001B[0m\n\u001B[0;32m   1118\u001B[0m     \u001B[38;5;28;01mreturn\u001B[39;00m \u001B[38;5;28mself\u001B[39m\u001B[38;5;241m.\u001B[39m_values[key]\n\u001B[0;32m   1120\u001B[0m \u001B[38;5;28;01melif\u001B[39;00m key_is_scalar:\n\u001B[1;32m-> 1121\u001B[0m     \u001B[38;5;28;01mreturn\u001B[39;00m \u001B[38;5;28;43mself\u001B[39;49m\u001B[38;5;241;43m.\u001B[39;49m\u001B[43m_get_value\u001B[49m\u001B[43m(\u001B[49m\u001B[43mkey\u001B[49m\u001B[43m)\u001B[49m\n\u001B[0;32m   1123\u001B[0m \u001B[38;5;66;03m# Convert generator to list before going through hashable part\u001B[39;00m\n\u001B[0;32m   1124\u001B[0m \u001B[38;5;66;03m# (We will iterate through the generator there to check for slices)\u001B[39;00m\n\u001B[0;32m   1125\u001B[0m \u001B[38;5;28;01mif\u001B[39;00m is_iterator(key):\n",
      "File \u001B[1;32m~\\Documents\\PycharmProjekte\\DeathsInvolvongPoliceDataAnalysis\\.venv\\Lib\\site-packages\\pandas\\core\\series.py:1237\u001B[0m, in \u001B[0;36mSeries._get_value\u001B[1;34m(self, label, takeable)\u001B[0m\n\u001B[0;32m   1234\u001B[0m     \u001B[38;5;28;01mreturn\u001B[39;00m \u001B[38;5;28mself\u001B[39m\u001B[38;5;241m.\u001B[39m_values[label]\n\u001B[0;32m   1236\u001B[0m \u001B[38;5;66;03m# Similar to Index.get_value, but we do not fall back to positional\u001B[39;00m\n\u001B[1;32m-> 1237\u001B[0m loc \u001B[38;5;241m=\u001B[39m \u001B[38;5;28;43mself\u001B[39;49m\u001B[38;5;241;43m.\u001B[39;49m\u001B[43mindex\u001B[49m\u001B[38;5;241;43m.\u001B[39;49m\u001B[43mget_loc\u001B[49m\u001B[43m(\u001B[49m\u001B[43mlabel\u001B[49m\u001B[43m)\u001B[49m\n\u001B[0;32m   1239\u001B[0m \u001B[38;5;28;01mif\u001B[39;00m is_integer(loc):\n\u001B[0;32m   1240\u001B[0m     \u001B[38;5;28;01mreturn\u001B[39;00m \u001B[38;5;28mself\u001B[39m\u001B[38;5;241m.\u001B[39m_values[loc]\n",
      "File \u001B[1;32m~\\Documents\\PycharmProjekte\\DeathsInvolvongPoliceDataAnalysis\\.venv\\Lib\\site-packages\\pandas\\core\\indexes\\base.py:3812\u001B[0m, in \u001B[0;36mIndex.get_loc\u001B[1;34m(self, key)\u001B[0m\n\u001B[0;32m   3807\u001B[0m     \u001B[38;5;28;01mif\u001B[39;00m \u001B[38;5;28misinstance\u001B[39m(casted_key, \u001B[38;5;28mslice\u001B[39m) \u001B[38;5;129;01mor\u001B[39;00m (\n\u001B[0;32m   3808\u001B[0m         \u001B[38;5;28misinstance\u001B[39m(casted_key, abc\u001B[38;5;241m.\u001B[39mIterable)\n\u001B[0;32m   3809\u001B[0m         \u001B[38;5;129;01mand\u001B[39;00m \u001B[38;5;28many\u001B[39m(\u001B[38;5;28misinstance\u001B[39m(x, \u001B[38;5;28mslice\u001B[39m) \u001B[38;5;28;01mfor\u001B[39;00m x \u001B[38;5;129;01min\u001B[39;00m casted_key)\n\u001B[0;32m   3810\u001B[0m     ):\n\u001B[0;32m   3811\u001B[0m         \u001B[38;5;28;01mraise\u001B[39;00m InvalidIndexError(key)\n\u001B[1;32m-> 3812\u001B[0m     \u001B[38;5;28;01mraise\u001B[39;00m \u001B[38;5;167;01mKeyError\u001B[39;00m(key) \u001B[38;5;28;01mfrom\u001B[39;00m \u001B[38;5;21;01merr\u001B[39;00m\n\u001B[0;32m   3813\u001B[0m \u001B[38;5;28;01mexcept\u001B[39;00m \u001B[38;5;167;01mTypeError\u001B[39;00m:\n\u001B[0;32m   3814\u001B[0m     \u001B[38;5;66;03m# If we have a listlike key, _check_indexing_error will raise\u001B[39;00m\n\u001B[0;32m   3815\u001B[0m     \u001B[38;5;66;03m#  InvalidIndexError. Otherwise we fall through and re-raise\u001B[39;00m\n\u001B[0;32m   3816\u001B[0m     \u001B[38;5;66;03m#  the TypeError.\u001B[39;00m\n\u001B[0;32m   3817\u001B[0m     \u001B[38;5;28mself\u001B[39m\u001B[38;5;241m.\u001B[39m_check_indexing_error(key)\n",
      "\u001B[1;31mKeyError\u001B[0m: 'race'"
     ]
    }
   ],
   "source": [
    "is_armed = is_armed[\"race\"].value_counts()"
   ],
   "metadata": {
    "collapsed": false,
    "ExecuteTime": {
     "end_time": "2024-05-03T09:11:36.449035400Z",
     "start_time": "2024-05-03T09:11:36.214575700Z"
    }
   },
   "id": "ba397a68bb53f5e",
   "execution_count": 274
  },
  {
   "cell_type": "code",
   "outputs": [],
   "source": [],
   "metadata": {
    "collapsed": false
   },
   "id": "33fbba17e1f24525"
  },
  {
   "cell_type": "code",
   "outputs": [
    {
     "data": {
      "text/plain": "array([[4084],\n       [2080],\n       [1454],\n       [1097],\n       [ 160]], dtype=int64)"
     },
     "execution_count": 297,
     "metadata": {},
     "output_type": "execute_result"
    }
   ],
   "source": [
    "is_armed_df = pandas.DataFrame(is_armed[:5])"
   ],
   "metadata": {
    "collapsed": false,
    "ExecuteTime": {
     "end_time": "2024-05-03T09:32:25.601963800Z",
     "start_time": "2024-05-03T09:32:25.440744700Z"
    }
   },
   "id": "9040e9cc754fde7d",
   "execution_count": 297
  },
  {
   "cell_type": "code",
   "outputs": [],
   "source": [
    "is_armed_df.columns = [\"number_unarmed\"]"
   ],
   "metadata": {
    "collapsed": false,
    "ExecuteTime": {
     "end_time": "2024-05-03T09:33:11.849389400Z",
     "start_time": "2024-05-03T09:33:11.790979400Z"
    }
   },
   "id": "3f3f33c6415ba522",
   "execution_count": 298
  },
  {
   "cell_type": "code",
   "outputs": [
    {
     "data": {
      "text/plain": "<Figure size 640x480 with 1 Axes>",
      "image/png": "[encoded data removed]"
     },
     "metadata": {},
     "output_type": "display_data"
    }
   ],
   "source": [
    "sns.barplot(x=is_armed_df.index, y=is_armed_df[\"number_unarmed\"])\n",
    "plt.show()"
   ],
   "metadata": {
    "collapsed": false,
    "ExecuteTime": {
     "end_time": "2024-05-03T09:35:07.606776700Z",
     "start_time": "2024-05-03T09:35:07.512044400Z"
    }
   },
   "id": "c1412ab60f2c975",
   "execution_count": 300
  },
  {
   "cell_type": "code",
   "outputs": [],
   "source": [],
   "metadata": {
    "collapsed": false
   },
   "id": "2aa95a88afd3d648"
  },
  {
   "cell_type": "code",
   "outputs": [
    {
     "data": {
      "text/plain": "                                      is_armed\nrace                        is_armed          \nNative American,Hispanic    1                1\nWhite,Black,Native American 1                1\nWhite,Hispanic              1                1",
      "text/html": "<div>\n<style scoped>\n    .dataframe tbody tr th:only-of-type {\n        vertical-align: middle;\n    }\n\n    .dataframe tbody tr th {\n        vertical-align: top;\n    }\n\n    .dataframe thead th {\n        text-align: right;\n    }\n</style>\n<table border=\"1\" class=\"dataframe\">\n  <thead>\n    <tr style=\"text-align: right;\">\n      <th></th>\n      <th></th>\n      <th>is_armed</th>\n    </tr>\n    <tr>\n      <th>race</th>\n      <th>is_armed</th>\n      <th></th>\n    </tr>\n  </thead>\n  <tbody>\n    <tr>\n      <th>Native American,Hispanic</th>\n      <th>1</th>\n      <td>1</td>\n    </tr>\n    <tr>\n      <th>White,Black,Native American</th>\n      <th>1</th>\n      <td>1</td>\n    </tr>\n    <tr>\n      <th>White,Hispanic</th>\n      <th>1</th>\n      <td>1</td>\n    </tr>\n  </tbody>\n</table>\n</div>"
     },
     "execution_count": 264,
     "metadata": {},
     "output_type": "execute_result"
    }
   ],
   "source": [
    "is_armed_grouped_by_race = is_armed_grouped_by_race[is_armed_grouped_by_race[\"is_armed\"] == 1]\n",
    "is_armed_grouped_by_race"
   ],
   "metadata": {
    "collapsed": false,
    "ExecuteTime": {
     "end_time": "2024-05-03T09:03:26.403832900Z",
     "start_time": "2024-05-03T09:03:26.349031700Z"
    }
   },
   "id": "d9ee821a973ca445",
   "execution_count": 264
  },
  {
   "cell_type": "code",
   "outputs": [],
   "source": [],
   "metadata": {
    "collapsed": false
   },
   "id": "6ae97d5a6474c9e6"
  },
  {
   "cell_type": "markdown",
   "source": [
    "\n",
    "\n",
    "\n",
    "\n",
    "\n",
    "\n"
   ],
   "metadata": {
    "collapsed": false
   },
   "id": "71c64c712b61ae9f"
  },
  {
   "cell_type": "markdown",
   "source": [
    "ANzahl der psychisch kranken nach Staat"
   ],
   "metadata": {
    "collapsed": false
   },
   "id": "46a6fae8e9ed548d"
  },
  {
   "cell_type": "code",
   "outputs": [
    {
     "data": {
      "text/plain": "            date                name   age gender         armed      race  \\\n0     2015-01-02    Lewis Lee Lembke  47.0   male           gun     White   \n1     2015-01-02          Tim Elliot  53.0   male           gun     Asian   \n2     2015-01-03  John Paul Quintero  23.0   male       unarmed  Hispanic   \n3     2015-01-04   Kenneth Joe Brown  18.0   male           gun     White   \n4     2015-01-04   Michael Rodriguez  39.0   male         other  Hispanic   \n...          ...                 ...   ...    ...           ...       ...   \n9565  2024-04-17                 NaN   NaN   male           gun   Unknown   \n9566  2024-04-17                 NaN   NaN   male           gun   Unknown   \n9567  2024-04-18       Jared Billard   NaN   male  undetermined   Unknown   \n9568  2024-04-18       Derrick Smith  34.0   male  blunt_object     Black   \n9569  2024-04-18        Steven Scott  39.0   male           gun   Unknown   \n\n             city state flee  body_camera  signs_of_mental_illness  \\\n0           Aloha    OR  not        False                    False   \n1         Shelton    WA  not        False                     True   \n2         Wichita    KS  not        False                    False   \n3         Guthrie    OK  not        False                    False   \n4           Evans    CO  not        False                    False   \n...           ...   ...  ...          ...                      ...   \n9565       Pueblo    CO  not        False                    False   \n9566  Cabin Creek    WV  not        False                    False   \n9567   Colchester    CT  NaN        False                    False   \n9568       Lorain    OH  not        False                    False   \n9569     Norcross    GA  car        False                    False   \n\n                 police_departments_involved  \n0     Washington County Sheriff's Office, OR  \n1          Mason County Sheriff's Office, WA  \n2              Wichita Police Department, KS  \n3                Oklahoma Highway Patrol, OK  \n4                Evans Police Department, CO  \n...                                      ...  \n9565            Pueblo Police Department, CO  \n9566     Kanawha County Sheriff's Office, WV  \n9567        Colchester Police Department, CT  \n9568               U.S. Marshals Service, OH  \n9569   Gwinnett County Police Department, GA  \n\n[9570 rows x 12 columns]",
      "text/html": "<div>\n<style scoped>\n    .dataframe tbody tr th:only-of-type {\n        vertical-align: middle;\n    }\n\n    .dataframe tbody tr th {\n        vertical-align: top;\n    }\n\n    .dataframe thead th {\n        text-align: right;\n    }\n</style>\n<table border=\"1\" class=\"dataframe\">\n  <thead>\n    <tr style=\"text-align: right;\">\n      <th></th>\n      <th>date</th>\n      <th>name</th>\n      <th>age</th>\n      <th>gender</th>\n      <th>armed</th>\n      <th>race</th>\n      <th>city</th>\n      <th>state</th>\n      <th>flee</th>\n      <th>body_camera</th>\n      <th>signs_of_mental_illness</th>\n      <th>police_departments_involved</th>\n    </tr>\n  </thead>\n  <tbody>\n    <tr>\n      <th>0</th>\n      <td>2015-01-02</td>\n      <td>Lewis Lee Lembke</td>\n      <td>47.0</td>\n      <td>male</td>\n      <td>gun</td>\n      <td>White</td>\n      <td>Aloha</td>\n      <td>OR</td>\n      <td>not</td>\n      <td>False</td>\n      <td>False</td>\n      <td>Washington County Sheriff's Office, OR</td>\n    </tr>\n    <tr>\n      <th>1</th>\n      <td>2015-01-02</td>\n      <td>Tim Elliot</td>\n      <td>53.0</td>\n      <td>male</td>\n      <td>gun</td>\n      <td>Asian</td>\n      <td>Shelton</td>\n      <td>WA</td>\n      <td>not</td>\n      <td>False</td>\n      <td>True</td>\n      <td>Mason County Sheriff's Office, WA</td>\n    </tr>\n    <tr>\n      <th>2</th>\n      <td>2015-01-03</td>\n      <td>John Paul Quintero</td>\n      <td>23.0</td>\n      <td>male</td>\n      <td>unarmed</td>\n      <td>Hispanic</td>\n      <td>Wichita</td>\n      <td>KS</td>\n      <td>not</td>\n      <td>False</td>\n      <td>False</td>\n      <td>Wichita Police Department, KS</td>\n    </tr>\n    <tr>\n      <th>3</th>\n      <td>2015-01-04</td>\n      <td>Kenneth Joe Brown</td>\n      <td>18.0</td>\n      <td>male</td>\n      <td>gun</td>\n      <td>White</td>\n      <td>Guthrie</td>\n      <td>OK</td>\n      <td>not</td>\n      <td>False</td>\n      <td>False</td>\n      <td>Oklahoma Highway Patrol, OK</td>\n    </tr>\n    <tr>\n      <th>4</th>\n      <td>2015-01-04</td>\n      <td>Michael Rodriguez</td>\n      <td>39.0</td>\n      <td>male</td>\n      <td>other</td>\n      <td>Hispanic</td>\n      <td>Evans</td>\n      <td>CO</td>\n      <td>not</td>\n      <td>False</td>\n      <td>False</td>\n      <td>Evans Police Department, CO</td>\n    </tr>\n    <tr>\n      <th>...</th>\n      <td>...</td>\n      <td>...</td>\n      <td>...</td>\n      <td>...</td>\n      <td>...</td>\n      <td>...</td>\n      <td>...</td>\n      <td>...</td>\n      <td>...</td>\n      <td>...</td>\n      <td>...</td>\n      <td>...</td>\n    </tr>\n    <tr>\n      <th>9565</th>\n      <td>2024-04-17</td>\n      <td>NaN</td>\n      <td>NaN</td>\n      <td>male</td>\n      <td>gun</td>\n      <td>Unknown</td>\n      <td>Pueblo</td>\n      <td>CO</td>\n      <td>not</td>\n      <td>False</td>\n      <td>False</td>\n      <td>Pueblo Police Department, CO</td>\n    </tr>\n    <tr>\n      <th>9566</th>\n      <td>2024-04-17</td>\n      <td>NaN</td>\n      <td>NaN</td>\n      <td>male</td>\n      <td>gun</td>\n      <td>Unknown</td>\n      <td>Cabin Creek</td>\n      <td>WV</td>\n      <td>not</td>\n      <td>False</td>\n      <td>False</td>\n      <td>Kanawha County Sheriff's Office, WV</td>\n    </tr>\n    <tr>\n      <th>9567</th>\n      <td>2024-04-18</td>\n      <td>Jared Billard</td>\n      <td>NaN</td>\n      <td>male</td>\n      <td>undetermined</td>\n      <td>Unknown</td>\n      <td>Colchester</td>\n      <td>CT</td>\n      <td>NaN</td>\n      <td>False</td>\n      <td>False</td>\n      <td>Colchester Police Department, CT</td>\n    </tr>\n    <tr>\n      <th>9568</th>\n      <td>2024-04-18</td>\n      <td>Derrick Smith</td>\n      <td>34.0</td>\n      <td>male</td>\n      <td>blunt_object</td>\n      <td>Black</td>\n      <td>Lorain</td>\n      <td>OH</td>\n      <td>not</td>\n      <td>False</td>\n      <td>False</td>\n      <td>U.S. Marshals Service, OH</td>\n    </tr>\n    <tr>\n      <th>9569</th>\n      <td>2024-04-18</td>\n      <td>Steven Scott</td>\n      <td>39.0</td>\n      <td>male</td>\n      <td>gun</td>\n      <td>Unknown</td>\n      <td>Norcross</td>\n      <td>GA</td>\n      <td>car</td>\n      <td>False</td>\n      <td>False</td>\n      <td>Gwinnett County Police Department, GA</td>\n    </tr>\n  </tbody>\n</table>\n<p>9570 rows × 12 columns</p>\n</div>"
     },
     "execution_count": 21,
     "metadata": {},
     "output_type": "execute_result"
    }
   ],
   "source": [],
   "metadata": {
    "collapsed": false,
    "ExecuteTime": {
     "end_time": "2024-04-29T12:18:49.414200500Z",
     "start_time": "2024-04-29T12:18:49.403372800Z"
    }
   },
   "id": "22ae8cebf4be88c",
   "execution_count": 21
  },
  {
   "cell_type": "code",
   "outputs": [],
   "source": [],
   "metadata": {
    "collapsed": false
   },
   "id": "c79f1f7a529bc3c1"
  },
  {
   "cell_type": "markdown",
   "source": [
    "Was ist das durchschnittliche alter der psychisch ranken Opfer"
   ],
   "metadata": {
    "collapsed": false
   },
   "id": "54e60306a8e746c9"
  },
  {
   "cell_type": "code",
   "outputs": [
    {
     "data": {
      "text/plain": "                               age\nsigns_of_mental_illness           \nFalse                    36.822638\nTrue                     39.725416",
      "text/html": "<div>\n<style scoped>\n    .dataframe tbody tr th:only-of-type {\n        vertical-align: middle;\n    }\n\n    .dataframe tbody tr th {\n        vertical-align: top;\n    }\n\n    .dataframe thead th {\n        text-align: right;\n    }\n</style>\n<table border=\"1\" class=\"dataframe\">\n  <thead>\n    <tr style=\"text-align: right;\">\n      <th></th>\n      <th>age</th>\n    </tr>\n    <tr>\n      <th>signs_of_mental_illness</th>\n      <th></th>\n    </tr>\n  </thead>\n  <tbody>\n    <tr>\n      <th>False</th>\n      <td>36.822638</td>\n    </tr>\n    <tr>\n      <th>True</th>\n      <td>39.725416</td>\n    </tr>\n  </tbody>\n</table>\n</div>"
     },
     "execution_count": 267,
     "metadata": {},
     "output_type": "execute_result"
    }
   ],
   "source": [
    "df_police_shooting.groupby(\"signs_of_mental_illness\").agg({\"age\": \"mean\"})"
   ],
   "metadata": {
    "collapsed": false,
    "ExecuteTime": {
     "end_time": "2024-04-29T18:15:21.144983400Z",
     "start_time": "2024-04-29T18:15:21.122149500Z"
    }
   },
   "id": "9bda76bcc720938",
   "execution_count": 267
  },
  {
   "cell_type": "markdown",
   "source": [
    "Das durchschnittliche Alter der psychisch kranken Personen beträgt 40 Jahre\n",
    "\n",
    "\n"
   ],
   "metadata": {
    "collapsed": false
   },
   "id": "aeb2022cdce2c693"
  },
  {
   "cell_type": "markdown",
   "source": [
    "Was ist der prozentuale Anteil der psychisch kranken schwarzen und weißen"
   ],
   "metadata": {
    "collapsed": false
   },
   "id": "1f24257f18a688a3"
  },
  {
   "cell_type": "markdown",
   "source": [
    "Wieviele unbewaffnete wurden nieder geschoßen. Verteilung nach weiß und schwarz"
   ],
   "metadata": {
    "collapsed": false
   },
   "id": "f3cdec1ef62cb54f"
  },
  {
   "cell_type": "code",
   "outputs": [
    {
     "data": {
      "text/plain": "Index(['date', 'name', 'age', 'gender', 'armed', 'race', 'city', 'state',\n       'flee', 'body_camera', 'signs_of_mental_illness',\n       'police_departments_involved', 'year'],\n      dtype='object')"
     },
     "execution_count": 268,
     "metadata": {},
     "output_type": "execute_result"
    }
   ],
   "source": [
    "df_police_shooting.columns"
   ],
   "metadata": {
    "collapsed": false,
    "ExecuteTime": {
     "end_time": "2024-04-29T18:27:43.616511400Z",
     "start_time": "2024-04-29T18:27:43.560283100Z"
    }
   },
   "id": "d6b925ee62fd4c20",
   "execution_count": 268
  },
  {
   "cell_type": "code",
   "outputs": [
    {
     "data": {
      "text/plain": "                              race\narmed               race          \nblunt_object        White       98\n                    Hispanic    58\n                    Black       38\n                    Unknown     31\n                    Asian        5\n...                            ...\nvehicle,gun         Black        5\n                    Hispanic     3\n                    Unknown      3\nvehicle,knife       Hispanic     2\nvehicle,knife,other White        1\n\n[100 rows x 1 columns]",
      "text/html": "<div>\n<style scoped>\n    .dataframe tbody tr th:only-of-type {\n        vertical-align: middle;\n    }\n\n    .dataframe tbody tr th {\n        vertical-align: top;\n    }\n\n    .dataframe thead th {\n        text-align: right;\n    }\n</style>\n<table border=\"1\" class=\"dataframe\">\n  <thead>\n    <tr style=\"text-align: right;\">\n      <th></th>\n      <th></th>\n      <th>race</th>\n    </tr>\n    <tr>\n      <th>armed</th>\n      <th>race</th>\n      <th></th>\n    </tr>\n  </thead>\n  <tbody>\n    <tr>\n      <th rowspan=\"5\" valign=\"top\">blunt_object</th>\n      <th>White</th>\n      <td>98</td>\n    </tr>\n    <tr>\n      <th>Hispanic</th>\n      <td>58</td>\n    </tr>\n    <tr>\n      <th>Black</th>\n      <td>38</td>\n    </tr>\n    <tr>\n      <th>Unknown</th>\n      <td>31</td>\n    </tr>\n    <tr>\n      <th>Asian</th>\n      <td>5</td>\n    </tr>\n    <tr>\n      <th>...</th>\n      <th>...</th>\n      <td>...</td>\n    </tr>\n    <tr>\n      <th rowspan=\"3\" valign=\"top\">vehicle,gun</th>\n      <th>Black</th>\n      <td>5</td>\n    </tr>\n    <tr>\n      <th>Hispanic</th>\n      <td>3</td>\n    </tr>\n    <tr>\n      <th>Unknown</th>\n      <td>3</td>\n    </tr>\n    <tr>\n      <th>vehicle,knife</th>\n      <th>Hispanic</th>\n      <td>2</td>\n    </tr>\n    <tr>\n      <th>vehicle,knife,other</th>\n      <th>White</th>\n      <td>1</td>\n    </tr>\n  </tbody>\n</table>\n<p>100 rows × 1 columns</p>\n</div>"
     },
     "execution_count": 269,
     "metadata": {},
     "output_type": "execute_result"
    }
   ],
   "source": [
    "df_police_shooting.groupby(\"armed\").agg({\"race\": \"value_counts\"})"
   ],
   "metadata": {
    "collapsed": false,
    "ExecuteTime": {
     "end_time": "2024-04-29T18:32:13.901071Z",
     "start_time": "2024-04-29T18:32:13.854849400Z"
    }
   },
   "id": "980119649d3cc0be",
   "execution_count": 269
  },
  {
   "cell_type": "markdown",
   "source": [
    "In welche Staaten passieren die meisten Morde"
   ],
   "metadata": {
    "collapsed": false
   },
   "id": "38689361a8e6831e"
  },
  {
   "cell_type": "code",
   "outputs": [],
   "source": [
    "unarmed_victims = df_police_shooting[df_police_shooting[\"armed\"] == \"unarmed\"]"
   ],
   "metadata": {
    "collapsed": false,
    "ExecuteTime": {
     "end_time": "2024-04-29T20:15:31.772877700Z",
     "start_time": "2024-04-29T20:15:31.756813200Z"
    }
   },
   "id": "d3e46811c786deb5",
   "execution_count": 293
  },
  {
   "cell_type": "code",
   "outputs": [
    {
     "ename": "KeyError",
     "evalue": "'race'",
     "output_type": "error",
     "traceback": [
      "\u001B[1;31m---------------------------------------------------------------------------\u001B[0m",
      "\u001B[1;31mKeyError\u001B[0m                                  Traceback (most recent call last)",
      "File \u001B[1;32m~\\Documents\\PycharmProjekte\\DeathsInvolvongPoliceDataAnalysis\\.venv\\Lib\\site-packages\\pandas\\core\\indexes\\base.py:3805\u001B[0m, in \u001B[0;36mIndex.get_loc\u001B[1;34m(self, key)\u001B[0m\n\u001B[0;32m   3804\u001B[0m \u001B[38;5;28;01mtry\u001B[39;00m:\n\u001B[1;32m-> 3805\u001B[0m     \u001B[38;5;28;01mreturn\u001B[39;00m \u001B[38;5;28;43mself\u001B[39;49m\u001B[38;5;241;43m.\u001B[39;49m\u001B[43m_engine\u001B[49m\u001B[38;5;241;43m.\u001B[39;49m\u001B[43mget_loc\u001B[49m\u001B[43m(\u001B[49m\u001B[43mcasted_key\u001B[49m\u001B[43m)\u001B[49m\n\u001B[0;32m   3806\u001B[0m \u001B[38;5;28;01mexcept\u001B[39;00m \u001B[38;5;167;01mKeyError\u001B[39;00m \u001B[38;5;28;01mas\u001B[39;00m err:\n",
      "File \u001B[1;32mindex.pyx:167\u001B[0m, in \u001B[0;36mpandas._libs.index.IndexEngine.get_loc\u001B[1;34m()\u001B[0m\n",
      "File \u001B[1;32mindex.pyx:196\u001B[0m, in \u001B[0;36mpandas._libs.index.IndexEngine.get_loc\u001B[1;34m()\u001B[0m\n",
      "File \u001B[1;32mpandas\\\\_libs\\\\hashtable_class_helper.pxi:7081\u001B[0m, in \u001B[0;36mpandas._libs.hashtable.PyObjectHashTable.get_item\u001B[1;34m()\u001B[0m\n",
      "File \u001B[1;32mpandas\\\\_libs\\\\hashtable_class_helper.pxi:7089\u001B[0m, in \u001B[0;36mpandas._libs.hashtable.PyObjectHashTable.get_item\u001B[1;34m()\u001B[0m\n",
      "\u001B[1;31mKeyError\u001B[0m: 'race'",
      "\nThe above exception was the direct cause of the following exception:\n",
      "\u001B[1;31mKeyError\u001B[0m                                  Traceback (most recent call last)",
      "Cell \u001B[1;32mIn[300], line 1\u001B[0m\n\u001B[1;32m----> 1\u001B[0m unarmed_victims \u001B[38;5;241m=\u001B[39m \u001B[43munarmed_victims\u001B[49m\u001B[43m[\u001B[49m\u001B[38;5;124;43m\"\u001B[39;49m\u001B[38;5;124;43mrace\u001B[39;49m\u001B[38;5;124;43m\"\u001B[39;49m\u001B[43m]\u001B[49m\u001B[38;5;241m.\u001B[39mvalue_counts()\n\u001B[0;32m      2\u001B[0m unarmed_victims \u001B[38;5;241m=\u001B[39m pandas\u001B[38;5;241m.\u001B[39mDataFrame(unarmed_victims)\n\u001B[0;32m      3\u001B[0m unarmed_victims\n",
      "File \u001B[1;32m~\\Documents\\PycharmProjekte\\DeathsInvolvongPoliceDataAnalysis\\.venv\\Lib\\site-packages\\pandas\\core\\frame.py:4102\u001B[0m, in \u001B[0;36mDataFrame.__getitem__\u001B[1;34m(self, key)\u001B[0m\n\u001B[0;32m   4100\u001B[0m \u001B[38;5;28;01mif\u001B[39;00m \u001B[38;5;28mself\u001B[39m\u001B[38;5;241m.\u001B[39mcolumns\u001B[38;5;241m.\u001B[39mnlevels \u001B[38;5;241m>\u001B[39m \u001B[38;5;241m1\u001B[39m:\n\u001B[0;32m   4101\u001B[0m     \u001B[38;5;28;01mreturn\u001B[39;00m \u001B[38;5;28mself\u001B[39m\u001B[38;5;241m.\u001B[39m_getitem_multilevel(key)\n\u001B[1;32m-> 4102\u001B[0m indexer \u001B[38;5;241m=\u001B[39m \u001B[38;5;28;43mself\u001B[39;49m\u001B[38;5;241;43m.\u001B[39;49m\u001B[43mcolumns\u001B[49m\u001B[38;5;241;43m.\u001B[39;49m\u001B[43mget_loc\u001B[49m\u001B[43m(\u001B[49m\u001B[43mkey\u001B[49m\u001B[43m)\u001B[49m\n\u001B[0;32m   4103\u001B[0m \u001B[38;5;28;01mif\u001B[39;00m is_integer(indexer):\n\u001B[0;32m   4104\u001B[0m     indexer \u001B[38;5;241m=\u001B[39m [indexer]\n",
      "File \u001B[1;32m~\\Documents\\PycharmProjekte\\DeathsInvolvongPoliceDataAnalysis\\.venv\\Lib\\site-packages\\pandas\\core\\indexes\\base.py:3812\u001B[0m, in \u001B[0;36mIndex.get_loc\u001B[1;34m(self, key)\u001B[0m\n\u001B[0;32m   3807\u001B[0m     \u001B[38;5;28;01mif\u001B[39;00m \u001B[38;5;28misinstance\u001B[39m(casted_key, \u001B[38;5;28mslice\u001B[39m) \u001B[38;5;129;01mor\u001B[39;00m (\n\u001B[0;32m   3808\u001B[0m         \u001B[38;5;28misinstance\u001B[39m(casted_key, abc\u001B[38;5;241m.\u001B[39mIterable)\n\u001B[0;32m   3809\u001B[0m         \u001B[38;5;129;01mand\u001B[39;00m \u001B[38;5;28many\u001B[39m(\u001B[38;5;28misinstance\u001B[39m(x, \u001B[38;5;28mslice\u001B[39m) \u001B[38;5;28;01mfor\u001B[39;00m x \u001B[38;5;129;01min\u001B[39;00m casted_key)\n\u001B[0;32m   3810\u001B[0m     ):\n\u001B[0;32m   3811\u001B[0m         \u001B[38;5;28;01mraise\u001B[39;00m InvalidIndexError(key)\n\u001B[1;32m-> 3812\u001B[0m     \u001B[38;5;28;01mraise\u001B[39;00m \u001B[38;5;167;01mKeyError\u001B[39;00m(key) \u001B[38;5;28;01mfrom\u001B[39;00m \u001B[38;5;21;01merr\u001B[39;00m\n\u001B[0;32m   3813\u001B[0m \u001B[38;5;28;01mexcept\u001B[39;00m \u001B[38;5;167;01mTypeError\u001B[39;00m:\n\u001B[0;32m   3814\u001B[0m     \u001B[38;5;66;03m# If we have a listlike key, _check_indexing_error will raise\u001B[39;00m\n\u001B[0;32m   3815\u001B[0m     \u001B[38;5;66;03m#  InvalidIndexError. Otherwise we fall through and re-raise\u001B[39;00m\n\u001B[0;32m   3816\u001B[0m     \u001B[38;5;66;03m#  the TypeError.\u001B[39;00m\n\u001B[0;32m   3817\u001B[0m     \u001B[38;5;28mself\u001B[39m\u001B[38;5;241m.\u001B[39m_check_indexing_error(key)\n",
      "\u001B[1;31mKeyError\u001B[0m: 'race'"
     ]
    }
   ],
   "source": [
    "unarmed_victims = unarmed_victims[\"race\"].value_counts()\n",
    "unarmed_victims = pandas.DataFrame(unarmed_victims)\n",
    "unarmed_victims"
   ],
   "metadata": {
    "collapsed": false,
    "ExecuteTime": {
     "end_time": "2024-04-29T20:19:18.665318800Z",
     "start_time": "2024-04-29T20:19:18.595539100Z"
    }
   },
   "id": "61092018c2e3ae58",
   "execution_count": 300
  },
  {
   "cell_type": "code",
   "outputs": [],
   "source": [
    "unarmed_victims.columns = [\"number\"]"
   ],
   "metadata": {
    "collapsed": false,
    "ExecuteTime": {
     "end_time": "2024-04-29T20:22:26.734168200Z",
     "start_time": "2024-04-29T20:22:26.682033900Z"
    }
   },
   "id": "a6a0b630067d8648",
   "execution_count": 302
  },
  {
   "cell_type": "code",
   "outputs": [
    {
     "data": {
      "text/plain": "Index(['White', 'Black', 'Hispanic', 'Unknown', 'Native American', 'Asian',\n       'Other'],\n      dtype='object', name='race')"
     },
     "execution_count": 304,
     "metadata": {},
     "output_type": "execute_result"
    }
   ],
   "source": [
    "unarmed_victims.index"
   ],
   "metadata": {
    "collapsed": false,
    "ExecuteTime": {
     "end_time": "2024-04-29T20:25:44.703689300Z",
     "start_time": "2024-04-29T20:25:44.657605Z"
    }
   },
   "id": "7fc002d34edcdcc5",
   "execution_count": 304
  },
  {
   "cell_type": "code",
   "outputs": [
    {
     "data": {
      "text/plain": "<module 'matplotlib.pyplot' from 'C:\\\\Users\\\\Stefan\\\\Documents\\\\PycharmProjekte\\\\DeathsInvolvongPoliceDataAnalysis\\\\.venv\\\\Lib\\\\site-packages\\\\matplotlib\\\\pyplot.py'>"
     },
     "execution_count": 335,
     "metadata": {},
     "output_type": "execute_result"
    }
   ],
   "source": [],
   "metadata": {
    "collapsed": false,
    "ExecuteTime": {
     "end_time": "2024-04-29T21:15:48.879682400Z",
     "start_time": "2024-04-29T21:15:48.863999600Z"
    }
   },
   "id": "6cbcd213e3163fb",
   "execution_count": 335
  },
  {
   "cell_type": "code",
   "outputs": [
    {
     "ename": "TypeError",
     "evalue": "'str' object is not callable",
     "output_type": "error",
     "traceback": [
      "\u001B[1;31m---------------------------------------------------------------------------\u001B[0m",
      "\u001B[1;31mTypeError\u001B[0m                                 Traceback (most recent call last)",
      "Cell \u001B[1;32mIn[336], line 3\u001B[0m\n\u001B[0;32m      1\u001B[0m plt\u001B[38;5;241m.\u001B[39mpie(unarmed_victims[\u001B[38;5;124m\"\u001B[39m\u001B[38;5;124mnumber\u001B[39m\u001B[38;5;124m\"\u001B[39m], labels\u001B[38;5;241m=\u001B[39munarmed_victims\u001B[38;5;241m.\u001B[39mindex, autopct\u001B[38;5;241m=\u001B[39m\u001B[38;5;124m'\u001B[39m\u001B[38;5;132;01m%1.1f\u001B[39;00m\u001B[38;5;132;01m%%\u001B[39;00m\u001B[38;5;124m'\u001B[39m)\n\u001B[0;32m      2\u001B[0m plt\u001B[38;5;241m.\u001B[39maxis(\u001B[38;5;124m\"\u001B[39m\u001B[38;5;124mequal\u001B[39m\u001B[38;5;124m\"\u001B[39m)\n\u001B[1;32m----> 3\u001B[0m \u001B[43mplt\u001B[49m\u001B[38;5;241;43m.\u001B[39;49m\u001B[43mtitle\u001B[49m\u001B[43m(\u001B[49m\u001B[38;5;124;43m\"\u001B[39;49m\u001B[38;5;124;43mUnarmed\u001B[39;49m\u001B[38;5;124;43m\"\u001B[39;49m\u001B[43m)\u001B[49m\n\u001B[0;32m      4\u001B[0m plt\u001B[38;5;241m.\u001B[39mshow()\n",
      "\u001B[1;31mTypeError\u001B[0m: 'str' object is not callable"
     ]
    },
    {
     "data": {
      "text/plain": "<Figure size 640x480 with 1 Axes>",
      "image/png": "[encoded data removed]"
     },
     "metadata": {},
     "output_type": "display_data"
    }
   ],
   "source": [
    "plt.pie(unarmed_victims[\"number\"], labels=unarmed_victims.index, autopct='%1.1f%%')\n",
    "plt.axis(\"equal\")\n",
    "plt.title(\"Unarmed\")\n",
    "plt.show()"
   ],
   "metadata": {
    "collapsed": false,
    "ExecuteTime": {
     "end_time": "2024-04-29T21:16:16.160389700Z",
     "start_time": "2024-04-29T21:16:15.526662700Z"
    }
   },
   "id": "5b61e2c0deb6cce1",
   "execution_count": 336
  },
  {
   "cell_type": "markdown",
   "source": [
    "Wie hat sich die Anzahl der Morde in den letzten 10 Jahren entwickelt"
   ],
   "metadata": {
    "collapsed": false
   },
   "id": "d35828c7817fea55"
  },
  {
   "cell_type": "code",
   "outputs": [],
   "source": [
    "df_police_shooting[\"date\"] = pandas.to_datetime(df_police_shooting[\"date\"])"
   ],
   "metadata": {
    "collapsed": false,
    "ExecuteTime": {
     "end_time": "2024-04-29T20:28:21.486746700Z",
     "start_time": "2024-04-29T20:28:21.433946100Z"
    }
   },
   "id": "c166e24a8a0c25a6",
   "execution_count": 306
  },
  {
   "cell_type": "code",
   "outputs": [
    {
     "ename": "TypeError",
     "evalue": "'numpy.ndarray' object is not callable",
     "output_type": "error",
     "traceback": [
      "\u001B[1;31m---------------------------------------------------------------------------\u001B[0m",
      "\u001B[1;31mTypeError\u001B[0m                                 Traceback (most recent call last)",
      "Cell \u001B[1;32mIn[318], line 4\u001B[0m\n\u001B[0;32m      2\u001B[0m police_shooting \u001B[38;5;241m=\u001B[39m df_police_shooting[\u001B[38;5;124m\"\u001B[39m\u001B[38;5;124myear\u001B[39m\u001B[38;5;124m\"\u001B[39m]\u001B[38;5;241m.\u001B[39mvalue_counts()\n\u001B[0;32m      3\u001B[0m police_shooting \u001B[38;5;241m=\u001B[39m police_shooting\u001B[38;5;241m.\u001B[39msort_index()\n\u001B[1;32m----> 4\u001B[0m \u001B[43mpolice_shooting\u001B[49m\u001B[38;5;241;43m.\u001B[39;49m\u001B[43mvalues\u001B[49m\u001B[43m(\u001B[49m\u001B[43m)\u001B[49m\n",
      "\u001B[1;31mTypeError\u001B[0m: 'numpy.ndarray' object is not callable"
     ]
    }
   ],
   "source": [
    "df_police_shooting.sort_values(by=\"date\", ascending=True, inplace=True)\n",
    "police_shooting = df_police_shooting[\"year\"].value_counts()\n",
    "police_shooting = police_shooting.sort_index()"
   ],
   "metadata": {
    "collapsed": false,
    "ExecuteTime": {
     "end_time": "2024-04-29T20:41:26.845020900Z",
     "start_time": "2024-04-29T20:41:26.804021500Z"
    }
   },
   "id": "865acea2cd9d3b94",
   "execution_count": 318
  },
  {
   "cell_type": "code",
   "outputs": [],
   "source": [
    "police_shooting = pandas.DataFrame(police_shooting)\n",
    "police_shooting.columns = [\"number_of_shootings\"]\n",
    "police_shooting = police_shooting[:-1]"
   ],
   "metadata": {
    "collapsed": false,
    "ExecuteTime": {
     "end_time": "2024-04-29T20:44:43.382458700Z",
     "start_time": "2024-04-29T20:44:43.365024700Z"
    }
   },
   "id": "4dbd438c35db2b86",
   "execution_count": 328
  },
  {
   "cell_type": "code",
   "outputs": [
    {
     "data": {
      "text/plain": "<Figure size 640x480 with 1 Axes>",
      "image/png": "[encoded data removed]"
     },
     "metadata": {},
     "output_type": "display_data"
    }
   ],
   "source": [
    "sns.set_theme(style=\"whitegrid\")\n",
    "sns.lineplot(data = police_shooting,x=police_shooting.index, y=police_shooting[\"number_of_shootings\"], linewidth=2.5)\n",
    "\n",
    "plt.xlabel(\"Polizeimorde\")\n",
    "plt.ylabel(\"Jahr\")\n",
    "\n",
    "plt.show()"
   ],
   "metadata": {
    "collapsed": false,
    "ExecuteTime": {
     "end_time": "2024-04-29T21:01:29.930629300Z",
     "start_time": "2024-04-29T21:01:29.770836600Z"
    }
   },
   "id": "7ec37c441984fed2",
   "execution_count": 334
  },
  {
   "cell_type": "code",
   "outputs": [],
   "source": [],
   "metadata": {
    "collapsed": false
   },
   "id": "bf8f39a8b7215c20"
  },
  {
   "cell_type": "code",
   "outputs": [
    {
     "name": "stdout",
     "output_type": "stream",
     "text": [
      "<class 'pandas.core.series.Series'>\n",
      "Index: 9570 entries, 0 to 9569\n",
      "Series name: date\n",
      "Non-Null Count  Dtype         \n",
      "--------------  -----         \n",
      "9570 non-null   datetime64[ns]\n",
      "dtypes: datetime64[ns](1)\n",
      "memory usage: 149.5 KB\n"
     ]
    }
   ],
   "source": [
    "df_police_shooting.sort_values(by=\"date\")\n",
    "df_police_shooting[\"date\"].info()"
   ],
   "metadata": {
    "collapsed": false,
    "ExecuteTime": {
     "end_time": "2024-04-29T20:40:29.447430900Z",
     "start_time": "2024-04-29T20:40:29.416329300Z"
    }
   },
   "id": "3d3571df7db9628e",
   "execution_count": 315
  },
  {
   "cell_type": "code",
   "outputs": [],
   "source": [],
   "metadata": {
    "collapsed": false
   },
   "id": "311a8a3e00005b9a"
  },
  {
   "cell_type": "code",
   "outputs": [],
   "source": [
    "anzahl_nach_datum = df_police_shooting[\"year\"].value_counts()\n",
    "anzahl_nach_datum.colums = [\"Anzahl\"]\n",
    "anzahl_nach_datum = pandas.DataFrame(anzahl_nach_datum)"
   ],
   "metadata": {
    "collapsed": false,
    "ExecuteTime": {
     "end_time": "2024-04-29T14:37:54.094085Z",
     "start_time": "2024-04-29T14:37:54.081222Z"
    }
   },
   "id": "f7225fa93c65dc4d",
   "execution_count": 107
  },
  {
   "cell_type": "code",
   "outputs": [],
   "source": [
    "anzahl_nach_datum.columns = [\"number_of_victims\"]"
   ],
   "metadata": {
    "collapsed": false,
    "ExecuteTime": {
     "end_time": "2024-04-29T14:43:55.962921400Z",
     "start_time": "2024-04-29T14:43:55.931958Z"
    }
   },
   "id": "7b493eaa375ac052",
   "execution_count": 112
  },
  {
   "cell_type": "code",
   "outputs": [],
   "source": [
    "anzahl_nach_datum = anzahl_nach_datum.sort_index(ascending=True)[:-1]"
   ],
   "metadata": {
    "collapsed": false,
    "ExecuteTime": {
     "end_time": "2024-04-29T15:00:33.100904800Z",
     "start_time": "2024-04-29T15:00:33.054832500Z"
    }
   },
   "id": "aa9d1445778b2d76",
   "execution_count": 130
  },
  {
   "cell_type": "code",
   "outputs": [],
   "source": [
    "sns.set_theme(style=\"whitegrid\")"
   ],
   "metadata": {
    "collapsed": false,
    "ExecuteTime": {
     "end_time": "2024-04-29T14:38:46.077698600Z",
     "start_time": "2024-04-29T14:38:46.064111200Z"
    }
   },
   "id": "d09ae33ecf2b71c",
   "execution_count": 110
  },
  {
   "cell_type": "code",
   "outputs": [
    {
     "data": {
      "text/plain": "<Figure size 640x480 with 1 Axes>",
      "image/png": "[encoded data removed]"
     },
     "metadata": {},
     "output_type": "display_data"
    }
   ],
   "source": [
    "sns.lineplot(data=anzahl_nach_datum, x=anzahl_nach_datum.index, y=anzahl_nach_datum[\"number_of_victims\"], linewidth=2, estimator=\"mean\")\n",
    "plt.xlabel(\"Jahr\")\n",
    "plt.ylabel(\"Anzahl der Opfer\")\n",
    "plt.title=(\"Anzahl der Opfer seit 2015\")"
   ],
   "metadata": {
    "collapsed": false,
    "ExecuteTime": {
     "end_time": "2024-04-29T15:03:52.720896800Z",
     "start_time": "2024-04-29T15:03:52.515116400Z"
    }
   },
   "id": "56a8dd10da5fa461",
   "execution_count": 135
  },
  {
   "cell_type": "code",
   "outputs": [
    {
     "data": {
      "text/plain": "           date                name   age gender         armed      race  \\\n0    2015-01-02    Lewis Lee Lembke  47.0   male           gun     White   \n1    2015-01-02          Tim Elliot  53.0   male           gun     Asian   \n2    2015-01-03  John Paul Quintero  23.0   male       unarmed  Hispanic   \n3    2015-01-04   Kenneth Joe Brown  18.0   male           gun     White   \n4    2015-01-04   Michael Rodriguez  39.0   male         other  Hispanic   \n...         ...                 ...   ...    ...           ...       ...   \n9565 2024-04-17                 NaN   NaN   male           gun   Unknown   \n9566 2024-04-17                 NaN   NaN   male           gun   Unknown   \n9567 2024-04-18       Jared Billard   NaN   male  undetermined   Unknown   \n9568 2024-04-18       Derrick Smith  34.0   male  blunt_object     Black   \n9569 2024-04-18        Steven Scott  39.0   male           gun   Unknown   \n\n             city state flee  body_camera  signs_of_mental_illness  \\\n0           Aloha    OR  not        False                    False   \n1         Shelton    WA  not        False                     True   \n2         Wichita    KS  not        False                    False   \n3         Guthrie    OK  not        False                    False   \n4           Evans    CO  not        False                    False   \n...           ...   ...  ...          ...                      ...   \n9565       Pueblo    CO  not        False                    False   \n9566  Cabin Creek    WV  not        False                    False   \n9567   Colchester    CT  NaN        False                    False   \n9568       Lorain    OH  not        False                    False   \n9569     Norcross    GA  car        False                    False   \n\n                 police_departments_involved  year  \n0     Washington County Sheriff's Office, OR  2015  \n1          Mason County Sheriff's Office, WA  2015  \n2              Wichita Police Department, KS  2015  \n3                Oklahoma Highway Patrol, OK  2015  \n4                Evans Police Department, CO  2015  \n...                                      ...   ...  \n9565            Pueblo Police Department, CO  2024  \n9566     Kanawha County Sheriff's Office, WV  2024  \n9567        Colchester Police Department, CT  2024  \n9568               U.S. Marshals Service, OH  2024  \n9569   Gwinnett County Police Department, GA  2024  \n\n[9570 rows x 13 columns]",
      "text/html": "<div>\n<style scoped>\n    .dataframe tbody tr th:only-of-type {\n        vertical-align: middle;\n    }\n\n    .dataframe tbody tr th {\n        vertical-align: top;\n    }\n\n    .dataframe thead th {\n        text-align: right;\n    }\n</style>\n<table border=\"1\" class=\"dataframe\">\n  <thead>\n    <tr style=\"text-align: right;\">\n      <th></th>\n      <th>date</th>\n      <th>name</th>\n      <th>age</th>\n      <th>gender</th>\n      <th>armed</th>\n      <th>race</th>\n      <th>city</th>\n      <th>state</th>\n      <th>flee</th>\n      <th>body_camera</th>\n      <th>signs_of_mental_illness</th>\n      <th>police_departments_involved</th>\n      <th>year</th>\n    </tr>\n  </thead>\n  <tbody>\n    <tr>\n      <th>0</th>\n      <td>2015-01-02</td>\n      <td>Lewis Lee Lembke</td>\n      <td>47.0</td>\n      <td>male</td>\n      <td>gun</td>\n      <td>White</td>\n      <td>Aloha</td>\n      <td>OR</td>\n      <td>not</td>\n      <td>False</td>\n      <td>False</td>\n      <td>Washington County Sheriff's Office, OR</td>\n      <td>2015</td>\n    </tr>\n    <tr>\n      <th>1</th>\n      <td>2015-01-02</td>\n      <td>Tim Elliot</td>\n      <td>53.0</td>\n      <td>male</td>\n      <td>gun</td>\n      <td>Asian</td>\n      <td>Shelton</td>\n      <td>WA</td>\n      <td>not</td>\n      <td>False</td>\n      <td>True</td>\n      <td>Mason County Sheriff's Office, WA</td>\n      <td>2015</td>\n    </tr>\n    <tr>\n      <th>2</th>\n      <td>2015-01-03</td>\n      <td>John Paul Quintero</td>\n      <td>23.0</td>\n      <td>male</td>\n      <td>unarmed</td>\n      <td>Hispanic</td>\n      <td>Wichita</td>\n      <td>KS</td>\n      <td>not</td>\n      <td>False</td>\n      <td>False</td>\n      <td>Wichita Police Department, KS</td>\n      <td>2015</td>\n    </tr>\n    <tr>\n      <th>3</th>\n      <td>2015-01-04</td>\n      <td>Kenneth Joe Brown</td>\n      <td>18.0</td>\n      <td>male</td>\n      <td>gun</td>\n      <td>White</td>\n      <td>Guthrie</td>\n      <td>OK</td>\n      <td>not</td>\n      <td>False</td>\n      <td>False</td>\n      <td>Oklahoma Highway Patrol, OK</td>\n      <td>2015</td>\n    </tr>\n    <tr>\n      <th>4</th>\n      <td>2015-01-04</td>\n      <td>Michael Rodriguez</td>\n      <td>39.0</td>\n      <td>male</td>\n      <td>other</td>\n      <td>Hispanic</td>\n      <td>Evans</td>\n      <td>CO</td>\n      <td>not</td>\n      <td>False</td>\n      <td>False</td>\n      <td>Evans Police Department, CO</td>\n      <td>2015</td>\n    </tr>\n    <tr>\n      <th>...</th>\n      <td>...</td>\n      <td>...</td>\n      <td>...</td>\n      <td>...</td>\n      <td>...</td>\n      <td>...</td>\n      <td>...</td>\n      <td>...</td>\n      <td>...</td>\n      <td>...</td>\n      <td>...</td>\n      <td>...</td>\n      <td>...</td>\n    </tr>\n    <tr>\n      <th>9565</th>\n      <td>2024-04-17</td>\n      <td>NaN</td>\n      <td>NaN</td>\n      <td>male</td>\n      <td>gun</td>\n      <td>Unknown</td>\n      <td>Pueblo</td>\n      <td>CO</td>\n      <td>not</td>\n      <td>False</td>\n      <td>False</td>\n      <td>Pueblo Police Department, CO</td>\n      <td>2024</td>\n    </tr>\n    <tr>\n      <th>9566</th>\n      <td>2024-04-17</td>\n      <td>NaN</td>\n      <td>NaN</td>\n      <td>male</td>\n      <td>gun</td>\n      <td>Unknown</td>\n      <td>Cabin Creek</td>\n      <td>WV</td>\n      <td>not</td>\n      <td>False</td>\n      <td>False</td>\n      <td>Kanawha County Sheriff's Office, WV</td>\n      <td>2024</td>\n    </tr>\n    <tr>\n      <th>9567</th>\n      <td>2024-04-18</td>\n      <td>Jared Billard</td>\n      <td>NaN</td>\n      <td>male</td>\n      <td>undetermined</td>\n      <td>Unknown</td>\n      <td>Colchester</td>\n      <td>CT</td>\n      <td>NaN</td>\n      <td>False</td>\n      <td>False</td>\n      <td>Colchester Police Department, CT</td>\n      <td>2024</td>\n    </tr>\n    <tr>\n      <th>9568</th>\n      <td>2024-04-18</td>\n      <td>Derrick Smith</td>\n      <td>34.0</td>\n      <td>male</td>\n      <td>blunt_object</td>\n      <td>Black</td>\n      <td>Lorain</td>\n      <td>OH</td>\n      <td>not</td>\n      <td>False</td>\n      <td>False</td>\n      <td>U.S. Marshals Service, OH</td>\n      <td>2024</td>\n    </tr>\n    <tr>\n      <th>9569</th>\n      <td>2024-04-18</td>\n      <td>Steven Scott</td>\n      <td>39.0</td>\n      <td>male</td>\n      <td>gun</td>\n      <td>Unknown</td>\n      <td>Norcross</td>\n      <td>GA</td>\n      <td>car</td>\n      <td>False</td>\n      <td>False</td>\n      <td>Gwinnett County Police Department, GA</td>\n      <td>2024</td>\n    </tr>\n  </tbody>\n</table>\n<p>9570 rows × 13 columns</p>\n</div>"
     },
     "execution_count": 106,
     "metadata": {},
     "output_type": "execute_result"
    }
   ],
   "source": [
    "df_police_shooting[\"year\"] = df_police_shooting[\"date\"].dt.year\n",
    "df_police_shooting"
   ],
   "metadata": {
    "collapsed": false,
    "ExecuteTime": {
     "end_time": "2024-04-29T14:37:13.474720Z",
     "start_time": "2024-04-29T14:37:13.461497Z"
    }
   },
   "id": "f87637036938a46d",
   "execution_count": 106
  },
  {
   "cell_type": "markdown",
   "source": [
    "Gab es nach der Black Lives Matter Bewegung weniger Morde an Schwarzen"
   ],
   "metadata": {
    "collapsed": false
   },
   "id": "31e2191604be2427"
  },
  {
   "cell_type": "code",
   "outputs": [],
   "source": [
    "black_victims = df_police_shooting[df_police_shooting[\"race\"] == \"Black\"]\n",
    "black_victims = black_victims[\"year\"].value_counts()"
   ],
   "metadata": {
    "collapsed": false,
    "ExecuteTime": {
     "end_time": "2024-04-29T15:06:35.294521100Z",
     "start_time": "2024-04-29T15:06:35.282388200Z"
    }
   },
   "id": "cf51a08890834aa7",
   "execution_count": 139
  },
  {
   "cell_type": "code",
   "outputs": [],
   "source": [
    "black_victims = pandas.DataFrame(black_victims)"
   ],
   "metadata": {
    "collapsed": false,
    "ExecuteTime": {
     "end_time": "2024-04-29T15:07:41.575040900Z",
     "start_time": "2024-04-29T15:07:41.558929Z"
    }
   },
   "id": "ef096758cc451283",
   "execution_count": 144
  },
  {
   "cell_type": "code",
   "outputs": [],
   "source": [
    "black_victims.columns = [\"number_of_black_victims\"]\n",
    "black_victims = black_victims.sort_index()\n",
    "black_victims = black_victims[:-1]"
   ],
   "metadata": {
    "collapsed": false,
    "ExecuteTime": {
     "end_time": "2024-04-29T17:42:34.755741700Z",
     "start_time": "2024-04-29T17:42:34.735641600Z"
    }
   },
   "id": "acc39c18e67e9849",
   "execution_count": 240
  },
  {
   "cell_type": "code",
   "outputs": [
    {
     "data": {
      "text/plain": "<Axes: xlabel='year', ylabel='number_of_black_victims'>"
     },
     "execution_count": 242,
     "metadata": {},
     "output_type": "execute_result"
    },
    {
     "data": {
      "text/plain": "<Figure size 640x480 with 1 Axes>",
      "image/png": "[encoded data removed]"
     },
     "metadata": {},
     "output_type": "display_data"
    }
   ],
   "source": [
    "sns.set_theme(style=\"whitegrid\")\n",
    "sns.lineplot(data=black_victims, x = black_victims.index, y = black_victims[\"number_of_black_victims\"])"
   ],
   "metadata": {
    "collapsed": false,
    "ExecuteTime": {
     "end_time": "2024-04-29T17:42:47.000487900Z",
     "start_time": "2024-04-29T17:42:46.833747600Z"
    }
   },
   "id": "f6cae1e2e3247d63",
   "execution_count": 242
  },
  {
   "cell_type": "code",
   "outputs": [
    {
     "name": "stdout",
     "output_type": "stream",
     "text": [
      "<class 'pandas.core.frame.DataFrame'>\n",
      "Index: 4300 entries, 0 to 9559\n",
      "Data columns (total 12 columns):\n",
      " #   Column                       Non-Null Count  Dtype  \n",
      "---  ------                       --------------  -----  \n",
      " 0   date                         4300 non-null   object \n",
      " 1   name                         4271 non-null   object \n",
      " 2   age                          4242 non-null   float64\n",
      " 3   gender                       4296 non-null   object \n",
      " 4   armed                        4199 non-null   object \n",
      " 5   race                         4300 non-null   object \n",
      " 6   city                         4263 non-null   object \n",
      " 7   state                        4300 non-null   object \n",
      " 8   flee                         3740 non-null   object \n",
      " 9   body_camera                  4300 non-null   bool   \n",
      " 10  signs_of_mental_illness      4300 non-null   bool   \n",
      " 11  police_departments_involved  4300 non-null   object \n",
      "dtypes: bool(2), float64(1), object(9)\n",
      "memory usage: 377.9+ KB\n"
     ]
    }
   ],
   "source": [
    "df_white_victims.info()"
   ],
   "metadata": {
    "collapsed": false,
    "ExecuteTime": {
     "end_time": "2024-04-29T15:21:04.445873700Z",
     "start_time": "2024-04-29T15:21:04.411629500Z"
    }
   },
   "id": "c9528a36761f264f",
   "execution_count": 159
  },
  {
   "cell_type": "code",
   "outputs": [
    {
     "ename": "AttributeError",
     "evalue": "'DataFrame' object has no attribute 'type'",
     "output_type": "error",
     "traceback": [
      "\u001B[1;31m---------------------------------------------------------------------------\u001B[0m",
      "\u001B[1;31mAttributeError\u001B[0m                            Traceback (most recent call last)",
      "\u001B[1;32m~\\AppData\\Local\\Temp\\ipykernel_17048\\4218695700.py\u001B[0m in \u001B[0;36m?\u001B[1;34m()\u001B[0m\n\u001B[1;32m----> 1\u001B[1;33m \u001B[0mdf_police_shooting\u001B[0m\u001B[1;33m.\u001B[0m\u001B[0mtype\u001B[0m\u001B[1;33m(\u001B[0m\u001B[1;33m)\u001B[0m\u001B[1;33m\u001B[0m\u001B[1;33m\u001B[0m\u001B[0m\n\u001B[0m",
      "\u001B[1;32m~\\Documents\\PycharmProjekte\\DeathsInvolvongPoliceDataAnalysis\\.venv\\Lib\\site-packages\\pandas\\core\\generic.py\u001B[0m in \u001B[0;36m?\u001B[1;34m(self, name)\u001B[0m\n\u001B[0;32m   6295\u001B[0m             \u001B[1;32mand\u001B[0m \u001B[0mname\u001B[0m \u001B[1;32mnot\u001B[0m \u001B[1;32min\u001B[0m \u001B[0mself\u001B[0m\u001B[1;33m.\u001B[0m\u001B[0m_accessors\u001B[0m\u001B[1;33m\u001B[0m\u001B[1;33m\u001B[0m\u001B[0m\n\u001B[0;32m   6296\u001B[0m             \u001B[1;32mand\u001B[0m \u001B[0mself\u001B[0m\u001B[1;33m.\u001B[0m\u001B[0m_info_axis\u001B[0m\u001B[1;33m.\u001B[0m\u001B[0m_can_hold_identifiers_and_holds_name\u001B[0m\u001B[1;33m(\u001B[0m\u001B[0mname\u001B[0m\u001B[1;33m)\u001B[0m\u001B[1;33m\u001B[0m\u001B[1;33m\u001B[0m\u001B[0m\n\u001B[0;32m   6297\u001B[0m         \u001B[1;33m)\u001B[0m\u001B[1;33m:\u001B[0m\u001B[1;33m\u001B[0m\u001B[1;33m\u001B[0m\u001B[0m\n\u001B[0;32m   6298\u001B[0m             \u001B[1;32mreturn\u001B[0m \u001B[0mself\u001B[0m\u001B[1;33m[\u001B[0m\u001B[0mname\u001B[0m\u001B[1;33m]\u001B[0m\u001B[1;33m\u001B[0m\u001B[1;33m\u001B[0m\u001B[0m\n\u001B[1;32m-> 6299\u001B[1;33m         \u001B[1;32mreturn\u001B[0m \u001B[0mobject\u001B[0m\u001B[1;33m.\u001B[0m\u001B[0m__getattribute__\u001B[0m\u001B[1;33m(\u001B[0m\u001B[0mself\u001B[0m\u001B[1;33m,\u001B[0m \u001B[0mname\u001B[0m\u001B[1;33m)\u001B[0m\u001B[1;33m\u001B[0m\u001B[1;33m\u001B[0m\u001B[0m\n\u001B[0m",
      "\u001B[1;31mAttributeError\u001B[0m: 'DataFrame' object has no attribute 'type'"
     ]
    }
   ],
   "source": [],
   "metadata": {
    "collapsed": false,
    "ExecuteTime": {
     "end_time": "2024-04-29T15:34:33.600125Z",
     "start_time": "2024-04-29T15:34:33.588260800Z"
    }
   },
   "id": "2350615e9d3795fa",
   "execution_count": 170
  },
  {
   "cell_type": "code",
   "outputs": [],
   "source": [
    "white_victims = df_police_shooting[df_police_shooting[\"race\"] == \"White\"]"
   ],
   "metadata": {
    "collapsed": false,
    "ExecuteTime": {
     "end_time": "2024-04-29T17:21:18.715618200Z",
     "start_time": "2024-04-29T17:21:18.703127900Z"
    }
   },
   "id": "d7a470d72f136a10",
   "execution_count": 215
  },
  {
   "cell_type": "code",
   "outputs": [
    {
     "ename": "KeyError",
     "evalue": "'year'",
     "output_type": "error",
     "traceback": [
      "\u001B[1;31m---------------------------------------------------------------------------\u001B[0m",
      "\u001B[1;31mKeyError\u001B[0m                                  Traceback (most recent call last)",
      "File \u001B[1;32m~\\Documents\\PycharmProjekte\\DeathsInvolvongPoliceDataAnalysis\\.venv\\Lib\\site-packages\\pandas\\core\\indexes\\base.py:3805\u001B[0m, in \u001B[0;36mIndex.get_loc\u001B[1;34m(self, key)\u001B[0m\n\u001B[0;32m   3804\u001B[0m \u001B[38;5;28;01mtry\u001B[39;00m:\n\u001B[1;32m-> 3805\u001B[0m     \u001B[38;5;28;01mreturn\u001B[39;00m \u001B[38;5;28;43mself\u001B[39;49m\u001B[38;5;241;43m.\u001B[39;49m\u001B[43m_engine\u001B[49m\u001B[38;5;241;43m.\u001B[39;49m\u001B[43mget_loc\u001B[49m\u001B[43m(\u001B[49m\u001B[43mcasted_key\u001B[49m\u001B[43m)\u001B[49m\n\u001B[0;32m   3806\u001B[0m \u001B[38;5;28;01mexcept\u001B[39;00m \u001B[38;5;167;01mKeyError\u001B[39;00m \u001B[38;5;28;01mas\u001B[39;00m err:\n",
      "File \u001B[1;32mindex.pyx:167\u001B[0m, in \u001B[0;36mpandas._libs.index.IndexEngine.get_loc\u001B[1;34m()\u001B[0m\n",
      "File \u001B[1;32mindex.pyx:175\u001B[0m, in \u001B[0;36mpandas._libs.index.IndexEngine.get_loc\u001B[1;34m()\u001B[0m\n",
      "File \u001B[1;32mpandas\\\\_libs\\\\index_class_helper.pxi:100\u001B[0m, in \u001B[0;36mpandas._libs.index.Int32Engine._check_type\u001B[1;34m()\u001B[0m\n",
      "\u001B[1;31mKeyError\u001B[0m: 'year'",
      "\nThe above exception was the direct cause of the following exception:\n",
      "\u001B[1;31mKeyError\u001B[0m                                  Traceback (most recent call last)",
      "Cell \u001B[1;32mIn[222], line 1\u001B[0m\n\u001B[1;32m----> 1\u001B[0m white_victims \u001B[38;5;241m=\u001B[39m \u001B[43mwhite_victims\u001B[49m\u001B[43m[\u001B[49m\u001B[38;5;124;43m\"\u001B[39;49m\u001B[38;5;124;43myear\u001B[39;49m\u001B[38;5;124;43m\"\u001B[39;49m\u001B[43m]\u001B[49m\u001B[38;5;241m.\u001B[39mvalue_counts()\n\u001B[0;32m      2\u001B[0m white_victims\n",
      "File \u001B[1;32m~\\Documents\\PycharmProjekte\\DeathsInvolvongPoliceDataAnalysis\\.venv\\Lib\\site-packages\\pandas\\core\\series.py:1121\u001B[0m, in \u001B[0;36mSeries.__getitem__\u001B[1;34m(self, key)\u001B[0m\n\u001B[0;32m   1118\u001B[0m     \u001B[38;5;28;01mreturn\u001B[39;00m \u001B[38;5;28mself\u001B[39m\u001B[38;5;241m.\u001B[39m_values[key]\n\u001B[0;32m   1120\u001B[0m \u001B[38;5;28;01melif\u001B[39;00m key_is_scalar:\n\u001B[1;32m-> 1121\u001B[0m     \u001B[38;5;28;01mreturn\u001B[39;00m \u001B[38;5;28;43mself\u001B[39;49m\u001B[38;5;241;43m.\u001B[39;49m\u001B[43m_get_value\u001B[49m\u001B[43m(\u001B[49m\u001B[43mkey\u001B[49m\u001B[43m)\u001B[49m\n\u001B[0;32m   1123\u001B[0m \u001B[38;5;66;03m# Convert generator to list before going through hashable part\u001B[39;00m\n\u001B[0;32m   1124\u001B[0m \u001B[38;5;66;03m# (We will iterate through the generator there to check for slices)\u001B[39;00m\n\u001B[0;32m   1125\u001B[0m \u001B[38;5;28;01mif\u001B[39;00m is_iterator(key):\n",
      "File \u001B[1;32m~\\Documents\\PycharmProjekte\\DeathsInvolvongPoliceDataAnalysis\\.venv\\Lib\\site-packages\\pandas\\core\\series.py:1237\u001B[0m, in \u001B[0;36mSeries._get_value\u001B[1;34m(self, label, takeable)\u001B[0m\n\u001B[0;32m   1234\u001B[0m     \u001B[38;5;28;01mreturn\u001B[39;00m \u001B[38;5;28mself\u001B[39m\u001B[38;5;241m.\u001B[39m_values[label]\n\u001B[0;32m   1236\u001B[0m \u001B[38;5;66;03m# Similar to Index.get_value, but we do not fall back to positional\u001B[39;00m\n\u001B[1;32m-> 1237\u001B[0m loc \u001B[38;5;241m=\u001B[39m \u001B[38;5;28;43mself\u001B[39;49m\u001B[38;5;241;43m.\u001B[39;49m\u001B[43mindex\u001B[49m\u001B[38;5;241;43m.\u001B[39;49m\u001B[43mget_loc\u001B[49m\u001B[43m(\u001B[49m\u001B[43mlabel\u001B[49m\u001B[43m)\u001B[49m\n\u001B[0;32m   1239\u001B[0m \u001B[38;5;28;01mif\u001B[39;00m is_integer(loc):\n\u001B[0;32m   1240\u001B[0m     \u001B[38;5;28;01mreturn\u001B[39;00m \u001B[38;5;28mself\u001B[39m\u001B[38;5;241m.\u001B[39m_values[loc]\n",
      "File \u001B[1;32m~\\Documents\\PycharmProjekte\\DeathsInvolvongPoliceDataAnalysis\\.venv\\Lib\\site-packages\\pandas\\core\\indexes\\base.py:3812\u001B[0m, in \u001B[0;36mIndex.get_loc\u001B[1;34m(self, key)\u001B[0m\n\u001B[0;32m   3807\u001B[0m     \u001B[38;5;28;01mif\u001B[39;00m \u001B[38;5;28misinstance\u001B[39m(casted_key, \u001B[38;5;28mslice\u001B[39m) \u001B[38;5;129;01mor\u001B[39;00m (\n\u001B[0;32m   3808\u001B[0m         \u001B[38;5;28misinstance\u001B[39m(casted_key, abc\u001B[38;5;241m.\u001B[39mIterable)\n\u001B[0;32m   3809\u001B[0m         \u001B[38;5;129;01mand\u001B[39;00m \u001B[38;5;28many\u001B[39m(\u001B[38;5;28misinstance\u001B[39m(x, \u001B[38;5;28mslice\u001B[39m) \u001B[38;5;28;01mfor\u001B[39;00m x \u001B[38;5;129;01min\u001B[39;00m casted_key)\n\u001B[0;32m   3810\u001B[0m     ):\n\u001B[0;32m   3811\u001B[0m         \u001B[38;5;28;01mraise\u001B[39;00m InvalidIndexError(key)\n\u001B[1;32m-> 3812\u001B[0m     \u001B[38;5;28;01mraise\u001B[39;00m \u001B[38;5;167;01mKeyError\u001B[39;00m(key) \u001B[38;5;28;01mfrom\u001B[39;00m \u001B[38;5;21;01merr\u001B[39;00m\n\u001B[0;32m   3813\u001B[0m \u001B[38;5;28;01mexcept\u001B[39;00m \u001B[38;5;167;01mTypeError\u001B[39;00m:\n\u001B[0;32m   3814\u001B[0m     \u001B[38;5;66;03m# If we have a listlike key, _check_indexing_error will raise\u001B[39;00m\n\u001B[0;32m   3815\u001B[0m     \u001B[38;5;66;03m#  InvalidIndexError. Otherwise we fall through and re-raise\u001B[39;00m\n\u001B[0;32m   3816\u001B[0m     \u001B[38;5;66;03m#  the TypeError.\u001B[39;00m\n\u001B[0;32m   3817\u001B[0m     \u001B[38;5;28mself\u001B[39m\u001B[38;5;241m.\u001B[39m_check_indexing_error(key)\n",
      "\u001B[1;31mKeyError\u001B[0m: 'year'"
     ]
    }
   ],
   "source": [
    "white_victims = white_victims[\"year\"].value_counts()\n",
    "white_victims"
   ],
   "metadata": {
    "collapsed": false,
    "ExecuteTime": {
     "end_time": "2024-04-29T17:24:45.340573400Z",
     "start_time": "2024-04-29T17:24:45.275777900Z"
    }
   },
   "id": "e45766c496fb9635",
   "execution_count": 222
  },
  {
   "cell_type": "code",
   "outputs": [
    {
     "data": {
      "text/plain": "year\n2015    505\n2021    482\n2018    474\n2016    471\n2020    465\n2017    463\n2022    457\n2023    448\n2019    432\n2024    103\nName: count, dtype: int64"
     },
     "execution_count": 224,
     "metadata": {},
     "output_type": "execute_result"
    }
   ],
   "source": [
    "white_victims"
   ],
   "metadata": {
    "collapsed": false,
    "ExecuteTime": {
     "end_time": "2024-04-29T17:26:49.256714800Z",
     "start_time": "2024-04-29T17:26:49.242176600Z"
    }
   },
   "id": "6c8bb442248ed186",
   "execution_count": 224
  },
  {
   "cell_type": "code",
   "outputs": [],
   "source": [
    "df_white_victims = pandas.DataFrame(white_victims)"
   ],
   "metadata": {
    "collapsed": false,
    "ExecuteTime": {
     "end_time": "2024-04-29T17:30:36.192009800Z",
     "start_time": "2024-04-29T17:30:36.172609300Z"
    }
   },
   "id": "6267c5ed4c20eac4",
   "execution_count": 227
  },
  {
   "cell_type": "code",
   "outputs": [],
   "source": [
    "df_white_victims.columns = [\"number_of_victims\"]"
   ],
   "metadata": {
    "collapsed": false,
    "ExecuteTime": {
     "end_time": "2024-04-29T17:33:04.660490700Z",
     "start_time": "2024-04-29T17:33:04.638542500Z"
    }
   },
   "id": "8285f985810b3357",
   "execution_count": 229
  },
  {
   "cell_type": "code",
   "outputs": [
    {
     "data": {
      "text/plain": "      count\nyear       \n2015    505\n2021    482\n2018    474\n2016    471\n2020    465\n2017    463\n2022    457\n2023    448\n2019    432\n2024    103",
      "text/html": "<div>\n<style scoped>\n    .dataframe tbody tr th:only-of-type {\n        vertical-align: middle;\n    }\n\n    .dataframe tbody tr th {\n        vertical-align: top;\n    }\n\n    .dataframe thead th {\n        text-align: right;\n    }\n</style>\n<table border=\"1\" class=\"dataframe\">\n  <thead>\n    <tr style=\"text-align: right;\">\n      <th></th>\n      <th>count</th>\n    </tr>\n    <tr>\n      <th>year</th>\n      <th></th>\n    </tr>\n  </thead>\n  <tbody>\n    <tr>\n      <th>2015</th>\n      <td>505</td>\n    </tr>\n    <tr>\n      <th>2021</th>\n      <td>482</td>\n    </tr>\n    <tr>\n      <th>2018</th>\n      <td>474</td>\n    </tr>\n    <tr>\n      <th>2016</th>\n      <td>471</td>\n    </tr>\n    <tr>\n      <th>2020</th>\n      <td>465</td>\n    </tr>\n    <tr>\n      <th>2017</th>\n      <td>463</td>\n    </tr>\n    <tr>\n      <th>2022</th>\n      <td>457</td>\n    </tr>\n    <tr>\n      <th>2023</th>\n      <td>448</td>\n    </tr>\n    <tr>\n      <th>2019</th>\n      <td>432</td>\n    </tr>\n    <tr>\n      <th>2024</th>\n      <td>103</td>\n    </tr>\n  </tbody>\n</table>\n</div>"
     },
     "execution_count": 230,
     "metadata": {},
     "output_type": "execute_result"
    }
   ],
   "source": [
    "white_victims = pandas.DataFrame(white_victims)\n",
    "white_victims"
   ],
   "metadata": {
    "collapsed": false,
    "ExecuteTime": {
     "end_time": "2024-04-29T17:33:13.803988200Z",
     "start_time": "2024-04-29T17:33:13.742339400Z"
    }
   },
   "id": "1af8b12daacfe8c3",
   "execution_count": 230
  },
  {
   "cell_type": "code",
   "outputs": [],
   "source": [
    "white_victims.columns = [\"number_of_white_victims\"]"
   ],
   "metadata": {
    "collapsed": false,
    "ExecuteTime": {
     "end_time": "2024-04-29T17:42:17.599212200Z",
     "start_time": "2024-04-29T17:42:17.575041200Z"
    }
   },
   "id": "c5e5bf87bd186601",
   "execution_count": 237
  },
  {
   "cell_type": "code",
   "outputs": [],
   "source": [
    "white_victims = white_victims.sort_index()\n"
   ],
   "metadata": {
    "collapsed": false,
    "ExecuteTime": {
     "end_time": "2024-04-29T17:42:19.336251200Z",
     "start_time": "2024-04-29T17:42:19.306070100Z"
    }
   },
   "id": "77f78891215c7b22",
   "execution_count": 238
  },
  {
   "cell_type": "code",
   "outputs": [
    {
     "data": {
      "text/plain": "      number_of_white_victims\nyear                         \n2015                      505\n2016                      471\n2017                      463\n2018                      474\n2019                      432\n2020                      465\n2021                      482\n2022                      457\n2023                      448\n2024                      103",
      "text/html": "<div>\n<style scoped>\n    .dataframe tbody tr th:only-of-type {\n        vertical-align: middle;\n    }\n\n    .dataframe tbody tr th {\n        vertical-align: top;\n    }\n\n    .dataframe thead th {\n        text-align: right;\n    }\n</style>\n<table border=\"1\" class=\"dataframe\">\n  <thead>\n    <tr style=\"text-align: right;\">\n      <th></th>\n      <th>number_of_white_victims</th>\n    </tr>\n    <tr>\n      <th>year</th>\n      <th></th>\n    </tr>\n  </thead>\n  <tbody>\n    <tr>\n      <th>2015</th>\n      <td>505</td>\n    </tr>\n    <tr>\n      <th>2016</th>\n      <td>471</td>\n    </tr>\n    <tr>\n      <th>2017</th>\n      <td>463</td>\n    </tr>\n    <tr>\n      <th>2018</th>\n      <td>474</td>\n    </tr>\n    <tr>\n      <th>2019</th>\n      <td>432</td>\n    </tr>\n    <tr>\n      <th>2020</th>\n      <td>465</td>\n    </tr>\n    <tr>\n      <th>2021</th>\n      <td>482</td>\n    </tr>\n    <tr>\n      <th>2022</th>\n      <td>457</td>\n    </tr>\n    <tr>\n      <th>2023</th>\n      <td>448</td>\n    </tr>\n    <tr>\n      <th>2024</th>\n      <td>103</td>\n    </tr>\n  </tbody>\n</table>\n</div>"
     },
     "execution_count": 239,
     "metadata": {},
     "output_type": "execute_result"
    }
   ],
   "source": [
    "white_victims"
   ],
   "metadata": {
    "collapsed": false,
    "ExecuteTime": {
     "end_time": "2024-04-29T17:42:21.866292600Z",
     "start_time": "2024-04-29T17:42:21.852183500Z"
    }
   },
   "id": "c115ef6d67cf530a",
   "execution_count": 239
  },
  {
   "cell_type": "code",
   "outputs": [
    {
     "data": {
      "text/plain": "      number_of_white_victims  number_of_black_victims\nyear                                                  \n2015                      505                      258\n2016                      471                      239\n2017                      463                      225\n2018                      474                      232\n2019                      432                      254\n2020                      465                      247\n2021                      482                      252\n2022                      457                      252",
      "text/html": "<div>\n<style scoped>\n    .dataframe tbody tr th:only-of-type {\n        vertical-align: middle;\n    }\n\n    .dataframe tbody tr th {\n        vertical-align: top;\n    }\n\n    .dataframe thead th {\n        text-align: right;\n    }\n</style>\n<table border=\"1\" class=\"dataframe\">\n  <thead>\n    <tr style=\"text-align: right;\">\n      <th></th>\n      <th>number_of_white_victims</th>\n      <th>number_of_black_victims</th>\n    </tr>\n    <tr>\n      <th>year</th>\n      <th></th>\n      <th></th>\n    </tr>\n  </thead>\n  <tbody>\n    <tr>\n      <th>2015</th>\n      <td>505</td>\n      <td>258</td>\n    </tr>\n    <tr>\n      <th>2016</th>\n      <td>471</td>\n      <td>239</td>\n    </tr>\n    <tr>\n      <th>2017</th>\n      <td>463</td>\n      <td>225</td>\n    </tr>\n    <tr>\n      <th>2018</th>\n      <td>474</td>\n      <td>232</td>\n    </tr>\n    <tr>\n      <th>2019</th>\n      <td>432</td>\n      <td>254</td>\n    </tr>\n    <tr>\n      <th>2020</th>\n      <td>465</td>\n      <td>247</td>\n    </tr>\n    <tr>\n      <th>2021</th>\n      <td>482</td>\n      <td>252</td>\n    </tr>\n    <tr>\n      <th>2022</th>\n      <td>457</td>\n      <td>252</td>\n    </tr>\n  </tbody>\n</table>\n</div>"
     },
     "execution_count": 243,
     "metadata": {},
     "output_type": "execute_result"
    }
   ],
   "source": [
    "victims_black_and_white = pandas.merge(white_victims, black_victims, on=\"year\")\n",
    "\n",
    "victims_black_and_white"
   ],
   "metadata": {
    "collapsed": false,
    "ExecuteTime": {
     "end_time": "2024-04-29T17:43:03.581180800Z",
     "start_time": "2024-04-29T17:43:03.545395300Z"
    }
   },
   "id": "6e36bb9a26d19f76",
   "execution_count": 243
  },
  {
   "cell_type": "code",
   "outputs": [
    {
     "data": {
      "text/plain": "Index([2015, 2016, 2017, 2018, 2019, 2020, 2021, 2022], dtype='int32', name='year')"
     },
     "execution_count": 244,
     "metadata": {},
     "output_type": "execute_result"
    }
   ],
   "source": [
    "victims_black_and_white.index"
   ],
   "metadata": {
    "collapsed": false,
    "ExecuteTime": {
     "end_time": "2024-04-29T17:46:01.434405800Z",
     "start_time": "2024-04-29T17:46:01.416961700Z"
    }
   },
   "id": "23fb5cc52e1e01a8",
   "execution_count": 244
  },
  {
   "cell_type": "markdown",
   "source": [
    "white_victims\n",
    "\n",
    "\n",
    "\n",
    "\n",
    "\n",
    "\n",
    "\n",
    "\n"
   ],
   "metadata": {
    "collapsed": false
   },
   "id": "5db21c9dfcc7e664"
  },
  {
   "cell_type": "code",
   "outputs": [
    {
     "ename": "TypeError",
     "evalue": "'str' object is not callable",
     "output_type": "error",
     "traceback": [
      "\u001B[1;31m---------------------------------------------------------------------------\u001B[0m",
      "\u001B[1;31mTypeError\u001B[0m                                 Traceback (most recent call last)",
      "Cell \u001B[1;32mIn[263], line 7\u001B[0m\n\u001B[0;32m      5\u001B[0m plt\u001B[38;5;241m.\u001B[39mxlabel(\u001B[38;5;124m\"\u001B[39m\u001B[38;5;124mJahre\u001B[39m\u001B[38;5;124m\"\u001B[39m)\n\u001B[0;32m      6\u001B[0m plt\u001B[38;5;241m.\u001B[39mylabel(\u001B[38;5;124m\"\u001B[39m\u001B[38;5;124mAnzahl der Niedergeschoßenen\u001B[39m\u001B[38;5;124m\"\u001B[39m)\n\u001B[1;32m----> 7\u001B[0m \u001B[43mplt\u001B[49m\u001B[38;5;241;43m.\u001B[39;49m\u001B[43mtitle\u001B[49m\u001B[43m(\u001B[49m\u001B[38;5;124;43m\"\u001B[39;49m\u001B[38;5;124;43mPolizeimorde an Weißen und Schwarzen im Vergleich\u001B[39;49m\u001B[38;5;124;43m\"\u001B[39;49m\u001B[43m)\u001B[49m\n\u001B[0;32m      8\u001B[0m plt\u001B[38;5;241m.\u001B[39mlegend()\n\u001B[0;32m      9\u001B[0m plt\u001B[38;5;241m.\u001B[39mshow()\n",
      "\u001B[1;31mTypeError\u001B[0m: 'str' object is not callable"
     ]
    },
    {
     "data": {
      "text/plain": "<Figure size 640x480 with 1 Axes>",
      "image/png": "[encoded data removed]"
     },
     "metadata": {},
     "output_type": "display_data"
    }
   ],
   "source": [
    "sns.set_theme(style=\"whitegrid\")\n",
    "sns.lineplot(data=victims_black_and_white, x=victims_black_and_white.index, y = victims_black_and_white[\"number_of_black_victims\"], label=\"Schwarze Opfer\", color=\"red\", linewidth=3)\n",
    "sns.lineplot(data=victims_black_and_white, x=victims_black_and_white.index, y = victims_black_and_white[\"number_of_white_victims\"], label=\"Weiße Opfer\", color=\"blue\", linewidth=3)\n",
    "\n",
    "plt.xlabel(\"Jahre\")\n",
    "plt.ylabel(\"Anzahl der Niedergeschoßenen\")\n",
    "plt.title(\"Polizeimorde an Weißen und Schwarzen im Vergleich\")\n",
    "plt.legend()\n",
    "plt.show()\n"
   ],
   "metadata": {
    "collapsed": false,
    "ExecuteTime": {
     "end_time": "2024-04-29T18:00:14.424410100Z",
     "start_time": "2024-04-29T18:00:14.235016200Z"
    }
   },
   "id": "a5093cf85406928d",
   "execution_count": 263
  },
  {
   "cell_type": "code",
   "outputs": [
    {
     "name": "stderr",
     "output_type": "stream",
     "text": [
      "No artists with labels found to put in legend.  Note that artists whose label start with an underscore are ignored when legend() is called with no argument.\n"
     ]
    },
    {
     "data": {
      "text/plain": "<Figure size 640x480 with 1 Axes>",
      "image/png": "[encoded data removed]"
     },
     "metadata": {},
     "output_type": "display_data"
    }
   ],
   "source": [],
   "metadata": {
    "collapsed": false,
    "ExecuteTime": {
     "end_time": "2024-04-29T17:54:59.192417600Z",
     "start_time": "2024-04-29T17:54:59.093840Z"
    }
   },
   "id": "28044f3ee5fe2806",
   "execution_count": 254
  },
  {
   "cell_type": "markdown",
   "source": [
    "<h1>Vergleich mit anderen Dataframes</h1"
   ],
   "metadata": {
    "collapsed": false
   },
   "id": "9828e5cc7be501bb"
  },
  {
   "cell_type": "markdown",
   "source": [
    "Verteilung der Bevölkerung nach Bundestaaten"
   ],
   "metadata": {
    "collapsed": false
   },
   "id": "9cf98340627723a"
  },
  {
   "cell_type": "code",
   "outputs": [],
   "source": [
    "population_data = pd.read_csv(\"TotalPolulationData.csv\")"
   ],
   "metadata": {
    "collapsed": false,
    "ExecuteTime": {
     "end_time": "2024-05-03T12:08:47.656999600Z",
     "start_time": "2024-05-03T12:08:47.572772100Z"
    }
   },
   "id": "39db8c0e8c4a3120",
   "execution_count": 330
  },
  {
   "cell_type": "code",
   "outputs": [],
   "source": [
    "population_df = pandas.DataFrame(population_data)"
   ],
   "metadata": {
    "collapsed": false,
    "ExecuteTime": {
     "end_time": "2024-05-03T12:08:48.025378100Z",
     "start_time": "2024-05-03T12:08:47.925558200Z"
    }
   },
   "id": "a45b52b946b85b98",
   "execution_count": 331
  },
  {
   "cell_type": "code",
   "outputs": [],
   "source": [
    "population_df = population_df.sum()"
   ],
   "metadata": {
    "collapsed": false,
    "ExecuteTime": {
     "end_time": "2024-05-03T12:10:02.640872900Z",
     "start_time": "2024-05-03T12:10:02.516852200Z"
    }
   },
   "id": "4074b51ba3aebe61",
   "execution_count": 336
  },
  {
   "cell_type": "code",
   "outputs": [
    {
     "data": {
      "text/plain": "'Total5,024,279733,3917,151,5023,011,52439,538,2235,773,7143,605,944989,948689,54521,538,18710,711,9081,455,2711,839,10612,812,5086,785,5283,190,3692,937,8804,505,8364,657,7571,362,3596,177,2247,029,91710,077,3315,706,4942,961,2796,154,9131,084,2251,961,5043,104,6141,377,5299,288,9942,117,52220,201,24910,439,388779,09411,799,4483,959,3534,237,25613,002,7001,097,3795,118,425886,6676,910,84029,145,5053,271,616643,0778,631,3937,705,2811,793,7165,893,718576,8513,285,874'"
     },
     "execution_count": 329,
     "metadata": {},
     "output_type": "execute_result"
    }
   ],
   "source": [
    "population_df"
   ],
   "metadata": {
    "collapsed": false,
    "ExecuteTime": {
     "end_time": "2024-05-03T12:08:38.227370900Z",
     "start_time": "2024-05-03T12:08:38.182115100Z"
    }
   },
   "id": "fd084884944141c9",
   "execution_count": 329
  },
  {
   "cell_type": "code",
   "outputs": [],
   "source": [
    "population_df = pandas.DataFrame(population_df)"
   ],
   "metadata": {
    "collapsed": false,
    "ExecuteTime": {
     "end_time": "2024-05-03T12:12:29.384536200Z",
     "start_time": "2024-05-03T12:12:29.338006700Z"
    }
   },
   "id": "f72ae1ce4ce51c02",
   "execution_count": 339
  },
  {
   "cell_type": "code",
   "outputs": [],
   "source": [
    "population_df.columns = [\"population\"]"
   ],
   "metadata": {
    "collapsed": false,
    "ExecuteTime": {
     "end_time": "2024-05-03T12:13:11.869508300Z",
     "start_time": "2024-05-03T12:13:11.817555800Z"
    }
   },
   "id": "839eedf4be1afc20",
   "execution_count": 341
  },
  {
   "cell_type": "code",
   "outputs": [],
   "source": [
    "population_df[\"population\"] = population_df[\"population\"].str.replace(\",\", \"\")"
   ],
   "metadata": {
    "collapsed": false,
    "ExecuteTime": {
     "end_time": "2024-05-03T12:27:48.891367400Z",
     "start_time": "2024-05-03T12:27:48.802255600Z"
    }
   },
   "id": "1a5d4b5e1a154d25",
   "execution_count": 362
  },
  {
   "cell_type": "code",
   "outputs": [],
   "source": [
    "population_df[\"population\"] = population_df[\"population\"].astype(int)"
   ],
   "metadata": {
    "collapsed": false,
    "ExecuteTime": {
     "end_time": "2024-05-03T12:28:19.367988Z",
     "start_time": "2024-05-03T12:28:19.190067600Z"
    }
   },
   "id": "cc700746691e3986",
   "execution_count": 364
  },
  {
   "cell_type": "code",
   "outputs": [
    {
     "ename": "KeyError",
     "evalue": "\"['Label (Grouping)'] not found in axis\"",
     "output_type": "error",
     "traceback": [
      "\u001B[1;31m---------------------------------------------------------------------------\u001B[0m",
      "\u001B[1;31mKeyError\u001B[0m                                  Traceback (most recent call last)",
      "Cell \u001B[1;32mIn[366], line 1\u001B[0m\n\u001B[1;32m----> 1\u001B[0m population_df \u001B[38;5;241m=\u001B[39m \u001B[43mpopulation_df\u001B[49m\u001B[38;5;241;43m.\u001B[39;49m\u001B[43mdrop\u001B[49m\u001B[43m(\u001B[49m\u001B[43mindex\u001B[49m\u001B[38;5;241;43m=\u001B[39;49m\u001B[38;5;124;43m\"\u001B[39;49m\u001B[38;5;124;43mLabel (Grouping)\u001B[39;49m\u001B[38;5;124;43m\"\u001B[39;49m\u001B[43m)\u001B[49m\n",
      "File \u001B[1;32m~\\Documents\\PycharmProjekte\\DeathsInvolvongPoliceDataAnalysis\\.venv\\Lib\\site-packages\\pandas\\core\\frame.py:5581\u001B[0m, in \u001B[0;36mDataFrame.drop\u001B[1;34m(self, labels, axis, index, columns, level, inplace, errors)\u001B[0m\n\u001B[0;32m   5433\u001B[0m \u001B[38;5;28;01mdef\u001B[39;00m \u001B[38;5;21mdrop\u001B[39m(\n\u001B[0;32m   5434\u001B[0m     \u001B[38;5;28mself\u001B[39m,\n\u001B[0;32m   5435\u001B[0m     labels: IndexLabel \u001B[38;5;241m|\u001B[39m \u001B[38;5;28;01mNone\u001B[39;00m \u001B[38;5;241m=\u001B[39m \u001B[38;5;28;01mNone\u001B[39;00m,\n\u001B[1;32m   (...)\u001B[0m\n\u001B[0;32m   5442\u001B[0m     errors: IgnoreRaise \u001B[38;5;241m=\u001B[39m \u001B[38;5;124m\"\u001B[39m\u001B[38;5;124mraise\u001B[39m\u001B[38;5;124m\"\u001B[39m,\n\u001B[0;32m   5443\u001B[0m ) \u001B[38;5;241m-\u001B[39m\u001B[38;5;241m>\u001B[39m DataFrame \u001B[38;5;241m|\u001B[39m \u001B[38;5;28;01mNone\u001B[39;00m:\n\u001B[0;32m   5444\u001B[0m \u001B[38;5;250m    \u001B[39m\u001B[38;5;124;03m\"\"\"\u001B[39;00m\n\u001B[0;32m   5445\u001B[0m \u001B[38;5;124;03m    Drop specified labels from rows or columns.\u001B[39;00m\n\u001B[0;32m   5446\u001B[0m \n\u001B[1;32m   (...)\u001B[0m\n\u001B[0;32m   5579\u001B[0m \u001B[38;5;124;03m            weight  1.0     0.8\u001B[39;00m\n\u001B[0;32m   5580\u001B[0m \u001B[38;5;124;03m    \"\"\"\u001B[39;00m\n\u001B[1;32m-> 5581\u001B[0m     \u001B[38;5;28;01mreturn\u001B[39;00m \u001B[38;5;28;43msuper\u001B[39;49m\u001B[43m(\u001B[49m\u001B[43m)\u001B[49m\u001B[38;5;241;43m.\u001B[39;49m\u001B[43mdrop\u001B[49m\u001B[43m(\u001B[49m\n\u001B[0;32m   5582\u001B[0m \u001B[43m        \u001B[49m\u001B[43mlabels\u001B[49m\u001B[38;5;241;43m=\u001B[39;49m\u001B[43mlabels\u001B[49m\u001B[43m,\u001B[49m\n\u001B[0;32m   5583\u001B[0m \u001B[43m        \u001B[49m\u001B[43maxis\u001B[49m\u001B[38;5;241;43m=\u001B[39;49m\u001B[43maxis\u001B[49m\u001B[43m,\u001B[49m\n\u001B[0;32m   5584\u001B[0m \u001B[43m        \u001B[49m\u001B[43mindex\u001B[49m\u001B[38;5;241;43m=\u001B[39;49m\u001B[43mindex\u001B[49m\u001B[43m,\u001B[49m\n\u001B[0;32m   5585\u001B[0m \u001B[43m        \u001B[49m\u001B[43mcolumns\u001B[49m\u001B[38;5;241;43m=\u001B[39;49m\u001B[43mcolumns\u001B[49m\u001B[43m,\u001B[49m\n\u001B[0;32m   5586\u001B[0m \u001B[43m        \u001B[49m\u001B[43mlevel\u001B[49m\u001B[38;5;241;43m=\u001B[39;49m\u001B[43mlevel\u001B[49m\u001B[43m,\u001B[49m\n\u001B[0;32m   5587\u001B[0m \u001B[43m        \u001B[49m\u001B[43minplace\u001B[49m\u001B[38;5;241;43m=\u001B[39;49m\u001B[43minplace\u001B[49m\u001B[43m,\u001B[49m\n\u001B[0;32m   5588\u001B[0m \u001B[43m        \u001B[49m\u001B[43merrors\u001B[49m\u001B[38;5;241;43m=\u001B[39;49m\u001B[43merrors\u001B[49m\u001B[43m,\u001B[49m\n\u001B[0;32m   5589\u001B[0m \u001B[43m    \u001B[49m\u001B[43m)\u001B[49m\n",
      "File \u001B[1;32m~\\Documents\\PycharmProjekte\\DeathsInvolvongPoliceDataAnalysis\\.venv\\Lib\\site-packages\\pandas\\core\\generic.py:4788\u001B[0m, in \u001B[0;36mNDFrame.drop\u001B[1;34m(self, labels, axis, index, columns, level, inplace, errors)\u001B[0m\n\u001B[0;32m   4786\u001B[0m \u001B[38;5;28;01mfor\u001B[39;00m axis, labels \u001B[38;5;129;01min\u001B[39;00m axes\u001B[38;5;241m.\u001B[39mitems():\n\u001B[0;32m   4787\u001B[0m     \u001B[38;5;28;01mif\u001B[39;00m labels \u001B[38;5;129;01mis\u001B[39;00m \u001B[38;5;129;01mnot\u001B[39;00m \u001B[38;5;28;01mNone\u001B[39;00m:\n\u001B[1;32m-> 4788\u001B[0m         obj \u001B[38;5;241m=\u001B[39m \u001B[43mobj\u001B[49m\u001B[38;5;241;43m.\u001B[39;49m\u001B[43m_drop_axis\u001B[49m\u001B[43m(\u001B[49m\u001B[43mlabels\u001B[49m\u001B[43m,\u001B[49m\u001B[43m \u001B[49m\u001B[43maxis\u001B[49m\u001B[43m,\u001B[49m\u001B[43m \u001B[49m\u001B[43mlevel\u001B[49m\u001B[38;5;241;43m=\u001B[39;49m\u001B[43mlevel\u001B[49m\u001B[43m,\u001B[49m\u001B[43m \u001B[49m\u001B[43merrors\u001B[49m\u001B[38;5;241;43m=\u001B[39;49m\u001B[43merrors\u001B[49m\u001B[43m)\u001B[49m\n\u001B[0;32m   4790\u001B[0m \u001B[38;5;28;01mif\u001B[39;00m inplace:\n\u001B[0;32m   4791\u001B[0m     \u001B[38;5;28mself\u001B[39m\u001B[38;5;241m.\u001B[39m_update_inplace(obj)\n",
      "File \u001B[1;32m~\\Documents\\PycharmProjekte\\DeathsInvolvongPoliceDataAnalysis\\.venv\\Lib\\site-packages\\pandas\\core\\generic.py:4830\u001B[0m, in \u001B[0;36mNDFrame._drop_axis\u001B[1;34m(self, labels, axis, level, errors, only_slice)\u001B[0m\n\u001B[0;32m   4828\u001B[0m         new_axis \u001B[38;5;241m=\u001B[39m axis\u001B[38;5;241m.\u001B[39mdrop(labels, level\u001B[38;5;241m=\u001B[39mlevel, errors\u001B[38;5;241m=\u001B[39merrors)\n\u001B[0;32m   4829\u001B[0m     \u001B[38;5;28;01melse\u001B[39;00m:\n\u001B[1;32m-> 4830\u001B[0m         new_axis \u001B[38;5;241m=\u001B[39m \u001B[43maxis\u001B[49m\u001B[38;5;241;43m.\u001B[39;49m\u001B[43mdrop\u001B[49m\u001B[43m(\u001B[49m\u001B[43mlabels\u001B[49m\u001B[43m,\u001B[49m\u001B[43m \u001B[49m\u001B[43merrors\u001B[49m\u001B[38;5;241;43m=\u001B[39;49m\u001B[43merrors\u001B[49m\u001B[43m)\u001B[49m\n\u001B[0;32m   4831\u001B[0m     indexer \u001B[38;5;241m=\u001B[39m axis\u001B[38;5;241m.\u001B[39mget_indexer(new_axis)\n\u001B[0;32m   4833\u001B[0m \u001B[38;5;66;03m# Case for non-unique axis\u001B[39;00m\n\u001B[0;32m   4834\u001B[0m \u001B[38;5;28;01melse\u001B[39;00m:\n",
      "File \u001B[1;32m~\\Documents\\PycharmProjekte\\DeathsInvolvongPoliceDataAnalysis\\.venv\\Lib\\site-packages\\pandas\\core\\indexes\\base.py:7070\u001B[0m, in \u001B[0;36mIndex.drop\u001B[1;34m(self, labels, errors)\u001B[0m\n\u001B[0;32m   7068\u001B[0m \u001B[38;5;28;01mif\u001B[39;00m mask\u001B[38;5;241m.\u001B[39many():\n\u001B[0;32m   7069\u001B[0m     \u001B[38;5;28;01mif\u001B[39;00m errors \u001B[38;5;241m!=\u001B[39m \u001B[38;5;124m\"\u001B[39m\u001B[38;5;124mignore\u001B[39m\u001B[38;5;124m\"\u001B[39m:\n\u001B[1;32m-> 7070\u001B[0m         \u001B[38;5;28;01mraise\u001B[39;00m \u001B[38;5;167;01mKeyError\u001B[39;00m(\u001B[38;5;124mf\u001B[39m\u001B[38;5;124m\"\u001B[39m\u001B[38;5;132;01m{\u001B[39;00mlabels[mask]\u001B[38;5;241m.\u001B[39mtolist()\u001B[38;5;132;01m}\u001B[39;00m\u001B[38;5;124m not found in axis\u001B[39m\u001B[38;5;124m\"\u001B[39m)\n\u001B[0;32m   7071\u001B[0m     indexer \u001B[38;5;241m=\u001B[39m indexer[\u001B[38;5;241m~\u001B[39mmask]\n\u001B[0;32m   7072\u001B[0m \u001B[38;5;28;01mreturn\u001B[39;00m \u001B[38;5;28mself\u001B[39m\u001B[38;5;241m.\u001B[39mdelete(indexer)\n",
      "\u001B[1;31mKeyError\u001B[0m: \"['Label (Grouping)'] not found in axis\""
     ]
    }
   ],
   "source": [
    "population_df = population_df.drop(index=\"Label (Grouping)\")"
   ],
   "metadata": {
    "collapsed": false,
    "ExecuteTime": {
     "end_time": "2024-05-03T12:39:44.702107700Z",
     "start_time": "2024-05-03T12:39:44.639631400Z"
    }
   },
   "id": "7f46b88b147999ee",
   "execution_count": 366
  },
  {
   "cell_type": "code",
   "outputs": [],
   "source": [
    "population_df = population_df.sort_values(by=\"population\", ascending=False)"
   ],
   "metadata": {
    "collapsed": false,
    "ExecuteTime": {
     "end_time": "2024-05-03T12:44:23.634035500Z",
     "start_time": "2024-05-03T12:44:23.516526Z"
    }
   },
   "id": "ec691ee556433d4f",
   "execution_count": 368
  },
  {
   "cell_type": "code",
   "outputs": [
    {
     "name": "stderr",
     "output_type": "stream",
     "text": [
      "C:\\Users\\Stefan\\AppData\\Local\\Temp\\ipykernel_14796\\3775625565.py:2: SettingWithCopyWarning:\n",
      "\n",
      "\n",
      "A value is trying to be set on a copy of a slice from a DataFrame\n",
      "\n",
      "See the caveats in the documentation: https://pandas.pydata.org/pandas-docs/stable/user_guide/indexing.html#returning-a-view-versus-a-copy\n",
      "\n"
     ]
    }
   ],
   "source": [
    "usa_states_most_population = population_df[:10]\n",
    "usa_states_most_population.loc[\"Other\"] = {\"population\": population_df[10:]['population'].sum()}"
   ],
   "metadata": {
    "collapsed": false,
    "ExecuteTime": {
     "end_time": "2024-05-03T13:43:51.956413200Z",
     "start_time": "2024-05-03T13:43:51.869645300Z"
    }
   },
   "id": "79f646e0d6910a54",
   "execution_count": 400
  },
  {
   "cell_type": "code",
   "outputs": [
    {
     "data": {
      "text/plain": "                population\nCalifornia        39538223\nTexas             29145505\nFlorida           21538187\nNew York          20201249\nPennsylvania      13002700\nIllinois          12812508\nOhio              11799448\nGeorgia           10711908\nNorth Carolina    10439388\nMichigan          10077331\nOther            155468708",
      "text/html": "<div>\n<style scoped>\n    .dataframe tbody tr th:only-of-type {\n        vertical-align: middle;\n    }\n\n    .dataframe tbody tr th {\n        vertical-align: top;\n    }\n\n    .dataframe thead th {\n        text-align: right;\n    }\n</style>\n<table border=\"1\" class=\"dataframe\">\n  <thead>\n    <tr style=\"text-align: right;\">\n      <th></th>\n      <th>population</th>\n    </tr>\n  </thead>\n  <tbody>\n    <tr>\n      <th>California</th>\n      <td>39538223</td>\n    </tr>\n    <tr>\n      <th>Texas</th>\n      <td>29145505</td>\n    </tr>\n    <tr>\n      <th>Florida</th>\n      <td>21538187</td>\n    </tr>\n    <tr>\n      <th>New York</th>\n      <td>20201249</td>\n    </tr>\n    <tr>\n      <th>Pennsylvania</th>\n      <td>13002700</td>\n    </tr>\n    <tr>\n      <th>Illinois</th>\n      <td>12812508</td>\n    </tr>\n    <tr>\n      <th>Ohio</th>\n      <td>11799448</td>\n    </tr>\n    <tr>\n      <th>Georgia</th>\n      <td>10711908</td>\n    </tr>\n    <tr>\n      <th>North Carolina</th>\n      <td>10439388</td>\n    </tr>\n    <tr>\n      <th>Michigan</th>\n      <td>10077331</td>\n    </tr>\n    <tr>\n      <th>Other</th>\n      <td>155468708</td>\n    </tr>\n  </tbody>\n</table>\n</div>"
     },
     "execution_count": 406,
     "metadata": {},
     "output_type": "execute_result"
    }
   ],
   "source": [
    "usa_states_most_population"
   ],
   "metadata": {
    "collapsed": false,
    "ExecuteTime": {
     "end_time": "2024-05-03T13:51:46.986748600Z",
     "start_time": "2024-05-03T13:51:46.890807Z"
    }
   },
   "id": "999ffc534c12819c",
   "execution_count": 406
  },
  {
   "cell_type": "code",
   "outputs": [
    {
     "data": {
      "text/plain": "<Figure size 640x480 with 1 Axes>",
      "image/png": "[encoded data removed]"
     },
     "metadata": {},
     "output_type": "display_data"
    }
   ],
   "source": [
    "plt.pie(usa_states_most_population[\"population\"], labels=usa_states_most_population.index)\n",
    "plt.title(\"USA Bundesstaaten Einwohnerzahl\")\n",
    "plt.show()"
   ],
   "metadata": {
    "collapsed": false,
    "ExecuteTime": {
     "end_time": "2024-05-03T13:54:23.850361800Z",
     "start_time": "2024-05-03T13:54:23.740865500Z"
    }
   },
   "id": "205f3b4ccb0b5c25",
   "execution_count": 408
  },
  {
   "cell_type": "code",
   "outputs": [
    {
     "data": {
      "text/plain": "155468708"
     },
     "execution_count": 396,
     "metadata": {},
     "output_type": "execute_result"
    }
   ],
   "source": [
    "population_df[10:]['population'].sum()"
   ],
   "metadata": {
    "collapsed": false,
    "ExecuteTime": {
     "end_time": "2024-05-03T13:32:05.063152200Z",
     "start_time": "2024-05-03T13:32:04.978628600Z"
    }
   },
   "id": "e1f6fa47792331dc",
   "execution_count": 396
  },
  {
   "cell_type": "code",
   "outputs": [
    {
     "data": {
      "text/plain": "                population      Other\nCalifornia        39538223  155468708\nTexas             29145505  155468708\nFlorida           21538187  155468708\nNew York          20201249  155468708\nPennsylvania      13002700  155468708\nIllinois          12812508  155468708\nOhio              11799448  155468708\nGeorgia           10711908  155468708\nNorth Carolina    10439388  155468708\nMichigan          10077331  155468708",
      "text/html": "<div>\n<style scoped>\n    .dataframe tbody tr th:only-of-type {\n        vertical-align: middle;\n    }\n\n    .dataframe tbody tr th {\n        vertical-align: top;\n    }\n\n    .dataframe thead th {\n        text-align: right;\n    }\n</style>\n<table border=\"1\" class=\"dataframe\">\n  <thead>\n    <tr style=\"text-align: right;\">\n      <th></th>\n      <th>population</th>\n      <th>Other</th>\n    </tr>\n  </thead>\n  <tbody>\n    <tr>\n      <th>California</th>\n      <td>39538223</td>\n      <td>155468708</td>\n    </tr>\n    <tr>\n      <th>Texas</th>\n      <td>29145505</td>\n      <td>155468708</td>\n    </tr>\n    <tr>\n      <th>Florida</th>\n      <td>21538187</td>\n      <td>155468708</td>\n    </tr>\n    <tr>\n      <th>New York</th>\n      <td>20201249</td>\n      <td>155468708</td>\n    </tr>\n    <tr>\n      <th>Pennsylvania</th>\n      <td>13002700</td>\n      <td>155468708</td>\n    </tr>\n    <tr>\n      <th>Illinois</th>\n      <td>12812508</td>\n      <td>155468708</td>\n    </tr>\n    <tr>\n      <th>Ohio</th>\n      <td>11799448</td>\n      <td>155468708</td>\n    </tr>\n    <tr>\n      <th>Georgia</th>\n      <td>10711908</td>\n      <td>155468708</td>\n    </tr>\n    <tr>\n      <th>North Carolina</th>\n      <td>10439388</td>\n      <td>155468708</td>\n    </tr>\n    <tr>\n      <th>Michigan</th>\n      <td>10077331</td>\n      <td>155468708</td>\n    </tr>\n  </tbody>\n</table>\n</div>"
     },
     "execution_count": 398,
     "metadata": {},
     "output_type": "execute_result"
    }
   ],
   "source": [
    "usa_states_most_population"
   ],
   "metadata": {
    "collapsed": false,
    "ExecuteTime": {
     "end_time": "2024-05-03T13:32:42.985251200Z",
     "start_time": "2024-05-03T13:32:42.885915Z"
    }
   },
   "id": "901368f4818dbb23",
   "execution_count": 398
  },
  {
   "cell_type": "code",
   "outputs": [
    {
     "ename": "AttributeError",
     "evalue": "'dict' object has no attribute 'loc'",
     "output_type": "error",
     "traceback": [
      "\u001B[1;31m---------------------------------------------------------------------------\u001B[0m",
      "\u001B[1;31mAttributeError\u001B[0m                            Traceback (most recent call last)",
      "Cell \u001B[1;32mIn[386], line 1\u001B[0m\n\u001B[1;32m----> 1\u001B[0m \u001B[43musa_states_most_population\u001B[49m\u001B[38;5;241;43m.\u001B[39;49m\u001B[43mloc\u001B[49m[\u001B[38;5;124m\"\u001B[39m\u001B[38;5;124mOther\u001B[39m\u001B[38;5;124m\"\u001B[39m] \u001B[38;5;241m=\u001B[39m {\u001B[38;5;124m\"\u001B[39m\u001B[38;5;124mpopulation\u001B[39m\u001B[38;5;124m\"\u001B[39m: population_df[\u001B[38;5;241m10\u001B[39m:][\u001B[38;5;124m'\u001B[39m\u001B[38;5;124mpopulation\u001B[39m\u001B[38;5;124m'\u001B[39m]\u001B[38;5;241m.\u001B[39msum()}\n\u001B[0;32m      2\u001B[0m usa_states_most_population\n",
      "\u001B[1;31mAttributeError\u001B[0m: 'dict' object has no attribute 'loc'"
     ]
    }
   ],
   "source": [
    "usa_states_most_population.loc[\"Other\"] = {\"population\": population_df[10:]['population'].sum()}\n",
    "usa_states_most_population"
   ],
   "metadata": {
    "collapsed": false,
    "ExecuteTime": {
     "end_time": "2024-05-03T13:25:20.439383400Z",
     "start_time": "2024-05-03T13:25:20.361017200Z"
    }
   },
   "id": "6bb9a191cf07118e",
   "execution_count": 386
  },
  {
   "cell_type": "code",
   "outputs": [
    {
     "data": {
      "text/plain": "<Axes: xlabel='None', ylabel='population'>"
     },
     "execution_count": 355,
     "metadata": {},
     "output_type": "execute_result"
    },
    {
     "data": {
      "text/plain": "<Figure size 640x480 with 1 Axes>",
      "image/png": "[encoded data removed]"
     },
     "metadata": {},
     "output_type": "display_data"
    }
   ],
   "source": [
    "sns.barplot(x=population_df.index, y = population_df[\"population\"])"
   ],
   "metadata": {
    "collapsed": false,
    "ExecuteTime": {
     "end_time": "2024-05-03T12:23:11.054419100Z",
     "start_time": "2024-05-03T12:23:10.070959700Z"
    }
   },
   "id": "f65d49b5e00c4abc",
   "execution_count": 355
  },
  {
   "cell_type": "markdown",
   "source": [
    "Anzahl der getöteten Schwarzen im Vergleich zur Anzahl der schwarzen in der Gesamtbevölerung"
   ],
   "metadata": {
    "collapsed": false
   },
   "id": "5f8231571376201a"
  },
  {
   "cell_type": "markdown",
   "source": [],
   "metadata": {
    "collapsed": false
   },
   "id": "2cc2dd8fdb386580"
  },
  {
   "cell_type": "code",
   "outputs": [],
   "source": [
    "Wo ist der prozentual höchste Anteil der Polizeimorde"
   ],
   "metadata": {
    "collapsed": false
   },
   "id": "b49dfeab1e566e56"
  },
  {
   "cell_type": "markdown",
   "source": [
    "Anzahl der Frauenmorde"
   ],
   "metadata": {
    "collapsed": false
   },
   "id": "5851b70bdb25e6d3"
  },
  {
   "cell_type": "markdown",
   "source": [
    "Anteil der schwarzen Bevölkerung in Amerika"
   ],
   "metadata": {
    "collapsed": false
   },
   "id": "1a484a046e604d4e"
  },
  {
   "cell_type": "markdown",
   "source": [],
   "metadata": {
    "collapsed": false
   },
   "id": "4cceb0c88bb9eeb1"
  },
  {
   "cell_type": "markdown",
   "source": [],
   "metadata": {
    "collapsed": false
   },
   "id": "234720806954b497"
  },
  {
   "cell_type": "code",
   "outputs": [],
   "source": [
    "race_distribution_data = pandas.read_csv(\"RaceDistribution.csv\")"
   ],
   "metadata": {
    "collapsed": false,
    "ExecuteTime": {
     "end_time": "2024-05-03T13:58:59.540230100Z",
     "start_time": "2024-05-03T13:58:59.473090700Z"
    }
   },
   "id": "93350533a093fed7",
   "execution_count": 414
  },
  {
   "cell_type": "code",
   "outputs": [],
   "source": [
    "usa_race_df = pandas.DataFrame(race_distribution_data)"
   ],
   "metadata": {
    "collapsed": false,
    "ExecuteTime": {
     "end_time": "2024-05-03T14:36:33.813296800Z",
     "start_time": "2024-05-03T14:36:33.751045700Z"
    }
   },
   "id": "b92a4a142925658b",
   "execution_count": 461
  },
  {
   "cell_type": "code",
   "outputs": [],
   "source": [
    "usa_race_df = usa_race_df.drop(columns = [\"United States!!Margin of Error\"])"
   ],
   "metadata": {
    "collapsed": false,
    "ExecuteTime": {
     "end_time": "2024-05-03T14:36:34.386911300Z",
     "start_time": "2024-05-03T14:36:34.311165700Z"
    }
   },
   "id": "c175808126bd04ec",
   "execution_count": 462
  },
  {
   "cell_type": "code",
   "outputs": [],
   "source": [
    "usa_race_df = usa_race_df[1:3]"
   ],
   "metadata": {
    "collapsed": false,
    "ExecuteTime": {
     "end_time": "2024-05-03T14:36:34.954403400Z",
     "start_time": "2024-05-03T14:36:34.870847300Z"
    }
   },
   "id": "3f2b869e285a0a3a",
   "execution_count": 463
  },
  {
   "cell_type": "code",
   "outputs": [],
   "source": [
    "usa_race_df.columns = [\"race\", \"number\"]"
   ],
   "metadata": {
    "collapsed": false,
    "ExecuteTime": {
     "end_time": "2024-05-03T14:36:35.690914100Z",
     "start_time": "2024-05-03T14:36:35.590590900Z"
    }
   },
   "id": "5b0c208953c08092",
   "execution_count": 464
  },
  {
   "cell_type": "code",
   "outputs": [
    {
     "data": {
      "text/plain": "                                  race       number\n1                          White alone  202,889,017\n2      Black or African American alone   40,603,656",
      "text/html": "<div>\n<style scoped>\n    .dataframe tbody tr th:only-of-type {\n        vertical-align: middle;\n    }\n\n    .dataframe tbody tr th {\n        vertical-align: top;\n    }\n\n    .dataframe thead th {\n        text-align: right;\n    }\n</style>\n<table border=\"1\" class=\"dataframe\">\n  <thead>\n    <tr style=\"text-align: right;\">\n      <th></th>\n      <th>race</th>\n      <th>number</th>\n    </tr>\n  </thead>\n  <tbody>\n    <tr>\n      <th>1</th>\n      <td>White alone</td>\n      <td>202,889,017</td>\n    </tr>\n    <tr>\n      <th>2</th>\n      <td>Black or African American alone</td>\n      <td>40,603,656</td>\n    </tr>\n  </tbody>\n</table>\n</div>"
     },
     "execution_count": 465,
     "metadata": {},
     "output_type": "execute_result"
    }
   ],
   "source": [
    "usa_race_df"
   ],
   "metadata": {
    "collapsed": false,
    "ExecuteTime": {
     "end_time": "2024-05-03T14:36:36.551708Z",
     "start_time": "2024-05-03T14:36:36.458395200Z"
    }
   },
   "id": "9ff74ed949c0050e",
   "execution_count": 465
  },
  {
   "cell_type": "code",
   "outputs": [],
   "source": [
    "usa_race_df.set_index(\"race\", inplace=True)"
   ],
   "metadata": {
    "collapsed": false,
    "ExecuteTime": {
     "end_time": "2024-05-03T14:36:40.639674900Z",
     "start_time": "2024-05-03T14:36:40.562929100Z"
    }
   },
   "id": "ccfd070172050be2",
   "execution_count": 466
  },
  {
   "cell_type": "code",
   "outputs": [
    {
     "data": {
      "text/plain": "                                          number\nrace                                            \n    White alone                      202,889,017\n    Black or African American alone   40,603,656",
      "text/html": "<div>\n<style scoped>\n    .dataframe tbody tr th:only-of-type {\n        vertical-align: middle;\n    }\n\n    .dataframe tbody tr th {\n        vertical-align: top;\n    }\n\n    .dataframe thead th {\n        text-align: right;\n    }\n</style>\n<table border=\"1\" class=\"dataframe\">\n  <thead>\n    <tr style=\"text-align: right;\">\n      <th></th>\n      <th>number</th>\n    </tr>\n    <tr>\n      <th>race</th>\n      <th></th>\n    </tr>\n  </thead>\n  <tbody>\n    <tr>\n      <th>White alone</th>\n      <td>202,889,017</td>\n    </tr>\n    <tr>\n      <th>Black or African American alone</th>\n      <td>40,603,656</td>\n    </tr>\n  </tbody>\n</table>\n</div>"
     },
     "execution_count": 467,
     "metadata": {},
     "output_type": "execute_result"
    }
   ],
   "source": [
    "usa_race_df"
   ],
   "metadata": {
    "collapsed": false,
    "ExecuteTime": {
     "end_time": "2024-05-03T14:36:43.951610400Z",
     "start_time": "2024-05-03T14:36:43.797423700Z"
    }
   },
   "id": "38faa1e45ad6fbd5",
   "execution_count": 467
  },
  {
   "cell_type": "code",
   "outputs": [],
   "source": [
    "usa_race_df = usa_race_df[\"number\"].str.replace(\",\", \"\")"
   ],
   "metadata": {
    "collapsed": false,
    "ExecuteTime": {
     "end_time": "2024-05-03T14:36:47.918928500Z",
     "start_time": "2024-05-03T14:36:47.850287400Z"
    }
   },
   "id": "e3d454fa43302974",
   "execution_count": 468
  },
  {
   "cell_type": "code",
   "outputs": [
    {
     "ename": "KeyError",
     "evalue": "'number'",
     "output_type": "error",
     "traceback": [
      "\u001B[1;31m---------------------------------------------------------------------------\u001B[0m",
      "\u001B[1;31mKeyError\u001B[0m                                  Traceback (most recent call last)",
      "File \u001B[1;32m~\\Documents\\PycharmProjekte\\DeathsInvolvongPoliceDataAnalysis\\.venv\\Lib\\site-packages\\pandas\\core\\indexes\\base.py:3805\u001B[0m, in \u001B[0;36mIndex.get_loc\u001B[1;34m(self, key)\u001B[0m\n\u001B[0;32m   3804\u001B[0m \u001B[38;5;28;01mtry\u001B[39;00m:\n\u001B[1;32m-> 3805\u001B[0m     \u001B[38;5;28;01mreturn\u001B[39;00m \u001B[38;5;28;43mself\u001B[39;49m\u001B[38;5;241;43m.\u001B[39;49m\u001B[43m_engine\u001B[49m\u001B[38;5;241;43m.\u001B[39;49m\u001B[43mget_loc\u001B[49m\u001B[43m(\u001B[49m\u001B[43mcasted_key\u001B[49m\u001B[43m)\u001B[49m\n\u001B[0;32m   3806\u001B[0m \u001B[38;5;28;01mexcept\u001B[39;00m \u001B[38;5;167;01mKeyError\u001B[39;00m \u001B[38;5;28;01mas\u001B[39;00m err:\n",
      "File \u001B[1;32mindex.pyx:167\u001B[0m, in \u001B[0;36mpandas._libs.index.IndexEngine.get_loc\u001B[1;34m()\u001B[0m\n",
      "File \u001B[1;32mindex.pyx:196\u001B[0m, in \u001B[0;36mpandas._libs.index.IndexEngine.get_loc\u001B[1;34m()\u001B[0m\n",
      "File \u001B[1;32mpandas\\\\_libs\\\\hashtable_class_helper.pxi:7081\u001B[0m, in \u001B[0;36mpandas._libs.hashtable.PyObjectHashTable.get_item\u001B[1;34m()\u001B[0m\n",
      "File \u001B[1;32mpandas\\\\_libs\\\\hashtable_class_helper.pxi:7089\u001B[0m, in \u001B[0;36mpandas._libs.hashtable.PyObjectHashTable.get_item\u001B[1;34m()\u001B[0m\n",
      "\u001B[1;31mKeyError\u001B[0m: 'number'",
      "\nThe above exception was the direct cause of the following exception:\n",
      "\u001B[1;31mKeyError\u001B[0m                                  Traceback (most recent call last)",
      "Cell \u001B[1;32mIn[469], line 1\u001B[0m\n\u001B[1;32m----> 1\u001B[0m usa_race_df[\u001B[38;5;124m\"\u001B[39m\u001B[38;5;124mnumber\u001B[39m\u001B[38;5;124m\"\u001B[39m] \u001B[38;5;241m=\u001B[39m \u001B[43musa_race_df\u001B[49m\u001B[43m[\u001B[49m\u001B[38;5;124;43m\"\u001B[39;49m\u001B[38;5;124;43mnumber\u001B[39;49m\u001B[38;5;124;43m\"\u001B[39;49m\u001B[43m]\u001B[49m\u001B[38;5;241m.\u001B[39mastype(\u001B[38;5;28mint\u001B[39m)\n",
      "File \u001B[1;32m~\\Documents\\PycharmProjekte\\DeathsInvolvongPoliceDataAnalysis\\.venv\\Lib\\site-packages\\pandas\\core\\series.py:1121\u001B[0m, in \u001B[0;36mSeries.__getitem__\u001B[1;34m(self, key)\u001B[0m\n\u001B[0;32m   1118\u001B[0m     \u001B[38;5;28;01mreturn\u001B[39;00m \u001B[38;5;28mself\u001B[39m\u001B[38;5;241m.\u001B[39m_values[key]\n\u001B[0;32m   1120\u001B[0m \u001B[38;5;28;01melif\u001B[39;00m key_is_scalar:\n\u001B[1;32m-> 1121\u001B[0m     \u001B[38;5;28;01mreturn\u001B[39;00m \u001B[38;5;28;43mself\u001B[39;49m\u001B[38;5;241;43m.\u001B[39;49m\u001B[43m_get_value\u001B[49m\u001B[43m(\u001B[49m\u001B[43mkey\u001B[49m\u001B[43m)\u001B[49m\n\u001B[0;32m   1123\u001B[0m \u001B[38;5;66;03m# Convert generator to list before going through hashable part\u001B[39;00m\n\u001B[0;32m   1124\u001B[0m \u001B[38;5;66;03m# (We will iterate through the generator there to check for slices)\u001B[39;00m\n\u001B[0;32m   1125\u001B[0m \u001B[38;5;28;01mif\u001B[39;00m is_iterator(key):\n",
      "File \u001B[1;32m~\\Documents\\PycharmProjekte\\DeathsInvolvongPoliceDataAnalysis\\.venv\\Lib\\site-packages\\pandas\\core\\series.py:1237\u001B[0m, in \u001B[0;36mSeries._get_value\u001B[1;34m(self, label, takeable)\u001B[0m\n\u001B[0;32m   1234\u001B[0m     \u001B[38;5;28;01mreturn\u001B[39;00m \u001B[38;5;28mself\u001B[39m\u001B[38;5;241m.\u001B[39m_values[label]\n\u001B[0;32m   1236\u001B[0m \u001B[38;5;66;03m# Similar to Index.get_value, but we do not fall back to positional\u001B[39;00m\n\u001B[1;32m-> 1237\u001B[0m loc \u001B[38;5;241m=\u001B[39m \u001B[38;5;28;43mself\u001B[39;49m\u001B[38;5;241;43m.\u001B[39;49m\u001B[43mindex\u001B[49m\u001B[38;5;241;43m.\u001B[39;49m\u001B[43mget_loc\u001B[49m\u001B[43m(\u001B[49m\u001B[43mlabel\u001B[49m\u001B[43m)\u001B[49m\n\u001B[0;32m   1239\u001B[0m \u001B[38;5;28;01mif\u001B[39;00m is_integer(loc):\n\u001B[0;32m   1240\u001B[0m     \u001B[38;5;28;01mreturn\u001B[39;00m \u001B[38;5;28mself\u001B[39m\u001B[38;5;241m.\u001B[39m_values[loc]\n",
      "File \u001B[1;32m~\\Documents\\PycharmProjekte\\DeathsInvolvongPoliceDataAnalysis\\.venv\\Lib\\site-packages\\pandas\\core\\indexes\\base.py:3812\u001B[0m, in \u001B[0;36mIndex.get_loc\u001B[1;34m(self, key)\u001B[0m\n\u001B[0;32m   3807\u001B[0m     \u001B[38;5;28;01mif\u001B[39;00m \u001B[38;5;28misinstance\u001B[39m(casted_key, \u001B[38;5;28mslice\u001B[39m) \u001B[38;5;129;01mor\u001B[39;00m (\n\u001B[0;32m   3808\u001B[0m         \u001B[38;5;28misinstance\u001B[39m(casted_key, abc\u001B[38;5;241m.\u001B[39mIterable)\n\u001B[0;32m   3809\u001B[0m         \u001B[38;5;129;01mand\u001B[39;00m \u001B[38;5;28many\u001B[39m(\u001B[38;5;28misinstance\u001B[39m(x, \u001B[38;5;28mslice\u001B[39m) \u001B[38;5;28;01mfor\u001B[39;00m x \u001B[38;5;129;01min\u001B[39;00m casted_key)\n\u001B[0;32m   3810\u001B[0m     ):\n\u001B[0;32m   3811\u001B[0m         \u001B[38;5;28;01mraise\u001B[39;00m InvalidIndexError(key)\n\u001B[1;32m-> 3812\u001B[0m     \u001B[38;5;28;01mraise\u001B[39;00m \u001B[38;5;167;01mKeyError\u001B[39;00m(key) \u001B[38;5;28;01mfrom\u001B[39;00m \u001B[38;5;21;01merr\u001B[39;00m\n\u001B[0;32m   3813\u001B[0m \u001B[38;5;28;01mexcept\u001B[39;00m \u001B[38;5;167;01mTypeError\u001B[39;00m:\n\u001B[0;32m   3814\u001B[0m     \u001B[38;5;66;03m# If we have a listlike key, _check_indexing_error will raise\u001B[39;00m\n\u001B[0;32m   3815\u001B[0m     \u001B[38;5;66;03m#  InvalidIndexError. Otherwise we fall through and re-raise\u001B[39;00m\n\u001B[0;32m   3816\u001B[0m     \u001B[38;5;66;03m#  the TypeError.\u001B[39;00m\n\u001B[0;32m   3817\u001B[0m     \u001B[38;5;28mself\u001B[39m\u001B[38;5;241m.\u001B[39m_check_indexing_error(key)\n",
      "\u001B[1;31mKeyError\u001B[0m: 'number'"
     ]
    }
   ],
   "source": [
    "usa_race_df[\"number\"] = usa_race_df[\"number\"].astype(int)"
   ],
   "metadata": {
    "collapsed": false,
    "ExecuteTime": {
     "end_time": "2024-05-03T14:36:52.528856800Z",
     "start_time": "2024-05-03T14:36:52.460172600Z"
    }
   },
   "id": "acb43477e2eadcc0",
   "execution_count": 469
  },
  {
   "cell_type": "code",
   "outputs": [],
   "source": [
    "usa_race_df = pandas.DataFrame(usa_race_df)"
   ],
   "metadata": {
    "collapsed": false,
    "ExecuteTime": {
     "end_time": "2024-05-03T14:43:06.282552200Z",
     "start_time": "2024-05-03T14:43:06.053625800Z"
    }
   },
   "id": "b94e5bb764c0155b",
   "execution_count": 481
  },
  {
   "cell_type": "code",
   "outputs": [
    {
     "data": {
      "text/plain": "Index(['number'], dtype='object')"
     },
     "execution_count": 507,
     "metadata": {},
     "output_type": "execute_result"
    }
   ],
   "source": [
    "usa_race_df.columns"
   ],
   "metadata": {
    "collapsed": false,
    "ExecuteTime": {
     "end_time": "2024-05-03T15:38:52.358785400Z",
     "start_time": "2024-05-03T15:38:52.257104500Z"
    }
   },
   "id": "2d5feabd5c710b3",
   "execution_count": 507
  },
  {
   "cell_type": "code",
   "outputs": [],
   "source": [
    "usa_race_df[\"number\"] = usa_race_df[\"number\"].astype(int)"
   ],
   "metadata": {
    "collapsed": false,
    "ExecuteTime": {
     "end_time": "2024-05-03T15:40:48.255238100Z",
     "start_time": "2024-05-03T15:40:48.158319300Z"
    }
   },
   "id": "d9e8fda70c077658",
   "execution_count": 514
  },
  {
   "cell_type": "code",
   "outputs": [],
   "source": [
    "usa_race_df.index = [\"White\", \"Black\"]"
   ],
   "metadata": {
    "collapsed": false,
    "ExecuteTime": {
     "end_time": "2024-05-03T15:48:19.701202200Z",
     "start_time": "2024-05-03T15:48:19.588161400Z"
    }
   },
   "id": "7251f81bceb69a88",
   "execution_count": 526
  },
  {
   "cell_type": "code",
   "outputs": [
    {
     "data": {
      "text/plain": "          number\nWhite  202889017\nBlack   40603656",
      "text/html": "<div>\n<style scoped>\n    .dataframe tbody tr th:only-of-type {\n        vertical-align: middle;\n    }\n\n    .dataframe tbody tr th {\n        vertical-align: top;\n    }\n\n    .dataframe thead th {\n        text-align: right;\n    }\n</style>\n<table border=\"1\" class=\"dataframe\">\n  <thead>\n    <tr style=\"text-align: right;\">\n      <th></th>\n      <th>number</th>\n    </tr>\n  </thead>\n  <tbody>\n    <tr>\n      <th>White</th>\n      <td>202889017</td>\n    </tr>\n    <tr>\n      <th>Black</th>\n      <td>40603656</td>\n    </tr>\n  </tbody>\n</table>\n</div>"
     },
     "execution_count": 527,
     "metadata": {},
     "output_type": "execute_result"
    }
   ],
   "source": [
    "usa_race_df"
   ],
   "metadata": {
    "collapsed": false,
    "ExecuteTime": {
     "end_time": "2024-05-03T15:48:22.013994800Z",
     "start_time": "2024-05-03T15:48:21.911666600Z"
    }
   },
   "id": "fd9344092c400838",
   "execution_count": 527
  },
  {
   "cell_type": "code",
   "outputs": [
    {
     "data": {
      "text/plain": "<Figure size 640x480 with 1 Axes>",
      "image/png": "[encoded data removed]"
     },
     "metadata": {},
     "output_type": "display_data"
    }
   ],
   "source": [
    "sns.barplot(data = usa_race_df, x=usa_race_df.index, y=usa_race_df[\"number\"])\n",
    "plt.show()"
   ],
   "metadata": {
    "collapsed": false,
    "ExecuteTime": {
     "end_time": "2024-05-03T15:48:40.869502900Z",
     "start_time": "2024-05-03T15:48:40.703419700Z"
    }
   },
   "id": "d4c87a47cef1ded9",
   "execution_count": 528
  },
  {
   "cell_type": "code",
   "outputs": [],
   "source": [
    "age_and_sex_data = pandas.read_csv(\"AgeAndSex.csv\")"
   ],
   "metadata": {
    "collapsed": false,
    "ExecuteTime": {
     "end_time": "2024-05-03T15:51:24.364467700Z",
     "start_time": "2024-05-03T15:51:24.272393200Z"
    }
   },
   "id": "de83c1f603d49a92",
   "execution_count": 529
  },
  {
   "cell_type": "code",
   "outputs": [],
   "source": [
    "age_and_sex_df = pandas.DataFrame(age_and_sex_data)"
   ],
   "metadata": {
    "collapsed": false,
    "ExecuteTime": {
     "end_time": "2024-05-03T15:51:45.888776Z",
     "start_time": "2024-05-03T15:51:45.808547400Z"
    }
   },
   "id": "be79ade7193a9250",
   "execution_count": 530
  },
  {
   "cell_type": "code",
   "outputs": [
    {
     "data": {
      "text/plain": "Index(['Label (Grouping)', 'United States!!Total!!Estimate',\n       'United States!!Total!!Margin of Error',\n       'United States!!Percent!!Estimate',\n       'United States!!Percent!!Margin of Error',\n       'United States!!Male!!Estimate', 'United States!!Male!!Margin of Error',\n       'United States!!Percent Male!!Estimate',\n       'United States!!Percent Male!!Margin of Error',\n       'United States!!Female!!Estimate',\n       'United States!!Female!!Margin of Error',\n       'United States!!Percent Female!!Estimate',\n       'United States!!Percent Female!!Margin of Error'],\n      dtype='object')"
     },
     "execution_count": 534,
     "metadata": {},
     "output_type": "execute_result"
    }
   ],
   "source": [
    "age_and_sex_df.columns = [\"age_group\"]"
   ],
   "metadata": {
    "collapsed": false,
    "ExecuteTime": {
     "end_time": "2024-05-03T15:53:31.343096400Z",
     "start_time": "2024-05-03T15:53:31.207696300Z"
    }
   },
   "id": "dc2fd4cf9341485d",
   "execution_count": 534
  },
  {
   "cell_type": "code",
   "outputs": [],
   "source": [
    "age_and_sex_df[\"United States!!Total!!Estimate\"] = age_and_sex_df[\"United States!!Total!!Estimate\"].str.replace(\",\", \"\")"
   ],
   "metadata": {
    "collapsed": false,
    "ExecuteTime": {
     "end_time": "2024-05-03T16:04:36.798266700Z",
     "start_time": "2024-05-03T16:04:36.702350200Z"
    }
   },
   "id": "4b5937c487f09957",
   "execution_count": 537
  },
  {
   "cell_type": "code",
   "outputs": [
    {
     "ename": "ValueError",
     "evalue": "cannot convert float NaN to integer",
     "output_type": "error",
     "traceback": [
      "\u001B[1;31m---------------------------------------------------------------------------\u001B[0m",
      "\u001B[1;31mValueError\u001B[0m                                Traceback (most recent call last)",
      "Cell \u001B[1;32mIn[544], line 1\u001B[0m\n\u001B[1;32m----> 1\u001B[0m age_and_sex_df[\u001B[38;5;124m\"\u001B[39m\u001B[38;5;124mUnited States!!Total!!Estimate\u001B[39m\u001B[38;5;124m\"\u001B[39m] \u001B[38;5;241m=\u001B[39m \u001B[43mage_and_sex_df\u001B[49m\u001B[43m[\u001B[49m\u001B[38;5;124;43m\"\u001B[39;49m\u001B[38;5;124;43mUnited States!!Total!!Estimate\u001B[39;49m\u001B[38;5;124;43m\"\u001B[39;49m\u001B[43m]\u001B[49m\u001B[38;5;241;43m.\u001B[39;49m\u001B[43mastype\u001B[49m\u001B[43m(\u001B[49m\u001B[38;5;28;43mint\u001B[39;49m\u001B[43m)\u001B[49m\n",
      "File \u001B[1;32m~\\Documents\\PycharmProjekte\\DeathsInvolvongPoliceDataAnalysis\\.venv\\Lib\\site-packages\\pandas\\core\\generic.py:6643\u001B[0m, in \u001B[0;36mNDFrame.astype\u001B[1;34m(self, dtype, copy, errors)\u001B[0m\n\u001B[0;32m   6637\u001B[0m     results \u001B[38;5;241m=\u001B[39m [\n\u001B[0;32m   6638\u001B[0m         ser\u001B[38;5;241m.\u001B[39mastype(dtype, copy\u001B[38;5;241m=\u001B[39mcopy, errors\u001B[38;5;241m=\u001B[39merrors) \u001B[38;5;28;01mfor\u001B[39;00m _, ser \u001B[38;5;129;01min\u001B[39;00m \u001B[38;5;28mself\u001B[39m\u001B[38;5;241m.\u001B[39mitems()\n\u001B[0;32m   6639\u001B[0m     ]\n\u001B[0;32m   6641\u001B[0m \u001B[38;5;28;01melse\u001B[39;00m:\n\u001B[0;32m   6642\u001B[0m     \u001B[38;5;66;03m# else, only a single dtype is given\u001B[39;00m\n\u001B[1;32m-> 6643\u001B[0m     new_data \u001B[38;5;241m=\u001B[39m \u001B[38;5;28;43mself\u001B[39;49m\u001B[38;5;241;43m.\u001B[39;49m\u001B[43m_mgr\u001B[49m\u001B[38;5;241;43m.\u001B[39;49m\u001B[43mastype\u001B[49m\u001B[43m(\u001B[49m\u001B[43mdtype\u001B[49m\u001B[38;5;241;43m=\u001B[39;49m\u001B[43mdtype\u001B[49m\u001B[43m,\u001B[49m\u001B[43m \u001B[49m\u001B[43mcopy\u001B[49m\u001B[38;5;241;43m=\u001B[39;49m\u001B[43mcopy\u001B[49m\u001B[43m,\u001B[49m\u001B[43m \u001B[49m\u001B[43merrors\u001B[49m\u001B[38;5;241;43m=\u001B[39;49m\u001B[43merrors\u001B[49m\u001B[43m)\u001B[49m\n\u001B[0;32m   6644\u001B[0m     res \u001B[38;5;241m=\u001B[39m \u001B[38;5;28mself\u001B[39m\u001B[38;5;241m.\u001B[39m_constructor_from_mgr(new_data, axes\u001B[38;5;241m=\u001B[39mnew_data\u001B[38;5;241m.\u001B[39maxes)\n\u001B[0;32m   6645\u001B[0m     \u001B[38;5;28;01mreturn\u001B[39;00m res\u001B[38;5;241m.\u001B[39m__finalize__(\u001B[38;5;28mself\u001B[39m, method\u001B[38;5;241m=\u001B[39m\u001B[38;5;124m\"\u001B[39m\u001B[38;5;124mastype\u001B[39m\u001B[38;5;124m\"\u001B[39m)\n",
      "File \u001B[1;32m~\\Documents\\PycharmProjekte\\DeathsInvolvongPoliceDataAnalysis\\.venv\\Lib\\site-packages\\pandas\\core\\internals\\managers.py:430\u001B[0m, in \u001B[0;36mBaseBlockManager.astype\u001B[1;34m(self, dtype, copy, errors)\u001B[0m\n\u001B[0;32m    427\u001B[0m \u001B[38;5;28;01melif\u001B[39;00m using_copy_on_write():\n\u001B[0;32m    428\u001B[0m     copy \u001B[38;5;241m=\u001B[39m \u001B[38;5;28;01mFalse\u001B[39;00m\n\u001B[1;32m--> 430\u001B[0m \u001B[38;5;28;01mreturn\u001B[39;00m \u001B[38;5;28;43mself\u001B[39;49m\u001B[38;5;241;43m.\u001B[39;49m\u001B[43mapply\u001B[49m\u001B[43m(\u001B[49m\n\u001B[0;32m    431\u001B[0m \u001B[43m    \u001B[49m\u001B[38;5;124;43m\"\u001B[39;49m\u001B[38;5;124;43mastype\u001B[39;49m\u001B[38;5;124;43m\"\u001B[39;49m\u001B[43m,\u001B[49m\n\u001B[0;32m    432\u001B[0m \u001B[43m    \u001B[49m\u001B[43mdtype\u001B[49m\u001B[38;5;241;43m=\u001B[39;49m\u001B[43mdtype\u001B[49m\u001B[43m,\u001B[49m\n\u001B[0;32m    433\u001B[0m \u001B[43m    \u001B[49m\u001B[43mcopy\u001B[49m\u001B[38;5;241;43m=\u001B[39;49m\u001B[43mcopy\u001B[49m\u001B[43m,\u001B[49m\n\u001B[0;32m    434\u001B[0m \u001B[43m    \u001B[49m\u001B[43merrors\u001B[49m\u001B[38;5;241;43m=\u001B[39;49m\u001B[43merrors\u001B[49m\u001B[43m,\u001B[49m\n\u001B[0;32m    435\u001B[0m \u001B[43m    \u001B[49m\u001B[43musing_cow\u001B[49m\u001B[38;5;241;43m=\u001B[39;49m\u001B[43musing_copy_on_write\u001B[49m\u001B[43m(\u001B[49m\u001B[43m)\u001B[49m\u001B[43m,\u001B[49m\n\u001B[0;32m    436\u001B[0m \u001B[43m\u001B[49m\u001B[43m)\u001B[49m\n",
      "File \u001B[1;32m~\\Documents\\PycharmProjekte\\DeathsInvolvongPoliceDataAnalysis\\.venv\\Lib\\site-packages\\pandas\\core\\internals\\managers.py:363\u001B[0m, in \u001B[0;36mBaseBlockManager.apply\u001B[1;34m(self, f, align_keys, **kwargs)\u001B[0m\n\u001B[0;32m    361\u001B[0m         applied \u001B[38;5;241m=\u001B[39m b\u001B[38;5;241m.\u001B[39mapply(f, \u001B[38;5;241m*\u001B[39m\u001B[38;5;241m*\u001B[39mkwargs)\n\u001B[0;32m    362\u001B[0m     \u001B[38;5;28;01melse\u001B[39;00m:\n\u001B[1;32m--> 363\u001B[0m         applied \u001B[38;5;241m=\u001B[39m \u001B[38;5;28;43mgetattr\u001B[39;49m\u001B[43m(\u001B[49m\u001B[43mb\u001B[49m\u001B[43m,\u001B[49m\u001B[43m \u001B[49m\u001B[43mf\u001B[49m\u001B[43m)\u001B[49m\u001B[43m(\u001B[49m\u001B[38;5;241;43m*\u001B[39;49m\u001B[38;5;241;43m*\u001B[39;49m\u001B[43mkwargs\u001B[49m\u001B[43m)\u001B[49m\n\u001B[0;32m    364\u001B[0m     result_blocks \u001B[38;5;241m=\u001B[39m extend_blocks(applied, result_blocks)\n\u001B[0;32m    366\u001B[0m out \u001B[38;5;241m=\u001B[39m \u001B[38;5;28mtype\u001B[39m(\u001B[38;5;28mself\u001B[39m)\u001B[38;5;241m.\u001B[39mfrom_blocks(result_blocks, \u001B[38;5;28mself\u001B[39m\u001B[38;5;241m.\u001B[39maxes)\n",
      "File \u001B[1;32m~\\Documents\\PycharmProjekte\\DeathsInvolvongPoliceDataAnalysis\\.venv\\Lib\\site-packages\\pandas\\core\\internals\\blocks.py:758\u001B[0m, in \u001B[0;36mBlock.astype\u001B[1;34m(self, dtype, copy, errors, using_cow, squeeze)\u001B[0m\n\u001B[0;32m    755\u001B[0m         \u001B[38;5;28;01mraise\u001B[39;00m \u001B[38;5;167;01mValueError\u001B[39;00m(\u001B[38;5;124m\"\u001B[39m\u001B[38;5;124mCan not squeeze with more than one column.\u001B[39m\u001B[38;5;124m\"\u001B[39m)\n\u001B[0;32m    756\u001B[0m     values \u001B[38;5;241m=\u001B[39m values[\u001B[38;5;241m0\u001B[39m, :]  \u001B[38;5;66;03m# type: ignore[call-overload]\u001B[39;00m\n\u001B[1;32m--> 758\u001B[0m new_values \u001B[38;5;241m=\u001B[39m \u001B[43mastype_array_safe\u001B[49m\u001B[43m(\u001B[49m\u001B[43mvalues\u001B[49m\u001B[43m,\u001B[49m\u001B[43m \u001B[49m\u001B[43mdtype\u001B[49m\u001B[43m,\u001B[49m\u001B[43m \u001B[49m\u001B[43mcopy\u001B[49m\u001B[38;5;241;43m=\u001B[39;49m\u001B[43mcopy\u001B[49m\u001B[43m,\u001B[49m\u001B[43m \u001B[49m\u001B[43merrors\u001B[49m\u001B[38;5;241;43m=\u001B[39;49m\u001B[43merrors\u001B[49m\u001B[43m)\u001B[49m\n\u001B[0;32m    760\u001B[0m new_values \u001B[38;5;241m=\u001B[39m maybe_coerce_values(new_values)\n\u001B[0;32m    762\u001B[0m refs \u001B[38;5;241m=\u001B[39m \u001B[38;5;28;01mNone\u001B[39;00m\n",
      "File \u001B[1;32m~\\Documents\\PycharmProjekte\\DeathsInvolvongPoliceDataAnalysis\\.venv\\Lib\\site-packages\\pandas\\core\\dtypes\\astype.py:237\u001B[0m, in \u001B[0;36mastype_array_safe\u001B[1;34m(values, dtype, copy, errors)\u001B[0m\n\u001B[0;32m    234\u001B[0m     dtype \u001B[38;5;241m=\u001B[39m dtype\u001B[38;5;241m.\u001B[39mnumpy_dtype\n\u001B[0;32m    236\u001B[0m \u001B[38;5;28;01mtry\u001B[39;00m:\n\u001B[1;32m--> 237\u001B[0m     new_values \u001B[38;5;241m=\u001B[39m \u001B[43mastype_array\u001B[49m\u001B[43m(\u001B[49m\u001B[43mvalues\u001B[49m\u001B[43m,\u001B[49m\u001B[43m \u001B[49m\u001B[43mdtype\u001B[49m\u001B[43m,\u001B[49m\u001B[43m \u001B[49m\u001B[43mcopy\u001B[49m\u001B[38;5;241;43m=\u001B[39;49m\u001B[43mcopy\u001B[49m\u001B[43m)\u001B[49m\n\u001B[0;32m    238\u001B[0m \u001B[38;5;28;01mexcept\u001B[39;00m (\u001B[38;5;167;01mValueError\u001B[39;00m, \u001B[38;5;167;01mTypeError\u001B[39;00m):\n\u001B[0;32m    239\u001B[0m     \u001B[38;5;66;03m# e.g. _astype_nansafe can fail on object-dtype of strings\u001B[39;00m\n\u001B[0;32m    240\u001B[0m     \u001B[38;5;66;03m#  trying to convert to float\u001B[39;00m\n\u001B[0;32m    241\u001B[0m     \u001B[38;5;28;01mif\u001B[39;00m errors \u001B[38;5;241m==\u001B[39m \u001B[38;5;124m\"\u001B[39m\u001B[38;5;124mignore\u001B[39m\u001B[38;5;124m\"\u001B[39m:\n",
      "File \u001B[1;32m~\\Documents\\PycharmProjekte\\DeathsInvolvongPoliceDataAnalysis\\.venv\\Lib\\site-packages\\pandas\\core\\dtypes\\astype.py:182\u001B[0m, in \u001B[0;36mastype_array\u001B[1;34m(values, dtype, copy)\u001B[0m\n\u001B[0;32m    179\u001B[0m     values \u001B[38;5;241m=\u001B[39m values\u001B[38;5;241m.\u001B[39mastype(dtype, copy\u001B[38;5;241m=\u001B[39mcopy)\n\u001B[0;32m    181\u001B[0m \u001B[38;5;28;01melse\u001B[39;00m:\n\u001B[1;32m--> 182\u001B[0m     values \u001B[38;5;241m=\u001B[39m \u001B[43m_astype_nansafe\u001B[49m\u001B[43m(\u001B[49m\u001B[43mvalues\u001B[49m\u001B[43m,\u001B[49m\u001B[43m \u001B[49m\u001B[43mdtype\u001B[49m\u001B[43m,\u001B[49m\u001B[43m \u001B[49m\u001B[43mcopy\u001B[49m\u001B[38;5;241;43m=\u001B[39;49m\u001B[43mcopy\u001B[49m\u001B[43m)\u001B[49m\n\u001B[0;32m    184\u001B[0m \u001B[38;5;66;03m# in pandas we don't store numpy str dtypes, so convert to object\u001B[39;00m\n\u001B[0;32m    185\u001B[0m \u001B[38;5;28;01mif\u001B[39;00m \u001B[38;5;28misinstance\u001B[39m(dtype, np\u001B[38;5;241m.\u001B[39mdtype) \u001B[38;5;129;01mand\u001B[39;00m \u001B[38;5;28missubclass\u001B[39m(values\u001B[38;5;241m.\u001B[39mdtype\u001B[38;5;241m.\u001B[39mtype, \u001B[38;5;28mstr\u001B[39m):\n",
      "File \u001B[1;32m~\\Documents\\PycharmProjekte\\DeathsInvolvongPoliceDataAnalysis\\.venv\\Lib\\site-packages\\pandas\\core\\dtypes\\astype.py:133\u001B[0m, in \u001B[0;36m_astype_nansafe\u001B[1;34m(arr, dtype, copy, skipna)\u001B[0m\n\u001B[0;32m    129\u001B[0m     \u001B[38;5;28;01mraise\u001B[39;00m \u001B[38;5;167;01mValueError\u001B[39;00m(msg)\n\u001B[0;32m    131\u001B[0m \u001B[38;5;28;01mif\u001B[39;00m copy \u001B[38;5;129;01mor\u001B[39;00m arr\u001B[38;5;241m.\u001B[39mdtype \u001B[38;5;241m==\u001B[39m \u001B[38;5;28mobject\u001B[39m \u001B[38;5;129;01mor\u001B[39;00m dtype \u001B[38;5;241m==\u001B[39m \u001B[38;5;28mobject\u001B[39m:\n\u001B[0;32m    132\u001B[0m     \u001B[38;5;66;03m# Explicit copy, or required since NumPy can't view from / to object.\u001B[39;00m\n\u001B[1;32m--> 133\u001B[0m     \u001B[38;5;28;01mreturn\u001B[39;00m \u001B[43marr\u001B[49m\u001B[38;5;241;43m.\u001B[39;49m\u001B[43mastype\u001B[49m\u001B[43m(\u001B[49m\u001B[43mdtype\u001B[49m\u001B[43m,\u001B[49m\u001B[43m \u001B[49m\u001B[43mcopy\u001B[49m\u001B[38;5;241;43m=\u001B[39;49m\u001B[38;5;28;43;01mTrue\u001B[39;49;00m\u001B[43m)\u001B[49m\n\u001B[0;32m    135\u001B[0m \u001B[38;5;28;01mreturn\u001B[39;00m arr\u001B[38;5;241m.\u001B[39mastype(dtype, copy\u001B[38;5;241m=\u001B[39mcopy)\n",
      "\u001B[1;31mValueError\u001B[0m: cannot convert float NaN to integer"
     ]
    }
   ],
   "source": [
    "age_and_sex_df[\"United States!!Total!!Estimate\"] = age_and_sex_df[\"United States!!Total!!Estimate\"].astype(int)"
   ],
   "metadata": {
    "collapsed": false,
    "ExecuteTime": {
     "end_time": "2024-05-03T16:06:26.984918500Z",
     "start_time": "2024-05-03T16:06:26.919969900Z"
    }
   },
   "id": "8362979960255d1c",
   "execution_count": 544
  },
  {
   "cell_type": "code",
   "outputs": [
    {
     "data": {
      "text/plain": "                             Label (Grouping) United States!!Total!!Estimate  \\\n0                            Total population                      333287562   \n1                                         AGE                            NaN   \n2                               Under 5 years                       18358199   \n3                                5 to 9 years                       19770314   \n4                              10 to 14 years                       21220214   \n5                              15 to 19 years                       21785658   \n6                              20 to 24 years                       22446040   \n7                              25 to 29 years                       22007628   \n8                              30 to 34 years                       23225636   \n9                              35 to 39 years                       22335859   \n10                             40 to 44 years                       21711785   \n11                             45 to 49 years                       19640925   \n12                             50 to 54 years                       20835521   \n13                             55 to 59 years                       20553615   \n14                             60 to 64 years                       21573853   \n15                             65 to 69 years                       18559497   \n16                             70 to 74 years                       15338575   \n17                             75 to 79 years                       11005461   \n18                             80 to 84 years                        6758839   \n19                          85 years and over                        6159943   \n20                    SELECTED AGE CATEGORIES                            NaN   \n21                              5 to 14 years                       40990528   \n22                             15 to 17 years                       12976875   \n23                             Under 18 years                       72325602   \n24                             18 to 24 years                       31254823   \n25                             15 to 44 years                      133512606   \n26                          16 years and over                      269555318   \n27                          18 years and over                      260961960   \n28                          21 years and over                      247659649   \n29                          60 years and over                       79396168   \n30                          62 years and over                       70685247   \n31                          65 years and over                       57822315   \n32                          75 years and over                       23924243   \n33                         SUMMARY INDICATORS                            NaN   \n34                         Median age (years)                           39.0   \n35          Sex ratio (males per 100 females)                           98.3   \n36                       Age dependency ratio                           64.1   \n37                   Old-age dependency ratio                           28.5   \n38                     Child dependency ratio                           35.6   \n39                          PERCENT ALLOCATED                            NaN   \n40                                        Sex                            (X)   \n41                                        Age                            (X)   \n\n   United States!!Total!!Margin of Error United States!!Percent!!Estimate  \\\n0                                  *****                              (X)   \n1                                    NaN                              NaN   \n2                                ±18,313                             5.5%   \n3                                ±74,288                             5.9%   \n4                                ±73,259                             6.4%   \n5                                ±36,858                             6.5%   \n6                                ±36,578                             6.7%   \n7                                ±35,988                             6.6%   \n8                                ±27,473                             7.0%   \n9                                ±71,580                             6.7%   \n10                               ±64,053                             6.5%   \n11                               ±22,570                             5.9%   \n12                               ±24,037                             6.3%   \n13                               ±65,466                             6.2%   \n14                               ±65,896                             6.5%   \n15                               ±48,925                             5.6%   \n16                               ±47,915                             4.6%   \n17                               ±38,819                             3.3%   \n18                               ±37,355                             2.0%   \n19                               ±36,366                             1.8%   \n20                                   NaN                              NaN   \n21                               ±35,051                            12.3%   \n22                               ±17,315                             3.9%   \n23                               ±31,891                            21.7%   \n24                               ±43,699                             9.4%   \n25                               ±31,556                            40.1%   \n26                               ±51,570                            80.9%   \n27                               ±31,876                            78.3%   \n28                               ±76,518                            74.3%   \n29                               ±72,416                            23.8%   \n30                               ±60,943                            21.2%   \n31                               ±24,459                            17.3%   \n32                               ±17,561                             7.2%   \n33                                   NaN                              NaN   \n34                                  ±0.1                              (X)   \n35                                  ±0.1                              (X)   \n36                                  ±0.1                              (X)   \n37                                  ±0.1                              (X)   \n38                                  ±0.1                              (X)   \n39                                   NaN                              NaN   \n40                                   (X)                             0.0%   \n41                                   (X)                             1.4%   \n\n   United States!!Percent!!Margin of Error United States!!Male!!Estimate  \\\n0                                      (X)                   165,228,214   \n1                                      NaN                           NaN   \n2                                     ±0.1                     9,394,890   \n3                                     ±0.1                    10,110,917   \n4                                     ±0.1                    10,892,415   \n5                                     ±0.1                    11,167,522   \n6                                     ±0.1                    11,488,577   \n7                                     ±0.1                    11,245,260   \n8                                     ±0.1                    11,785,090   \n9                                     ±0.1                    11,322,522   \n10                                    ±0.1                    10,939,843   \n11                                    ±0.1                     9,853,198   \n12                                    ±0.1                    10,447,394   \n13                                    ±0.1                    10,163,454   \n14                                    ±0.1                    10,492,488   \n15                                    ±0.1                     8,798,968   \n16                                    ±0.1                     7,149,850   \n17                                    ±0.1                     4,901,587   \n18                                    ±0.1                     2,861,152   \n19                                    ±0.1                     2,213,087   \n20                                     NaN                           NaN   \n21                                    ±0.1                    21,003,332   \n22                                    ±0.1                     6,655,455   \n23                                    ±0.1                    37,053,677   \n24                                    ±0.1                    16,000,644   \n25                                    ±0.1                    67,948,814   \n26                                    ±0.1                   132,607,016   \n27                                    ±0.1                   128,174,537   \n28                                    ±0.1                   121,344,241   \n29                                    ±0.1                    36,417,132   \n30                                    ±0.1                    32,135,422   \n31                                    ±0.1                    25,924,644   \n32                                    ±0.1                     9,975,826   \n33                                     NaN                           NaN   \n34                                     (X)                          37.9   \n35                                     (X)                           (X)   \n36                                     (X)                           (X)   \n37                                     (X)                           (X)   \n38                                     (X)                           (X)   \n39                                     NaN                           NaN   \n40                                     (X)                           (X)   \n41                                     (X)                           (X)   \n\n   United States!!Male!!Margin of Error United States!!Percent Male!!Estimate  \\\n0                               ±33,974                                   (X)   \n1                                   NaN                                   NaN   \n2                               ±17,175                                  5.7%   \n3                               ±44,770                                  6.1%   \n4                               ±44,625                                  6.6%   \n5                               ±29,157                                  6.8%   \n6                               ±25,511                                  7.0%   \n7                               ±22,926                                  6.8%   \n8                               ±18,217                                  7.1%   \n9                               ±46,238                                  6.9%   \n10                              ±43,458                                  6.6%   \n11                              ±19,288                                  6.0%   \n12                              ±17,510                                  6.3%   \n13                              ±41,061                                  6.2%   \n14                              ±39,776                                  6.4%   \n15                              ±28,988                                  5.3%   \n16                              ±29,313                                  4.3%   \n17                              ±27,680                                  3.0%   \n18                              ±22,549                                  1.7%   \n19                              ±21,772                                  1.3%   \n20                                  NaN                                   NaN   \n21                              ±21,855                                 12.7%   \n22                              ±18,325                                  4.0%   \n23                              ±31,397                                 22.4%   \n24                              ±24,967                                  9.7%   \n25                              ±26,513                                 41.1%   \n26                              ±41,773                                 80.3%   \n27                              ±26,318                                 77.6%   \n28                              ±51,806                                 73.4%   \n29                              ±41,674                                 22.0%   \n30                              ±37,727                                 19.4%   \n31                              ±13,171                                 15.7%   \n32                              ±10,712                                  6.0%   \n33                                  NaN                                   NaN   \n34                                 ±0.2                                   (X)   \n35                                  (X)                                   (X)   \n36                                  (X)                                   (X)   \n37                                  (X)                                   (X)   \n38                                  (X)                                   (X)   \n39                                  NaN                                   NaN   \n40                                  (X)                                   (X)   \n41                                  (X)                                   (X)   \n\n   United States!!Percent Male!!Margin of Error  \\\n0                                           (X)   \n1                                           NaN   \n2                                          ±0.1   \n3                                          ±0.1   \n4                                          ±0.1   \n5                                          ±0.1   \n6                                          ±0.1   \n7                                          ±0.1   \n8                                          ±0.1   \n9                                          ±0.1   \n10                                         ±0.1   \n11                                         ±0.1   \n12                                         ±0.1   \n13                                         ±0.1   \n14                                         ±0.1   \n15                                         ±0.1   \n16                                         ±0.1   \n17                                         ±0.1   \n18                                         ±0.1   \n19                                         ±0.1   \n20                                          NaN   \n21                                         ±0.1   \n22                                         ±0.1   \n23                                         ±0.1   \n24                                         ±0.1   \n25                                         ±0.1   \n26                                         ±0.1   \n27                                         ±0.1   \n28                                         ±0.1   \n29                                         ±0.1   \n30                                         ±0.1   \n31                                         ±0.1   \n32                                         ±0.1   \n33                                          NaN   \n34                                          (X)   \n35                                          (X)   \n36                                          (X)   \n37                                          (X)   \n38                                          (X)   \n39                                          NaN   \n40                                          (X)   \n41                                          (X)   \n\n   United States!!Female!!Estimate United States!!Female!!Margin of Error  \\\n0                      168,059,348                                ±33,976   \n1                              NaN                                    NaN   \n2                        8,963,309                                ±16,776   \n3                        9,659,397                                ±50,753   \n4                       10,327,799                                ±50,648   \n5                       10,618,136                                ±27,752   \n6                       10,957,463                                ±23,972   \n7                       10,762,368                                ±22,118   \n8                       11,440,546                                ±18,915   \n9                       11,013,337                                ±44,732   \n10                      10,771,942                                ±42,627   \n11                       9,787,727                                ±14,299   \n12                      10,388,127                                ±15,537   \n13                      10,390,161                                ±41,393   \n14                      11,081,365                                ±42,138   \n15                       9,760,529                                ±33,797   \n16                       8,188,725                                ±31,650   \n17                       6,103,874                                ±28,196   \n18                       3,897,687                                ±29,430   \n19                       3,946,856                                ±26,394   \n20                             NaN                                    NaN   \n21                      19,987,196                                ±23,380   \n22                       6,321,420                                ±17,493   \n23                      35,271,925                                ±31,368   \n24                      15,254,179                                ±25,427   \n25                      65,563,792                                ±27,137   \n26                     136,948,302                                ±35,991   \n27                     132,787,423                                ±21,770   \n28                     126,315,408                                ±44,412   \n29                      42,979,036                                ±46,925   \n30                      38,549,825                                ±39,097   \n31                      31,897,671                                ±15,875   \n32                      13,948,417                                ±11,126   \n33                             NaN                                    NaN   \n34                            40.1                                   ±0.1   \n35                             (X)                                    (X)   \n36                             (X)                                    (X)   \n37                             (X)                                    (X)   \n38                             (X)                                    (X)   \n39                             NaN                                    NaN   \n40                             (X)                                    (X)   \n41                             (X)                                    (X)   \n\n   United States!!Percent Female!!Estimate  \\\n0                                      (X)   \n1                                      NaN   \n2                                     5.3%   \n3                                     5.7%   \n4                                     6.1%   \n5                                     6.3%   \n6                                     6.5%   \n7                                     6.4%   \n8                                     6.8%   \n9                                     6.6%   \n10                                    6.4%   \n11                                    5.8%   \n12                                    6.2%   \n13                                    6.2%   \n14                                    6.6%   \n15                                    5.8%   \n16                                    4.9%   \n17                                    3.6%   \n18                                    2.3%   \n19                                    2.3%   \n20                                     NaN   \n21                                   11.9%   \n22                                    3.8%   \n23                                   21.0%   \n24                                    9.1%   \n25                                   39.0%   \n26                                   81.5%   \n27                                   79.0%   \n28                                   75.2%   \n29                                   25.6%   \n30                                   22.9%   \n31                                   19.0%   \n32                                    8.3%   \n33                                     NaN   \n34                                     (X)   \n35                                     (X)   \n36                                     (X)   \n37                                     (X)   \n38                                     (X)   \n39                                     NaN   \n40                                     (X)   \n41                                     (X)   \n\n   United States!!Percent Female!!Margin of Error  \n0                                             (X)  \n1                                             NaN  \n2                                            ±0.1  \n3                                            ±0.1  \n4                                            ±0.1  \n5                                            ±0.1  \n6                                            ±0.1  \n7                                            ±0.1  \n8                                            ±0.1  \n9                                            ±0.1  \n10                                           ±0.1  \n11                                           ±0.1  \n12                                           ±0.1  \n13                                           ±0.1  \n14                                           ±0.1  \n15                                           ±0.1  \n16                                           ±0.1  \n17                                           ±0.1  \n18                                           ±0.1  \n19                                           ±0.1  \n20                                            NaN  \n21                                           ±0.1  \n22                                           ±0.1  \n23                                           ±0.1  \n24                                           ±0.1  \n25                                           ±0.1  \n26                                           ±0.1  \n27                                           ±0.1  \n28                                           ±0.1  \n29                                           ±0.1  \n30                                           ±0.1  \n31                                           ±0.1  \n32                                           ±0.1  \n33                                            NaN  \n34                                            (X)  \n35                                            (X)  \n36                                            (X)  \n37                                            (X)  \n38                                            (X)  \n39                                            NaN  \n40                                            (X)  \n41                                            (X)  ",
      "text/html": "<div>\n<style scoped>\n    .dataframe tbody tr th:only-of-type {\n        vertical-align: middle;\n    }\n\n    .dataframe tbody tr th {\n        vertical-align: top;\n    }\n\n    .dataframe thead th {\n        text-align: right;\n    }\n</style>\n<table border=\"1\" class=\"dataframe\">\n  <thead>\n    <tr style=\"text-align: right;\">\n      <th></th>\n      <th>Label (Grouping)</th>\n      <th>United States!!Total!!Estimate</th>\n      <th>United States!!Total!!Margin of Error</th>\n      <th>United States!!Percent!!Estimate</th>\n      <th>United States!!Percent!!Margin of Error</th>\n      <th>United States!!Male!!Estimate</th>\n      <th>United States!!Male!!Margin of Error</th>\n      <th>United States!!Percent Male!!Estimate</th>\n      <th>United States!!Percent Male!!Margin of Error</th>\n      <th>United States!!Female!!Estimate</th>\n      <th>United States!!Female!!Margin of Error</th>\n      <th>United States!!Percent Female!!Estimate</th>\n      <th>United States!!Percent Female!!Margin of Error</th>\n    </tr>\n  </thead>\n  <tbody>\n    <tr>\n      <th>0</th>\n      <td>Total population</td>\n      <td>333287562</td>\n      <td>*****</td>\n      <td>(X)</td>\n      <td>(X)</td>\n      <td>165,228,214</td>\n      <td>±33,974</td>\n      <td>(X)</td>\n      <td>(X)</td>\n      <td>168,059,348</td>\n      <td>±33,976</td>\n      <td>(X)</td>\n      <td>(X)</td>\n    </tr>\n    <tr>\n      <th>1</th>\n      <td>AGE</td>\n      <td>NaN</td>\n      <td>NaN</td>\n      <td>NaN</td>\n      <td>NaN</td>\n      <td>NaN</td>\n      <td>NaN</td>\n      <td>NaN</td>\n      <td>NaN</td>\n      <td>NaN</td>\n      <td>NaN</td>\n      <td>NaN</td>\n      <td>NaN</td>\n    </tr>\n    <tr>\n      <th>2</th>\n      <td>Under 5 years</td>\n      <td>18358199</td>\n      <td>±18,313</td>\n      <td>5.5%</td>\n      <td>±0.1</td>\n      <td>9,394,890</td>\n      <td>±17,175</td>\n      <td>5.7%</td>\n      <td>±0.1</td>\n      <td>8,963,309</td>\n      <td>±16,776</td>\n      <td>5.3%</td>\n      <td>±0.1</td>\n    </tr>\n    <tr>\n      <th>3</th>\n      <td>5 to 9 years</td>\n      <td>19770314</td>\n      <td>±74,288</td>\n      <td>5.9%</td>\n      <td>±0.1</td>\n      <td>10,110,917</td>\n      <td>±44,770</td>\n      <td>6.1%</td>\n      <td>±0.1</td>\n      <td>9,659,397</td>\n      <td>±50,753</td>\n      <td>5.7%</td>\n      <td>±0.1</td>\n    </tr>\n    <tr>\n      <th>4</th>\n      <td>10 to 14 years</td>\n      <td>21220214</td>\n      <td>±73,259</td>\n      <td>6.4%</td>\n      <td>±0.1</td>\n      <td>10,892,415</td>\n      <td>±44,625</td>\n      <td>6.6%</td>\n      <td>±0.1</td>\n      <td>10,327,799</td>\n      <td>±50,648</td>\n      <td>6.1%</td>\n      <td>±0.1</td>\n    </tr>\n    <tr>\n      <th>5</th>\n      <td>15 to 19 years</td>\n      <td>21785658</td>\n      <td>±36,858</td>\n      <td>6.5%</td>\n      <td>±0.1</td>\n      <td>11,167,522</td>\n      <td>±29,157</td>\n      <td>6.8%</td>\n      <td>±0.1</td>\n      <td>10,618,136</td>\n      <td>±27,752</td>\n      <td>6.3%</td>\n      <td>±0.1</td>\n    </tr>\n    <tr>\n      <th>6</th>\n      <td>20 to 24 years</td>\n      <td>22446040</td>\n      <td>±36,578</td>\n      <td>6.7%</td>\n      <td>±0.1</td>\n      <td>11,488,577</td>\n      <td>±25,511</td>\n      <td>7.0%</td>\n      <td>±0.1</td>\n      <td>10,957,463</td>\n      <td>±23,972</td>\n      <td>6.5%</td>\n      <td>±0.1</td>\n    </tr>\n    <tr>\n      <th>7</th>\n      <td>25 to 29 years</td>\n      <td>22007628</td>\n      <td>±35,988</td>\n      <td>6.6%</td>\n      <td>±0.1</td>\n      <td>11,245,260</td>\n      <td>±22,926</td>\n      <td>6.8%</td>\n      <td>±0.1</td>\n      <td>10,762,368</td>\n      <td>±22,118</td>\n      <td>6.4%</td>\n      <td>±0.1</td>\n    </tr>\n    <tr>\n      <th>8</th>\n      <td>30 to 34 years</td>\n      <td>23225636</td>\n      <td>±27,473</td>\n      <td>7.0%</td>\n      <td>±0.1</td>\n      <td>11,785,090</td>\n      <td>±18,217</td>\n      <td>7.1%</td>\n      <td>±0.1</td>\n      <td>11,440,546</td>\n      <td>±18,915</td>\n      <td>6.8%</td>\n      <td>±0.1</td>\n    </tr>\n    <tr>\n      <th>9</th>\n      <td>35 to 39 years</td>\n      <td>22335859</td>\n      <td>±71,580</td>\n      <td>6.7%</td>\n      <td>±0.1</td>\n      <td>11,322,522</td>\n      <td>±46,238</td>\n      <td>6.9%</td>\n      <td>±0.1</td>\n      <td>11,013,337</td>\n      <td>±44,732</td>\n      <td>6.6%</td>\n      <td>±0.1</td>\n    </tr>\n    <tr>\n      <th>10</th>\n      <td>40 to 44 years</td>\n      <td>21711785</td>\n      <td>±64,053</td>\n      <td>6.5%</td>\n      <td>±0.1</td>\n      <td>10,939,843</td>\n      <td>±43,458</td>\n      <td>6.6%</td>\n      <td>±0.1</td>\n      <td>10,771,942</td>\n      <td>±42,627</td>\n      <td>6.4%</td>\n      <td>±0.1</td>\n    </tr>\n    <tr>\n      <th>11</th>\n      <td>45 to 49 years</td>\n      <td>19640925</td>\n      <td>±22,570</td>\n      <td>5.9%</td>\n      <td>±0.1</td>\n      <td>9,853,198</td>\n      <td>±19,288</td>\n      <td>6.0%</td>\n      <td>±0.1</td>\n      <td>9,787,727</td>\n      <td>±14,299</td>\n      <td>5.8%</td>\n      <td>±0.1</td>\n    </tr>\n    <tr>\n      <th>12</th>\n      <td>50 to 54 years</td>\n      <td>20835521</td>\n      <td>±24,037</td>\n      <td>6.3%</td>\n      <td>±0.1</td>\n      <td>10,447,394</td>\n      <td>±17,510</td>\n      <td>6.3%</td>\n      <td>±0.1</td>\n      <td>10,388,127</td>\n      <td>±15,537</td>\n      <td>6.2%</td>\n      <td>±0.1</td>\n    </tr>\n    <tr>\n      <th>13</th>\n      <td>55 to 59 years</td>\n      <td>20553615</td>\n      <td>±65,466</td>\n      <td>6.2%</td>\n      <td>±0.1</td>\n      <td>10,163,454</td>\n      <td>±41,061</td>\n      <td>6.2%</td>\n      <td>±0.1</td>\n      <td>10,390,161</td>\n      <td>±41,393</td>\n      <td>6.2%</td>\n      <td>±0.1</td>\n    </tr>\n    <tr>\n      <th>14</th>\n      <td>60 to 64 years</td>\n      <td>21573853</td>\n      <td>±65,896</td>\n      <td>6.5%</td>\n      <td>±0.1</td>\n      <td>10,492,488</td>\n      <td>±39,776</td>\n      <td>6.4%</td>\n      <td>±0.1</td>\n      <td>11,081,365</td>\n      <td>±42,138</td>\n      <td>6.6%</td>\n      <td>±0.1</td>\n    </tr>\n    <tr>\n      <th>15</th>\n      <td>65 to 69 years</td>\n      <td>18559497</td>\n      <td>±48,925</td>\n      <td>5.6%</td>\n      <td>±0.1</td>\n      <td>8,798,968</td>\n      <td>±28,988</td>\n      <td>5.3%</td>\n      <td>±0.1</td>\n      <td>9,760,529</td>\n      <td>±33,797</td>\n      <td>5.8%</td>\n      <td>±0.1</td>\n    </tr>\n    <tr>\n      <th>16</th>\n      <td>70 to 74 years</td>\n      <td>15338575</td>\n      <td>±47,915</td>\n      <td>4.6%</td>\n      <td>±0.1</td>\n      <td>7,149,850</td>\n      <td>±29,313</td>\n      <td>4.3%</td>\n      <td>±0.1</td>\n      <td>8,188,725</td>\n      <td>±31,650</td>\n      <td>4.9%</td>\n      <td>±0.1</td>\n    </tr>\n    <tr>\n      <th>17</th>\n      <td>75 to 79 years</td>\n      <td>11005461</td>\n      <td>±38,819</td>\n      <td>3.3%</td>\n      <td>±0.1</td>\n      <td>4,901,587</td>\n      <td>±27,680</td>\n      <td>3.0%</td>\n      <td>±0.1</td>\n      <td>6,103,874</td>\n      <td>±28,196</td>\n      <td>3.6%</td>\n      <td>±0.1</td>\n    </tr>\n    <tr>\n      <th>18</th>\n      <td>80 to 84 years</td>\n      <td>6758839</td>\n      <td>±37,355</td>\n      <td>2.0%</td>\n      <td>±0.1</td>\n      <td>2,861,152</td>\n      <td>±22,549</td>\n      <td>1.7%</td>\n      <td>±0.1</td>\n      <td>3,897,687</td>\n      <td>±29,430</td>\n      <td>2.3%</td>\n      <td>±0.1</td>\n    </tr>\n    <tr>\n      <th>19</th>\n      <td>85 years and over</td>\n      <td>6159943</td>\n      <td>±36,366</td>\n      <td>1.8%</td>\n      <td>±0.1</td>\n      <td>2,213,087</td>\n      <td>±21,772</td>\n      <td>1.3%</td>\n      <td>±0.1</td>\n      <td>3,946,856</td>\n      <td>±26,394</td>\n      <td>2.3%</td>\n      <td>±0.1</td>\n    </tr>\n    <tr>\n      <th>20</th>\n      <td>SELECTED AGE CATEGORIES</td>\n      <td>NaN</td>\n      <td>NaN</td>\n      <td>NaN</td>\n      <td>NaN</td>\n      <td>NaN</td>\n      <td>NaN</td>\n      <td>NaN</td>\n      <td>NaN</td>\n      <td>NaN</td>\n      <td>NaN</td>\n      <td>NaN</td>\n      <td>NaN</td>\n    </tr>\n    <tr>\n      <th>21</th>\n      <td>5 to 14 years</td>\n      <td>40990528</td>\n      <td>±35,051</td>\n      <td>12.3%</td>\n      <td>±0.1</td>\n      <td>21,003,332</td>\n      <td>±21,855</td>\n      <td>12.7%</td>\n      <td>±0.1</td>\n      <td>19,987,196</td>\n      <td>±23,380</td>\n      <td>11.9%</td>\n      <td>±0.1</td>\n    </tr>\n    <tr>\n      <th>22</th>\n      <td>15 to 17 years</td>\n      <td>12976875</td>\n      <td>±17,315</td>\n      <td>3.9%</td>\n      <td>±0.1</td>\n      <td>6,655,455</td>\n      <td>±18,325</td>\n      <td>4.0%</td>\n      <td>±0.1</td>\n      <td>6,321,420</td>\n      <td>±17,493</td>\n      <td>3.8%</td>\n      <td>±0.1</td>\n    </tr>\n    <tr>\n      <th>23</th>\n      <td>Under 18 years</td>\n      <td>72325602</td>\n      <td>±31,891</td>\n      <td>21.7%</td>\n      <td>±0.1</td>\n      <td>37,053,677</td>\n      <td>±31,397</td>\n      <td>22.4%</td>\n      <td>±0.1</td>\n      <td>35,271,925</td>\n      <td>±31,368</td>\n      <td>21.0%</td>\n      <td>±0.1</td>\n    </tr>\n    <tr>\n      <th>24</th>\n      <td>18 to 24 years</td>\n      <td>31254823</td>\n      <td>±43,699</td>\n      <td>9.4%</td>\n      <td>±0.1</td>\n      <td>16,000,644</td>\n      <td>±24,967</td>\n      <td>9.7%</td>\n      <td>±0.1</td>\n      <td>15,254,179</td>\n      <td>±25,427</td>\n      <td>9.1%</td>\n      <td>±0.1</td>\n    </tr>\n    <tr>\n      <th>25</th>\n      <td>15 to 44 years</td>\n      <td>133512606</td>\n      <td>±31,556</td>\n      <td>40.1%</td>\n      <td>±0.1</td>\n      <td>67,948,814</td>\n      <td>±26,513</td>\n      <td>41.1%</td>\n      <td>±0.1</td>\n      <td>65,563,792</td>\n      <td>±27,137</td>\n      <td>39.0%</td>\n      <td>±0.1</td>\n    </tr>\n    <tr>\n      <th>26</th>\n      <td>16 years and over</td>\n      <td>269555318</td>\n      <td>±51,570</td>\n      <td>80.9%</td>\n      <td>±0.1</td>\n      <td>132,607,016</td>\n      <td>±41,773</td>\n      <td>80.3%</td>\n      <td>±0.1</td>\n      <td>136,948,302</td>\n      <td>±35,991</td>\n      <td>81.5%</td>\n      <td>±0.1</td>\n    </tr>\n    <tr>\n      <th>27</th>\n      <td>18 years and over</td>\n      <td>260961960</td>\n      <td>±31,876</td>\n      <td>78.3%</td>\n      <td>±0.1</td>\n      <td>128,174,537</td>\n      <td>±26,318</td>\n      <td>77.6%</td>\n      <td>±0.1</td>\n      <td>132,787,423</td>\n      <td>±21,770</td>\n      <td>79.0%</td>\n      <td>±0.1</td>\n    </tr>\n    <tr>\n      <th>28</th>\n      <td>21 years and over</td>\n      <td>247659649</td>\n      <td>±76,518</td>\n      <td>74.3%</td>\n      <td>±0.1</td>\n      <td>121,344,241</td>\n      <td>±51,806</td>\n      <td>73.4%</td>\n      <td>±0.1</td>\n      <td>126,315,408</td>\n      <td>±44,412</td>\n      <td>75.2%</td>\n      <td>±0.1</td>\n    </tr>\n    <tr>\n      <th>29</th>\n      <td>60 years and over</td>\n      <td>79396168</td>\n      <td>±72,416</td>\n      <td>23.8%</td>\n      <td>±0.1</td>\n      <td>36,417,132</td>\n      <td>±41,674</td>\n      <td>22.0%</td>\n      <td>±0.1</td>\n      <td>42,979,036</td>\n      <td>±46,925</td>\n      <td>25.6%</td>\n      <td>±0.1</td>\n    </tr>\n    <tr>\n      <th>30</th>\n      <td>62 years and over</td>\n      <td>70685247</td>\n      <td>±60,943</td>\n      <td>21.2%</td>\n      <td>±0.1</td>\n      <td>32,135,422</td>\n      <td>±37,727</td>\n      <td>19.4%</td>\n      <td>±0.1</td>\n      <td>38,549,825</td>\n      <td>±39,097</td>\n      <td>22.9%</td>\n      <td>±0.1</td>\n    </tr>\n    <tr>\n      <th>31</th>\n      <td>65 years and over</td>\n      <td>57822315</td>\n      <td>±24,459</td>\n      <td>17.3%</td>\n      <td>±0.1</td>\n      <td>25,924,644</td>\n      <td>±13,171</td>\n      <td>15.7%</td>\n      <td>±0.1</td>\n      <td>31,897,671</td>\n      <td>±15,875</td>\n      <td>19.0%</td>\n      <td>±0.1</td>\n    </tr>\n    <tr>\n      <th>32</th>\n      <td>75 years and over</td>\n      <td>23924243</td>\n      <td>±17,561</td>\n      <td>7.2%</td>\n      <td>±0.1</td>\n      <td>9,975,826</td>\n      <td>±10,712</td>\n      <td>6.0%</td>\n      <td>±0.1</td>\n      <td>13,948,417</td>\n      <td>±11,126</td>\n      <td>8.3%</td>\n      <td>±0.1</td>\n    </tr>\n    <tr>\n      <th>33</th>\n      <td>SUMMARY INDICATORS</td>\n      <td>NaN</td>\n      <td>NaN</td>\n      <td>NaN</td>\n      <td>NaN</td>\n      <td>NaN</td>\n      <td>NaN</td>\n      <td>NaN</td>\n      <td>NaN</td>\n      <td>NaN</td>\n      <td>NaN</td>\n      <td>NaN</td>\n      <td>NaN</td>\n    </tr>\n    <tr>\n      <th>34</th>\n      <td>Median age (years)</td>\n      <td>39.0</td>\n      <td>±0.1</td>\n      <td>(X)</td>\n      <td>(X)</td>\n      <td>37.9</td>\n      <td>±0.2</td>\n      <td>(X)</td>\n      <td>(X)</td>\n      <td>40.1</td>\n      <td>±0.1</td>\n      <td>(X)</td>\n      <td>(X)</td>\n    </tr>\n    <tr>\n      <th>35</th>\n      <td>Sex ratio (males per 100 females)</td>\n      <td>98.3</td>\n      <td>±0.1</td>\n      <td>(X)</td>\n      <td>(X)</td>\n      <td>(X)</td>\n      <td>(X)</td>\n      <td>(X)</td>\n      <td>(X)</td>\n      <td>(X)</td>\n      <td>(X)</td>\n      <td>(X)</td>\n      <td>(X)</td>\n    </tr>\n    <tr>\n      <th>36</th>\n      <td>Age dependency ratio</td>\n      <td>64.1</td>\n      <td>±0.1</td>\n      <td>(X)</td>\n      <td>(X)</td>\n      <td>(X)</td>\n      <td>(X)</td>\n      <td>(X)</td>\n      <td>(X)</td>\n      <td>(X)</td>\n      <td>(X)</td>\n      <td>(X)</td>\n      <td>(X)</td>\n    </tr>\n    <tr>\n      <th>37</th>\n      <td>Old-age dependency ratio</td>\n      <td>28.5</td>\n      <td>±0.1</td>\n      <td>(X)</td>\n      <td>(X)</td>\n      <td>(X)</td>\n      <td>(X)</td>\n      <td>(X)</td>\n      <td>(X)</td>\n      <td>(X)</td>\n      <td>(X)</td>\n      <td>(X)</td>\n      <td>(X)</td>\n    </tr>\n    <tr>\n      <th>38</th>\n      <td>Child dependency ratio</td>\n      <td>35.6</td>\n      <td>±0.1</td>\n      <td>(X)</td>\n      <td>(X)</td>\n      <td>(X)</td>\n      <td>(X)</td>\n      <td>(X)</td>\n      <td>(X)</td>\n      <td>(X)</td>\n      <td>(X)</td>\n      <td>(X)</td>\n      <td>(X)</td>\n    </tr>\n    <tr>\n      <th>39</th>\n      <td>PERCENT ALLOCATED</td>\n      <td>NaN</td>\n      <td>NaN</td>\n      <td>NaN</td>\n      <td>NaN</td>\n      <td>NaN</td>\n      <td>NaN</td>\n      <td>NaN</td>\n      <td>NaN</td>\n      <td>NaN</td>\n      <td>NaN</td>\n      <td>NaN</td>\n      <td>NaN</td>\n    </tr>\n    <tr>\n      <th>40</th>\n      <td>Sex</td>\n      <td>(X)</td>\n      <td>(X)</td>\n      <td>0.0%</td>\n      <td>(X)</td>\n      <td>(X)</td>\n      <td>(X)</td>\n      <td>(X)</td>\n      <td>(X)</td>\n      <td>(X)</td>\n      <td>(X)</td>\n      <td>(X)</td>\n      <td>(X)</td>\n    </tr>\n    <tr>\n      <th>41</th>\n      <td>Age</td>\n      <td>(X)</td>\n      <td>(X)</td>\n      <td>1.4%</td>\n      <td>(X)</td>\n      <td>(X)</td>\n      <td>(X)</td>\n      <td>(X)</td>\n      <td>(X)</td>\n      <td>(X)</td>\n      <td>(X)</td>\n      <td>(X)</td>\n      <td>(X)</td>\n    </tr>\n  </tbody>\n</table>\n</div>"
     },
     "execution_count": 552,
     "metadata": {},
     "output_type": "execute_result"
    }
   ],
   "source": [
    "age_and_sex_df"
   ],
   "metadata": {
    "collapsed": false,
    "ExecuteTime": {
     "end_time": "2024-05-03T20:10:52.561640600Z",
     "start_time": "2024-05-03T20:10:52.484628300Z"
    }
   },
   "id": "c2595177005dd985",
   "execution_count": 552
  },
  {
   "cell_type": "code",
   "outputs": [
    {
     "ename": "TypeError",
     "evalue": "can only concatenate str (not \"int\") to str",
     "output_type": "error",
     "traceback": [
      "\u001B[1;31m---------------------------------------------------------------------------\u001B[0m",
      "\u001B[1;31mTypeError\u001B[0m                                 Traceback (most recent call last)",
      "Cell \u001B[1;32mIn[549], line 1\u001B[0m\n\u001B[1;32m----> 1\u001B[0m \u001B[43mage_and_sex_df\u001B[49m\u001B[43m[\u001B[49m\u001B[38;5;124;43m\"\u001B[39;49m\u001B[38;5;124;43mUnited States!!Total!!Estimate\u001B[39;49m\u001B[38;5;124;43m\"\u001B[39;49m\u001B[43m]\u001B[49m\u001B[38;5;241;43m.\u001B[39;49m\u001B[43mmean\u001B[49m\u001B[43m(\u001B[49m\u001B[43m)\u001B[49m\n",
      "File \u001B[1;32m~\\Documents\\PycharmProjekte\\DeathsInvolvongPoliceDataAnalysis\\.venv\\Lib\\site-packages\\pandas\\core\\series.py:6549\u001B[0m, in \u001B[0;36mSeries.mean\u001B[1;34m(self, axis, skipna, numeric_only, **kwargs)\u001B[0m\n\u001B[0;32m   6541\u001B[0m \u001B[38;5;129m@doc\u001B[39m(make_doc(\u001B[38;5;124m\"\u001B[39m\u001B[38;5;124mmean\u001B[39m\u001B[38;5;124m\"\u001B[39m, ndim\u001B[38;5;241m=\u001B[39m\u001B[38;5;241m1\u001B[39m))\n\u001B[0;32m   6542\u001B[0m \u001B[38;5;28;01mdef\u001B[39;00m \u001B[38;5;21mmean\u001B[39m(\n\u001B[0;32m   6543\u001B[0m     \u001B[38;5;28mself\u001B[39m,\n\u001B[1;32m   (...)\u001B[0m\n\u001B[0;32m   6547\u001B[0m     \u001B[38;5;241m*\u001B[39m\u001B[38;5;241m*\u001B[39mkwargs,\n\u001B[0;32m   6548\u001B[0m ):\n\u001B[1;32m-> 6549\u001B[0m     \u001B[38;5;28;01mreturn\u001B[39;00m \u001B[43mNDFrame\u001B[49m\u001B[38;5;241;43m.\u001B[39;49m\u001B[43mmean\u001B[49m\u001B[43m(\u001B[49m\u001B[38;5;28;43mself\u001B[39;49m\u001B[43m,\u001B[49m\u001B[43m \u001B[49m\u001B[43maxis\u001B[49m\u001B[43m,\u001B[49m\u001B[43m \u001B[49m\u001B[43mskipna\u001B[49m\u001B[43m,\u001B[49m\u001B[43m \u001B[49m\u001B[43mnumeric_only\u001B[49m\u001B[43m,\u001B[49m\u001B[43m \u001B[49m\u001B[38;5;241;43m*\u001B[39;49m\u001B[38;5;241;43m*\u001B[39;49m\u001B[43mkwargs\u001B[49m\u001B[43m)\u001B[49m\n",
      "File \u001B[1;32m~\\Documents\\PycharmProjekte\\DeathsInvolvongPoliceDataAnalysis\\.venv\\Lib\\site-packages\\pandas\\core\\generic.py:12420\u001B[0m, in \u001B[0;36mNDFrame.mean\u001B[1;34m(self, axis, skipna, numeric_only, **kwargs)\u001B[0m\n\u001B[0;32m  12413\u001B[0m \u001B[38;5;28;01mdef\u001B[39;00m \u001B[38;5;21mmean\u001B[39m(\n\u001B[0;32m  12414\u001B[0m     \u001B[38;5;28mself\u001B[39m,\n\u001B[0;32m  12415\u001B[0m     axis: Axis \u001B[38;5;241m|\u001B[39m \u001B[38;5;28;01mNone\u001B[39;00m \u001B[38;5;241m=\u001B[39m \u001B[38;5;241m0\u001B[39m,\n\u001B[1;32m   (...)\u001B[0m\n\u001B[0;32m  12418\u001B[0m     \u001B[38;5;241m*\u001B[39m\u001B[38;5;241m*\u001B[39mkwargs,\n\u001B[0;32m  12419\u001B[0m ) \u001B[38;5;241m-\u001B[39m\u001B[38;5;241m>\u001B[39m Series \u001B[38;5;241m|\u001B[39m \u001B[38;5;28mfloat\u001B[39m:\n\u001B[1;32m> 12420\u001B[0m     \u001B[38;5;28;01mreturn\u001B[39;00m \u001B[38;5;28;43mself\u001B[39;49m\u001B[38;5;241;43m.\u001B[39;49m\u001B[43m_stat_function\u001B[49m\u001B[43m(\u001B[49m\n\u001B[0;32m  12421\u001B[0m \u001B[43m        \u001B[49m\u001B[38;5;124;43m\"\u001B[39;49m\u001B[38;5;124;43mmean\u001B[39;49m\u001B[38;5;124;43m\"\u001B[39;49m\u001B[43m,\u001B[49m\u001B[43m \u001B[49m\u001B[43mnanops\u001B[49m\u001B[38;5;241;43m.\u001B[39;49m\u001B[43mnanmean\u001B[49m\u001B[43m,\u001B[49m\u001B[43m \u001B[49m\u001B[43maxis\u001B[49m\u001B[43m,\u001B[49m\u001B[43m \u001B[49m\u001B[43mskipna\u001B[49m\u001B[43m,\u001B[49m\u001B[43m \u001B[49m\u001B[43mnumeric_only\u001B[49m\u001B[43m,\u001B[49m\u001B[43m \u001B[49m\u001B[38;5;241;43m*\u001B[39;49m\u001B[38;5;241;43m*\u001B[39;49m\u001B[43mkwargs\u001B[49m\n\u001B[0;32m  12422\u001B[0m \u001B[43m    \u001B[49m\u001B[43m)\u001B[49m\n",
      "File \u001B[1;32m~\\Documents\\PycharmProjekte\\DeathsInvolvongPoliceDataAnalysis\\.venv\\Lib\\site-packages\\pandas\\core\\generic.py:12377\u001B[0m, in \u001B[0;36mNDFrame._stat_function\u001B[1;34m(self, name, func, axis, skipna, numeric_only, **kwargs)\u001B[0m\n\u001B[0;32m  12373\u001B[0m nv\u001B[38;5;241m.\u001B[39mvalidate_func(name, (), kwargs)\n\u001B[0;32m  12375\u001B[0m validate_bool_kwarg(skipna, \u001B[38;5;124m\"\u001B[39m\u001B[38;5;124mskipna\u001B[39m\u001B[38;5;124m\"\u001B[39m, none_allowed\u001B[38;5;241m=\u001B[39m\u001B[38;5;28;01mFalse\u001B[39;00m)\n\u001B[1;32m> 12377\u001B[0m \u001B[38;5;28;01mreturn\u001B[39;00m \u001B[38;5;28;43mself\u001B[39;49m\u001B[38;5;241;43m.\u001B[39;49m\u001B[43m_reduce\u001B[49m\u001B[43m(\u001B[49m\n\u001B[0;32m  12378\u001B[0m \u001B[43m    \u001B[49m\u001B[43mfunc\u001B[49m\u001B[43m,\u001B[49m\u001B[43m \u001B[49m\u001B[43mname\u001B[49m\u001B[38;5;241;43m=\u001B[39;49m\u001B[43mname\u001B[49m\u001B[43m,\u001B[49m\u001B[43m \u001B[49m\u001B[43maxis\u001B[49m\u001B[38;5;241;43m=\u001B[39;49m\u001B[43maxis\u001B[49m\u001B[43m,\u001B[49m\u001B[43m \u001B[49m\u001B[43mskipna\u001B[49m\u001B[38;5;241;43m=\u001B[39;49m\u001B[43mskipna\u001B[49m\u001B[43m,\u001B[49m\u001B[43m \u001B[49m\u001B[43mnumeric_only\u001B[49m\u001B[38;5;241;43m=\u001B[39;49m\u001B[43mnumeric_only\u001B[49m\n\u001B[0;32m  12379\u001B[0m \u001B[43m\u001B[49m\u001B[43m)\u001B[49m\n",
      "File \u001B[1;32m~\\Documents\\PycharmProjekte\\DeathsInvolvongPoliceDataAnalysis\\.venv\\Lib\\site-packages\\pandas\\core\\series.py:6457\u001B[0m, in \u001B[0;36mSeries._reduce\u001B[1;34m(self, op, name, axis, skipna, numeric_only, filter_type, **kwds)\u001B[0m\n\u001B[0;32m   6452\u001B[0m     \u001B[38;5;66;03m# GH#47500 - change to TypeError to match other methods\u001B[39;00m\n\u001B[0;32m   6453\u001B[0m     \u001B[38;5;28;01mraise\u001B[39;00m \u001B[38;5;167;01mTypeError\u001B[39;00m(\n\u001B[0;32m   6454\u001B[0m         \u001B[38;5;124mf\u001B[39m\u001B[38;5;124m\"\u001B[39m\u001B[38;5;124mSeries.\u001B[39m\u001B[38;5;132;01m{\u001B[39;00mname\u001B[38;5;132;01m}\u001B[39;00m\u001B[38;5;124m does not allow \u001B[39m\u001B[38;5;132;01m{\u001B[39;00mkwd_name\u001B[38;5;132;01m}\u001B[39;00m\u001B[38;5;124m=\u001B[39m\u001B[38;5;132;01m{\u001B[39;00mnumeric_only\u001B[38;5;132;01m}\u001B[39;00m\u001B[38;5;124m \u001B[39m\u001B[38;5;124m\"\u001B[39m\n\u001B[0;32m   6455\u001B[0m         \u001B[38;5;124m\"\u001B[39m\u001B[38;5;124mwith non-numeric dtypes.\u001B[39m\u001B[38;5;124m\"\u001B[39m\n\u001B[0;32m   6456\u001B[0m     )\n\u001B[1;32m-> 6457\u001B[0m \u001B[38;5;28;01mreturn\u001B[39;00m \u001B[43mop\u001B[49m\u001B[43m(\u001B[49m\u001B[43mdelegate\u001B[49m\u001B[43m,\u001B[49m\u001B[43m \u001B[49m\u001B[43mskipna\u001B[49m\u001B[38;5;241;43m=\u001B[39;49m\u001B[43mskipna\u001B[49m\u001B[43m,\u001B[49m\u001B[43m \u001B[49m\u001B[38;5;241;43m*\u001B[39;49m\u001B[38;5;241;43m*\u001B[39;49m\u001B[43mkwds\u001B[49m\u001B[43m)\u001B[49m\n",
      "File \u001B[1;32m~\\Documents\\PycharmProjekte\\DeathsInvolvongPoliceDataAnalysis\\.venv\\Lib\\site-packages\\pandas\\core\\nanops.py:147\u001B[0m, in \u001B[0;36mbottleneck_switch.__call__.<locals>.f\u001B[1;34m(values, axis, skipna, **kwds)\u001B[0m\n\u001B[0;32m    145\u001B[0m         result \u001B[38;5;241m=\u001B[39m alt(values, axis\u001B[38;5;241m=\u001B[39maxis, skipna\u001B[38;5;241m=\u001B[39mskipna, \u001B[38;5;241m*\u001B[39m\u001B[38;5;241m*\u001B[39mkwds)\n\u001B[0;32m    146\u001B[0m \u001B[38;5;28;01melse\u001B[39;00m:\n\u001B[1;32m--> 147\u001B[0m     result \u001B[38;5;241m=\u001B[39m \u001B[43malt\u001B[49m\u001B[43m(\u001B[49m\u001B[43mvalues\u001B[49m\u001B[43m,\u001B[49m\u001B[43m \u001B[49m\u001B[43maxis\u001B[49m\u001B[38;5;241;43m=\u001B[39;49m\u001B[43maxis\u001B[49m\u001B[43m,\u001B[49m\u001B[43m \u001B[49m\u001B[43mskipna\u001B[49m\u001B[38;5;241;43m=\u001B[39;49m\u001B[43mskipna\u001B[49m\u001B[43m,\u001B[49m\u001B[43m \u001B[49m\u001B[38;5;241;43m*\u001B[39;49m\u001B[38;5;241;43m*\u001B[39;49m\u001B[43mkwds\u001B[49m\u001B[43m)\u001B[49m\n\u001B[0;32m    149\u001B[0m \u001B[38;5;28;01mreturn\u001B[39;00m result\n",
      "File \u001B[1;32m~\\Documents\\PycharmProjekte\\DeathsInvolvongPoliceDataAnalysis\\.venv\\Lib\\site-packages\\pandas\\core\\nanops.py:404\u001B[0m, in \u001B[0;36m_datetimelike_compat.<locals>.new_func\u001B[1;34m(values, axis, skipna, mask, **kwargs)\u001B[0m\n\u001B[0;32m    401\u001B[0m \u001B[38;5;28;01mif\u001B[39;00m datetimelike \u001B[38;5;129;01mand\u001B[39;00m mask \u001B[38;5;129;01mis\u001B[39;00m \u001B[38;5;28;01mNone\u001B[39;00m:\n\u001B[0;32m    402\u001B[0m     mask \u001B[38;5;241m=\u001B[39m isna(values)\n\u001B[1;32m--> 404\u001B[0m result \u001B[38;5;241m=\u001B[39m \u001B[43mfunc\u001B[49m\u001B[43m(\u001B[49m\u001B[43mvalues\u001B[49m\u001B[43m,\u001B[49m\u001B[43m \u001B[49m\u001B[43maxis\u001B[49m\u001B[38;5;241;43m=\u001B[39;49m\u001B[43maxis\u001B[49m\u001B[43m,\u001B[49m\u001B[43m \u001B[49m\u001B[43mskipna\u001B[49m\u001B[38;5;241;43m=\u001B[39;49m\u001B[43mskipna\u001B[49m\u001B[43m,\u001B[49m\u001B[43m \u001B[49m\u001B[43mmask\u001B[49m\u001B[38;5;241;43m=\u001B[39;49m\u001B[43mmask\u001B[49m\u001B[43m,\u001B[49m\u001B[43m \u001B[49m\u001B[38;5;241;43m*\u001B[39;49m\u001B[38;5;241;43m*\u001B[39;49m\u001B[43mkwargs\u001B[49m\u001B[43m)\u001B[49m\n\u001B[0;32m    406\u001B[0m \u001B[38;5;28;01mif\u001B[39;00m datetimelike:\n\u001B[0;32m    407\u001B[0m     result \u001B[38;5;241m=\u001B[39m _wrap_results(result, orig_values\u001B[38;5;241m.\u001B[39mdtype, fill_value\u001B[38;5;241m=\u001B[39miNaT)\n",
      "File \u001B[1;32m~\\Documents\\PycharmProjekte\\DeathsInvolvongPoliceDataAnalysis\\.venv\\Lib\\site-packages\\pandas\\core\\nanops.py:719\u001B[0m, in \u001B[0;36mnanmean\u001B[1;34m(values, axis, skipna, mask)\u001B[0m\n\u001B[0;32m    716\u001B[0m     dtype_count \u001B[38;5;241m=\u001B[39m dtype\n\u001B[0;32m    718\u001B[0m count \u001B[38;5;241m=\u001B[39m _get_counts(values\u001B[38;5;241m.\u001B[39mshape, mask, axis, dtype\u001B[38;5;241m=\u001B[39mdtype_count)\n\u001B[1;32m--> 719\u001B[0m the_sum \u001B[38;5;241m=\u001B[39m \u001B[43mvalues\u001B[49m\u001B[38;5;241;43m.\u001B[39;49m\u001B[43msum\u001B[49m\u001B[43m(\u001B[49m\u001B[43maxis\u001B[49m\u001B[43m,\u001B[49m\u001B[43m \u001B[49m\u001B[43mdtype\u001B[49m\u001B[38;5;241;43m=\u001B[39;49m\u001B[43mdtype_sum\u001B[49m\u001B[43m)\u001B[49m\n\u001B[0;32m    720\u001B[0m the_sum \u001B[38;5;241m=\u001B[39m _ensure_numeric(the_sum)\n\u001B[0;32m    722\u001B[0m \u001B[38;5;28;01mif\u001B[39;00m axis \u001B[38;5;129;01mis\u001B[39;00m \u001B[38;5;129;01mnot\u001B[39;00m \u001B[38;5;28;01mNone\u001B[39;00m \u001B[38;5;129;01mand\u001B[39;00m \u001B[38;5;28mgetattr\u001B[39m(the_sum, \u001B[38;5;124m\"\u001B[39m\u001B[38;5;124mndim\u001B[39m\u001B[38;5;124m\"\u001B[39m, \u001B[38;5;28;01mFalse\u001B[39;00m):\n",
      "File \u001B[1;32m~\\Documents\\PycharmProjekte\\DeathsInvolvongPoliceDataAnalysis\\.venv\\Lib\\site-packages\\numpy\\core\\_methods.py:49\u001B[0m, in \u001B[0;36m_sum\u001B[1;34m(a, axis, dtype, out, keepdims, initial, where)\u001B[0m\n\u001B[0;32m     47\u001B[0m \u001B[38;5;28;01mdef\u001B[39;00m \u001B[38;5;21m_sum\u001B[39m(a, axis\u001B[38;5;241m=\u001B[39m\u001B[38;5;28;01mNone\u001B[39;00m, dtype\u001B[38;5;241m=\u001B[39m\u001B[38;5;28;01mNone\u001B[39;00m, out\u001B[38;5;241m=\u001B[39m\u001B[38;5;28;01mNone\u001B[39;00m, keepdims\u001B[38;5;241m=\u001B[39m\u001B[38;5;28;01mFalse\u001B[39;00m,\n\u001B[0;32m     48\u001B[0m          initial\u001B[38;5;241m=\u001B[39m_NoValue, where\u001B[38;5;241m=\u001B[39m\u001B[38;5;28;01mTrue\u001B[39;00m):\n\u001B[1;32m---> 49\u001B[0m     \u001B[38;5;28;01mreturn\u001B[39;00m \u001B[43mumr_sum\u001B[49m\u001B[43m(\u001B[49m\u001B[43ma\u001B[49m\u001B[43m,\u001B[49m\u001B[43m \u001B[49m\u001B[43maxis\u001B[49m\u001B[43m,\u001B[49m\u001B[43m \u001B[49m\u001B[43mdtype\u001B[49m\u001B[43m,\u001B[49m\u001B[43m \u001B[49m\u001B[43mout\u001B[49m\u001B[43m,\u001B[49m\u001B[43m \u001B[49m\u001B[43mkeepdims\u001B[49m\u001B[43m,\u001B[49m\u001B[43m \u001B[49m\u001B[43minitial\u001B[49m\u001B[43m,\u001B[49m\u001B[43m \u001B[49m\u001B[43mwhere\u001B[49m\u001B[43m)\u001B[49m\n",
      "\u001B[1;31mTypeError\u001B[0m: can only concatenate str (not \"int\") to str"
     ]
    }
   ],
   "source": [
    "age_and_sex_df[\"United States!!Total!!Estimate\"]."
   ],
   "metadata": {
    "collapsed": false,
    "ExecuteTime": {
     "end_time": "2024-05-03T16:11:04.998684Z",
     "start_time": "2024-05-03T16:11:04.854180900Z"
    }
   },
   "id": "50ef0bb0263399dc",
   "execution_count": 549
  },
  {
   "cell_type": "code",
   "outputs": [],
   "source": [],
   "metadata": {
    "collapsed": false
   },
   "id": "4f05a270a56854b1"
  }
 ],
 "metadata": {
  "kernelspec": {
   "display_name": "Python 3",
   "language": "python",
   "name": "python3"
  },
  "language_info": {
   "codemirror_mode": {
    "name": "ipython",
    "version": 2
   },
   "file_extension": ".py",
   "mimetype": "text/x-python",
   "name": "python",
   "nbconvert_exporter": "python",
   "pygments_lexer": "ipython2",
   "version": "2.7.6"
  }
 },
 "nbformat": 4,
 "nbformat_minor": 5
}
